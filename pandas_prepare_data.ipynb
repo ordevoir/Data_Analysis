{
  "cells": [
    {
      "cell_type": "markdown",
      "metadata": {
        "id": "view-in-github",
        "colab_type": "text"
      },
      "source": [
        "<a href=\"https://colab.research.google.com/github/ordevoir/Data_Analysis/blob/main/pandas_prepare_data.ipynb\" target=\"_parent\"><img src=\"https://colab.research.google.com/assets/colab-badge.svg\" alt=\"Open In Colab\"/></a>"
      ]
    },
    {
      "cell_type": "code",
      "source": [
        "import pandas as pd\n",
        "import numpy as np\n",
        "import matplotlib.pyplot as plt\n",
        "\n",
        "housing = pd.read_csv('https://raw.githubusercontent.com/ordevoir/Data_Analysis/main/housing.csv')"
      ],
      "metadata": {
        "id": "-wZVbHn7EkIV"
      },
      "execution_count": 31,
      "outputs": []
    },
    {
      "cell_type": "code",
      "source": [
        "housing.info()"
      ],
      "metadata": {
        "colab": {
          "base_uri": "https://localhost:8080/"
        },
        "id": "QYVwfaDyNe3R",
        "outputId": "d9b29d25-02e6-41c4-a093-01d9eedf9e1f"
      },
      "execution_count": 32,
      "outputs": [
        {
          "output_type": "stream",
          "name": "stdout",
          "text": [
            "<class 'pandas.core.frame.DataFrame'>\n",
            "RangeIndex: 20640 entries, 0 to 20639\n",
            "Data columns (total 10 columns):\n",
            " #   Column              Non-Null Count  Dtype  \n",
            "---  ------              --------------  -----  \n",
            " 0   longitude           20640 non-null  float64\n",
            " 1   latitude            20640 non-null  float64\n",
            " 2   housing_median_age  20640 non-null  float64\n",
            " 3   total_rooms         20640 non-null  float64\n",
            " 4   total_bedrooms      20433 non-null  float64\n",
            " 5   population          20640 non-null  float64\n",
            " 6   households          20640 non-null  float64\n",
            " 7   median_income       20640 non-null  float64\n",
            " 8   median_house_value  20640 non-null  float64\n",
            " 9   ocean_proximity     20640 non-null  object \n",
            "dtypes: float64(9), object(1)\n",
            "memory usage: 1.6+ MB\n"
          ]
        }
      ]
    },
    {
      "cell_type": "markdown",
      "metadata": {
        "id": "4TE4NlEQt_iq"
      },
      "source": [
        "# Решение проблемы с отсутствующими признаками"
      ]
    },
    {
      "cell_type": "markdown",
      "metadata": {
        "id": "2OW2A3aUt_iq"
      },
      "source": [
        "Информация об данных показывает, что у многих образцов отсутствуют значения признака `total_bedrooms`.\n",
        "\n",
        "Большинство алгоритмов машинного обучения не могут работать с отсутствующими значениями признаков. В нашем случае мы видим, что у многих образцов отсутствуют значения признака `total_bedrooms`. Можно исправить ситуацию несколькими способами:\n",
        "\n",
        "1. избавиться от образцов, у которых отсутствуют признаки `total_bedrooms`:\n",
        "    \n",
        "    `housing.dropna(subset=[\"total_bedrooms\"])`<br>\n",
        "\n",
        "2. избавиться от самого атрибута total_bedrooms:\n",
        "\n",
        "    `housing.drop(\"total_bedrooms\", axis=1)`\n",
        "\n",
        "3. заполнить отсутствующие признаки значениями (нулями, средним арифметическим, и тд.):\n",
        "\n",
        "    `mean = housing[\"total_bedrooms\"].mean()`\n",
        "\n",
        "    `housing[\"total_bedrooms\"].fillna(mean)`\n",
        "\n",
        "в последнем случае значение `mean` следует сохранить до конца вычислений, так как для заполненных данных пересчет этого значения может дать уже другое значение.\n",
        "\n",
        "> Окончание -`na` в этих методав является аббревиатурой *Not Available* (нет в наличии). Такие методы оказывают влияние только на те ячейки таблицы данных, в которых отсутствуют значения."
      ]
    },
    {
      "cell_type": "markdown",
      "metadata": {
        "id": "GdymUVCMqz5e"
      },
      "source": [
        "## Удаление образцов\n",
        "\n",
        "Удалим образцы с отсутствующими значениями признака `total_bedrooms`."
      ]
    },
    {
      "cell_type": "code",
      "execution_count": 33,
      "metadata": {
        "id": "j1ka_UPrt_iq"
      },
      "outputs": [],
      "source": [
        "cleared_housing = housing.dropna(subset=[\"total_bedrooms\"])"
      ]
    },
    {
      "cell_type": "code",
      "execution_count": 34,
      "metadata": {
        "colab": {
          "base_uri": "https://localhost:8080/"
        },
        "id": "wtLBbL8et_iq",
        "outputId": "5d867f2d-f99f-4107-afd4-07930fc8b178"
      },
      "outputs": [
        {
          "output_type": "stream",
          "name": "stdout",
          "text": [
            "<class 'pandas.core.frame.DataFrame'>\n",
            "Int64Index: 20433 entries, 0 to 20639\n",
            "Data columns (total 10 columns):\n",
            " #   Column              Non-Null Count  Dtype  \n",
            "---  ------              --------------  -----  \n",
            " 0   longitude           20433 non-null  float64\n",
            " 1   latitude            20433 non-null  float64\n",
            " 2   housing_median_age  20433 non-null  float64\n",
            " 3   total_rooms         20433 non-null  float64\n",
            " 4   total_bedrooms      20433 non-null  float64\n",
            " 5   population          20433 non-null  float64\n",
            " 6   households          20433 non-null  float64\n",
            " 7   median_income       20433 non-null  float64\n",
            " 8   median_house_value  20433 non-null  float64\n",
            " 9   ocean_proximity     20433 non-null  object \n",
            "dtypes: float64(9), object(1)\n",
            "memory usage: 1.7+ MB\n"
          ]
        }
      ],
      "source": [
        "cleared_housing.info()"
      ]
    },
    {
      "cell_type": "markdown",
      "metadata": {
        "id": "7KnJf62drWc3"
      },
      "source": [
        "## Удаление признака\n",
        "\n",
        "Удалим признак `total_bedrooms`. Параметр `axis` определяет работаем ли мы со строками или с колонками. Значение `axis=0` соответствует строкам (образцам) а `axis=1` – колонкам (признакам)."
      ]
    },
    {
      "cell_type": "code",
      "execution_count": 35,
      "metadata": {
        "id": "RLS8d48it_iq"
      },
      "outputs": [],
      "source": [
        "cleared_housing = housing.drop(labels=[\"total_bedrooms\", \"ocean_proximity\"], axis=1)"
      ]
    },
    {
      "cell_type": "code",
      "execution_count": 36,
      "metadata": {
        "colab": {
          "base_uri": "https://localhost:8080/",
          "height": 206
        },
        "id": "W2weWR7Ht_ir",
        "outputId": "6136fc35-d1f5-4914-c856-2a69b823fff6"
      },
      "outputs": [
        {
          "output_type": "execute_result",
          "data": {
            "text/plain": [
              "   longitude  latitude  housing_median_age  total_rooms  population  \\\n",
              "0    -122.23     37.88                41.0        880.0       322.0   \n",
              "1    -122.22     37.86                21.0       7099.0      2401.0   \n",
              "2    -122.24     37.85                52.0       1467.0       496.0   \n",
              "3    -122.25     37.85                52.0       1274.0       558.0   \n",
              "4    -122.25     37.85                52.0       1627.0       565.0   \n",
              "\n",
              "   households  median_income  median_house_value  \n",
              "0       126.0         8.3252            452600.0  \n",
              "1      1138.0         8.3014            358500.0  \n",
              "2       177.0         7.2574            352100.0  \n",
              "3       219.0         5.6431            341300.0  \n",
              "4       259.0         3.8462            342200.0  "
            ],
            "text/html": [
              "\n",
              "  <div id=\"df-eeb2ff6f-c0ee-4c42-8308-79a60ddd4783\" class=\"colab-df-container\">\n",
              "    <div>\n",
              "<style scoped>\n",
              "    .dataframe tbody tr th:only-of-type {\n",
              "        vertical-align: middle;\n",
              "    }\n",
              "\n",
              "    .dataframe tbody tr th {\n",
              "        vertical-align: top;\n",
              "    }\n",
              "\n",
              "    .dataframe thead th {\n",
              "        text-align: right;\n",
              "    }\n",
              "</style>\n",
              "<table border=\"1\" class=\"dataframe\">\n",
              "  <thead>\n",
              "    <tr style=\"text-align: right;\">\n",
              "      <th></th>\n",
              "      <th>longitude</th>\n",
              "      <th>latitude</th>\n",
              "      <th>housing_median_age</th>\n",
              "      <th>total_rooms</th>\n",
              "      <th>population</th>\n",
              "      <th>households</th>\n",
              "      <th>median_income</th>\n",
              "      <th>median_house_value</th>\n",
              "    </tr>\n",
              "  </thead>\n",
              "  <tbody>\n",
              "    <tr>\n",
              "      <th>0</th>\n",
              "      <td>-122.23</td>\n",
              "      <td>37.88</td>\n",
              "      <td>41.0</td>\n",
              "      <td>880.0</td>\n",
              "      <td>322.0</td>\n",
              "      <td>126.0</td>\n",
              "      <td>8.3252</td>\n",
              "      <td>452600.0</td>\n",
              "    </tr>\n",
              "    <tr>\n",
              "      <th>1</th>\n",
              "      <td>-122.22</td>\n",
              "      <td>37.86</td>\n",
              "      <td>21.0</td>\n",
              "      <td>7099.0</td>\n",
              "      <td>2401.0</td>\n",
              "      <td>1138.0</td>\n",
              "      <td>8.3014</td>\n",
              "      <td>358500.0</td>\n",
              "    </tr>\n",
              "    <tr>\n",
              "      <th>2</th>\n",
              "      <td>-122.24</td>\n",
              "      <td>37.85</td>\n",
              "      <td>52.0</td>\n",
              "      <td>1467.0</td>\n",
              "      <td>496.0</td>\n",
              "      <td>177.0</td>\n",
              "      <td>7.2574</td>\n",
              "      <td>352100.0</td>\n",
              "    </tr>\n",
              "    <tr>\n",
              "      <th>3</th>\n",
              "      <td>-122.25</td>\n",
              "      <td>37.85</td>\n",
              "      <td>52.0</td>\n",
              "      <td>1274.0</td>\n",
              "      <td>558.0</td>\n",
              "      <td>219.0</td>\n",
              "      <td>5.6431</td>\n",
              "      <td>341300.0</td>\n",
              "    </tr>\n",
              "    <tr>\n",
              "      <th>4</th>\n",
              "      <td>-122.25</td>\n",
              "      <td>37.85</td>\n",
              "      <td>52.0</td>\n",
              "      <td>1627.0</td>\n",
              "      <td>565.0</td>\n",
              "      <td>259.0</td>\n",
              "      <td>3.8462</td>\n",
              "      <td>342200.0</td>\n",
              "    </tr>\n",
              "  </tbody>\n",
              "</table>\n",
              "</div>\n",
              "    <div class=\"colab-df-buttons\">\n",
              "\n",
              "  <div class=\"colab-df-container\">\n",
              "    <button class=\"colab-df-convert\" onclick=\"convertToInteractive('df-eeb2ff6f-c0ee-4c42-8308-79a60ddd4783')\"\n",
              "            title=\"Convert this dataframe to an interactive table.\"\n",
              "            style=\"display:none;\">\n",
              "\n",
              "  <svg xmlns=\"http://www.w3.org/2000/svg\" height=\"24px\" viewBox=\"0 -960 960 960\">\n",
              "    <path d=\"M120-120v-720h720v720H120Zm60-500h600v-160H180v160Zm220 220h160v-160H400v160Zm0 220h160v-160H400v160ZM180-400h160v-160H180v160Zm440 0h160v-160H620v160ZM180-180h160v-160H180v160Zm440 0h160v-160H620v160Z\"/>\n",
              "  </svg>\n",
              "    </button>\n",
              "\n",
              "  <style>\n",
              "    .colab-df-container {\n",
              "      display:flex;\n",
              "      gap: 12px;\n",
              "    }\n",
              "\n",
              "    .colab-df-convert {\n",
              "      background-color: #E8F0FE;\n",
              "      border: none;\n",
              "      border-radius: 50%;\n",
              "      cursor: pointer;\n",
              "      display: none;\n",
              "      fill: #1967D2;\n",
              "      height: 32px;\n",
              "      padding: 0 0 0 0;\n",
              "      width: 32px;\n",
              "    }\n",
              "\n",
              "    .colab-df-convert:hover {\n",
              "      background-color: #E2EBFA;\n",
              "      box-shadow: 0px 1px 2px rgba(60, 64, 67, 0.3), 0px 1px 3px 1px rgba(60, 64, 67, 0.15);\n",
              "      fill: #174EA6;\n",
              "    }\n",
              "\n",
              "    .colab-df-buttons div {\n",
              "      margin-bottom: 4px;\n",
              "    }\n",
              "\n",
              "    [theme=dark] .colab-df-convert {\n",
              "      background-color: #3B4455;\n",
              "      fill: #D2E3FC;\n",
              "    }\n",
              "\n",
              "    [theme=dark] .colab-df-convert:hover {\n",
              "      background-color: #434B5C;\n",
              "      box-shadow: 0px 1px 3px 1px rgba(0, 0, 0, 0.15);\n",
              "      filter: drop-shadow(0px 1px 2px rgba(0, 0, 0, 0.3));\n",
              "      fill: #FFFFFF;\n",
              "    }\n",
              "  </style>\n",
              "\n",
              "    <script>\n",
              "      const buttonEl =\n",
              "        document.querySelector('#df-eeb2ff6f-c0ee-4c42-8308-79a60ddd4783 button.colab-df-convert');\n",
              "      buttonEl.style.display =\n",
              "        google.colab.kernel.accessAllowed ? 'block' : 'none';\n",
              "\n",
              "      async function convertToInteractive(key) {\n",
              "        const element = document.querySelector('#df-eeb2ff6f-c0ee-4c42-8308-79a60ddd4783');\n",
              "        const dataTable =\n",
              "          await google.colab.kernel.invokeFunction('convertToInteractive',\n",
              "                                                    [key], {});\n",
              "        if (!dataTable) return;\n",
              "\n",
              "        const docLinkHtml = 'Like what you see? Visit the ' +\n",
              "          '<a target=\"_blank\" href=https://colab.research.google.com/notebooks/data_table.ipynb>data table notebook</a>'\n",
              "          + ' to learn more about interactive tables.';\n",
              "        element.innerHTML = '';\n",
              "        dataTable['output_type'] = 'display_data';\n",
              "        await google.colab.output.renderOutput(dataTable, element);\n",
              "        const docLink = document.createElement('div');\n",
              "        docLink.innerHTML = docLinkHtml;\n",
              "        element.appendChild(docLink);\n",
              "      }\n",
              "    </script>\n",
              "  </div>\n",
              "\n",
              "\n",
              "<div id=\"df-1e4da81a-3f65-42d7-aeb7-4e6015344978\">\n",
              "  <button class=\"colab-df-quickchart\" onclick=\"quickchart('df-1e4da81a-3f65-42d7-aeb7-4e6015344978')\"\n",
              "            title=\"Suggest charts.\"\n",
              "            style=\"display:none;\">\n",
              "\n",
              "<svg xmlns=\"http://www.w3.org/2000/svg\" height=\"24px\"viewBox=\"0 0 24 24\"\n",
              "     width=\"24px\">\n",
              "    <g>\n",
              "        <path d=\"M19 3H5c-1.1 0-2 .9-2 2v14c0 1.1.9 2 2 2h14c1.1 0 2-.9 2-2V5c0-1.1-.9-2-2-2zM9 17H7v-7h2v7zm4 0h-2V7h2v10zm4 0h-2v-4h2v4z\"/>\n",
              "    </g>\n",
              "</svg>\n",
              "  </button>\n",
              "\n",
              "<style>\n",
              "  .colab-df-quickchart {\n",
              "      --bg-color: #E8F0FE;\n",
              "      --fill-color: #1967D2;\n",
              "      --hover-bg-color: #E2EBFA;\n",
              "      --hover-fill-color: #174EA6;\n",
              "      --disabled-fill-color: #AAA;\n",
              "      --disabled-bg-color: #DDD;\n",
              "  }\n",
              "\n",
              "  [theme=dark] .colab-df-quickchart {\n",
              "      --bg-color: #3B4455;\n",
              "      --fill-color: #D2E3FC;\n",
              "      --hover-bg-color: #434B5C;\n",
              "      --hover-fill-color: #FFFFFF;\n",
              "      --disabled-bg-color: #3B4455;\n",
              "      --disabled-fill-color: #666;\n",
              "  }\n",
              "\n",
              "  .colab-df-quickchart {\n",
              "    background-color: var(--bg-color);\n",
              "    border: none;\n",
              "    border-radius: 50%;\n",
              "    cursor: pointer;\n",
              "    display: none;\n",
              "    fill: var(--fill-color);\n",
              "    height: 32px;\n",
              "    padding: 0;\n",
              "    width: 32px;\n",
              "  }\n",
              "\n",
              "  .colab-df-quickchart:hover {\n",
              "    background-color: var(--hover-bg-color);\n",
              "    box-shadow: 0 1px 2px rgba(60, 64, 67, 0.3), 0 1px 3px 1px rgba(60, 64, 67, 0.15);\n",
              "    fill: var(--button-hover-fill-color);\n",
              "  }\n",
              "\n",
              "  .colab-df-quickchart-complete:disabled,\n",
              "  .colab-df-quickchart-complete:disabled:hover {\n",
              "    background-color: var(--disabled-bg-color);\n",
              "    fill: var(--disabled-fill-color);\n",
              "    box-shadow: none;\n",
              "  }\n",
              "\n",
              "  .colab-df-spinner {\n",
              "    border: 2px solid var(--fill-color);\n",
              "    border-color: transparent;\n",
              "    border-bottom-color: var(--fill-color);\n",
              "    animation:\n",
              "      spin 1s steps(1) infinite;\n",
              "  }\n",
              "\n",
              "  @keyframes spin {\n",
              "    0% {\n",
              "      border-color: transparent;\n",
              "      border-bottom-color: var(--fill-color);\n",
              "      border-left-color: var(--fill-color);\n",
              "    }\n",
              "    20% {\n",
              "      border-color: transparent;\n",
              "      border-left-color: var(--fill-color);\n",
              "      border-top-color: var(--fill-color);\n",
              "    }\n",
              "    30% {\n",
              "      border-color: transparent;\n",
              "      border-left-color: var(--fill-color);\n",
              "      border-top-color: var(--fill-color);\n",
              "      border-right-color: var(--fill-color);\n",
              "    }\n",
              "    40% {\n",
              "      border-color: transparent;\n",
              "      border-right-color: var(--fill-color);\n",
              "      border-top-color: var(--fill-color);\n",
              "    }\n",
              "    60% {\n",
              "      border-color: transparent;\n",
              "      border-right-color: var(--fill-color);\n",
              "    }\n",
              "    80% {\n",
              "      border-color: transparent;\n",
              "      border-right-color: var(--fill-color);\n",
              "      border-bottom-color: var(--fill-color);\n",
              "    }\n",
              "    90% {\n",
              "      border-color: transparent;\n",
              "      border-bottom-color: var(--fill-color);\n",
              "    }\n",
              "  }\n",
              "</style>\n",
              "\n",
              "  <script>\n",
              "    async function quickchart(key) {\n",
              "      const quickchartButtonEl =\n",
              "        document.querySelector('#' + key + ' button');\n",
              "      quickchartButtonEl.disabled = true;  // To prevent multiple clicks.\n",
              "      quickchartButtonEl.classList.add('colab-df-spinner');\n",
              "      try {\n",
              "        const charts = await google.colab.kernel.invokeFunction(\n",
              "            'suggestCharts', [key], {});\n",
              "      } catch (error) {\n",
              "        console.error('Error during call to suggestCharts:', error);\n",
              "      }\n",
              "      quickchartButtonEl.classList.remove('colab-df-spinner');\n",
              "      quickchartButtonEl.classList.add('colab-df-quickchart-complete');\n",
              "    }\n",
              "    (() => {\n",
              "      let quickchartButtonEl =\n",
              "        document.querySelector('#df-1e4da81a-3f65-42d7-aeb7-4e6015344978 button');\n",
              "      quickchartButtonEl.style.display =\n",
              "        google.colab.kernel.accessAllowed ? 'block' : 'none';\n",
              "    })();\n",
              "  </script>\n",
              "</div>\n",
              "    </div>\n",
              "  </div>\n"
            ]
          },
          "metadata": {},
          "execution_count": 36
        }
      ],
      "source": [
        "cleared_housing.head()"
      ]
    },
    {
      "cell_type": "markdown",
      "metadata": {
        "id": "-33vQXrlru4q"
      },
      "source": [
        "## Заполнение отсутствующих ячеек\n",
        "\n",
        "Получим копию исходной таблицы данных в переменную `filled_housing`. Вычислим среднее значение и медиану признака `total_bedrooms` при помощи методов `mean()` и `median()`."
      ]
    },
    {
      "cell_type": "code",
      "execution_count": 37,
      "metadata": {
        "colab": {
          "base_uri": "https://localhost:8080/"
        },
        "id": "4u53uEW60cYn",
        "outputId": "4b8fa71f-9ada-4874-cef8-e2b9edf3dcca"
      },
      "outputs": [
        {
          "output_type": "execute_result",
          "data": {
            "text/plain": [
              "(537.8705525375618, 435.0)"
            ]
          },
          "metadata": {},
          "execution_count": 37
        }
      ],
      "source": [
        "filled_housing = housing.copy(deep=True)            # создается копия данных\n",
        "mean = filled_housing[\"total_bedrooms\"].mean()      # получаем среднее\n",
        "median = filled_housing[\"total_bedrooms\"].median()  # получаем медиану\n",
        "mean, median"
      ]
    },
    {
      "cell_type": "markdown",
      "metadata": {
        "id": "kumFrNpasZrP"
      },
      "source": [
        "Заполненим отсутствующие ячейки признака `total_bedrooms` значением `mean` используя метод `fillna()`. Метод возвращает объект класса `Series`, который можно присвоить колонке в объекте `DataFrame`. Исходный объект, у которого вызывается метод, при этом не меняется."
      ]
    },
    {
      "cell_type": "code",
      "execution_count": 38,
      "metadata": {
        "colab": {
          "base_uri": "https://localhost:8080/"
        },
        "id": "JHJ3kq3AuT3o",
        "outputId": "2fbf97ec-16cc-4046-c35a-695fcc407711"
      },
      "outputs": [
        {
          "output_type": "execute_result",
          "data": {
            "text/plain": [
              "pandas.core.series.Series"
            ]
          },
          "metadata": {},
          "execution_count": 38
        }
      ],
      "source": [
        "type(filled_housing[\"total_bedrooms\"].fillna(mean))"
      ]
    },
    {
      "cell_type": "markdown",
      "metadata": {
        "id": "VkQHIaUYwn3A"
      },
      "source": [
        "Если задать в методе параметр `inplace=True`, то произойдет заполнение значениями на месте, в колонке самого объекта. Метод при этом ничего не будет возвращать (`None`)."
      ]
    },
    {
      "cell_type": "code",
      "execution_count": 39,
      "metadata": {
        "id": "C7UGo9Lft_ir"
      },
      "outputs": [],
      "source": [
        "# filled_housing[\"total_bedrooms\"] = filled_housing[\"total_bedrooms\"].fillna(mean)\n",
        "filled_housing[\"total_bedrooms\"].fillna(mean, inplace=True)"
      ]
    },
    {
      "cell_type": "markdown",
      "metadata": {
        "id": "3vf5N3-9DvrP"
      },
      "source": [
        "# Конвертация категориальных данных\n",
        "\n",
        "Единственный текстовый атрибут в нашей выборке – это `ocean_proximity`.\n",
        "Это не произвольные текстовые значения, возможные значения ограничены, поэтому здесь имеем дело с категоральным атрибутом. Большинство алгоритмов предпочитают работать с числами, поэтому целесообразно конвертировать эти категории из текстовой формы в числовую."
      ]
    },
    {
      "cell_type": "code",
      "execution_count": 43,
      "metadata": {
        "id": "58sBX5NlDIqm",
        "colab": {
          "base_uri": "https://localhost:8080/"
        },
        "outputId": "95773013-0b4e-4099-d4ed-d4161759d95e"
      },
      "outputs": [
        {
          "output_type": "stream",
          "name": "stdout",
          "text": [
            "ocean_proximity\n",
            "<1H OCEAN          9136\n",
            "INLAND             6551\n",
            "NEAR OCEAN         2658\n",
            "NEAR BAY           2290\n",
            "ISLAND                5\n",
            "dtype: int64\n"
          ]
        }
      ],
      "source": [
        "housing_cat = housing[[\"ocean_proximity\"]]\n",
        "print(housing_cat.value_counts())"
      ]
    },
    {
      "cell_type": "code",
      "execution_count": 44,
      "metadata": {
        "id": "3OWaPHDNxDSw",
        "colab": {
          "base_uri": "https://localhost:8080/",
          "height": 206
        },
        "outputId": "f6c9532a-a285-4f74-ef69-8636ec67d4fa"
      },
      "outputs": [
        {
          "output_type": "execute_result",
          "data": {
            "text/plain": [
              "  ocean_proximity\n",
              "0        NEAR BAY\n",
              "1        NEAR BAY\n",
              "2        NEAR BAY\n",
              "3        NEAR BAY\n",
              "4        NEAR BAY"
            ],
            "text/html": [
              "\n",
              "  <div id=\"df-49d29a27-59ff-4748-9fbd-3863866b9876\" class=\"colab-df-container\">\n",
              "    <div>\n",
              "<style scoped>\n",
              "    .dataframe tbody tr th:only-of-type {\n",
              "        vertical-align: middle;\n",
              "    }\n",
              "\n",
              "    .dataframe tbody tr th {\n",
              "        vertical-align: top;\n",
              "    }\n",
              "\n",
              "    .dataframe thead th {\n",
              "        text-align: right;\n",
              "    }\n",
              "</style>\n",
              "<table border=\"1\" class=\"dataframe\">\n",
              "  <thead>\n",
              "    <tr style=\"text-align: right;\">\n",
              "      <th></th>\n",
              "      <th>ocean_proximity</th>\n",
              "    </tr>\n",
              "  </thead>\n",
              "  <tbody>\n",
              "    <tr>\n",
              "      <th>0</th>\n",
              "      <td>NEAR BAY</td>\n",
              "    </tr>\n",
              "    <tr>\n",
              "      <th>1</th>\n",
              "      <td>NEAR BAY</td>\n",
              "    </tr>\n",
              "    <tr>\n",
              "      <th>2</th>\n",
              "      <td>NEAR BAY</td>\n",
              "    </tr>\n",
              "    <tr>\n",
              "      <th>3</th>\n",
              "      <td>NEAR BAY</td>\n",
              "    </tr>\n",
              "    <tr>\n",
              "      <th>4</th>\n",
              "      <td>NEAR BAY</td>\n",
              "    </tr>\n",
              "  </tbody>\n",
              "</table>\n",
              "</div>\n",
              "    <div class=\"colab-df-buttons\">\n",
              "\n",
              "  <div class=\"colab-df-container\">\n",
              "    <button class=\"colab-df-convert\" onclick=\"convertToInteractive('df-49d29a27-59ff-4748-9fbd-3863866b9876')\"\n",
              "            title=\"Convert this dataframe to an interactive table.\"\n",
              "            style=\"display:none;\">\n",
              "\n",
              "  <svg xmlns=\"http://www.w3.org/2000/svg\" height=\"24px\" viewBox=\"0 -960 960 960\">\n",
              "    <path d=\"M120-120v-720h720v720H120Zm60-500h600v-160H180v160Zm220 220h160v-160H400v160Zm0 220h160v-160H400v160ZM180-400h160v-160H180v160Zm440 0h160v-160H620v160ZM180-180h160v-160H180v160Zm440 0h160v-160H620v160Z\"/>\n",
              "  </svg>\n",
              "    </button>\n",
              "\n",
              "  <style>\n",
              "    .colab-df-container {\n",
              "      display:flex;\n",
              "      gap: 12px;\n",
              "    }\n",
              "\n",
              "    .colab-df-convert {\n",
              "      background-color: #E8F0FE;\n",
              "      border: none;\n",
              "      border-radius: 50%;\n",
              "      cursor: pointer;\n",
              "      display: none;\n",
              "      fill: #1967D2;\n",
              "      height: 32px;\n",
              "      padding: 0 0 0 0;\n",
              "      width: 32px;\n",
              "    }\n",
              "\n",
              "    .colab-df-convert:hover {\n",
              "      background-color: #E2EBFA;\n",
              "      box-shadow: 0px 1px 2px rgba(60, 64, 67, 0.3), 0px 1px 3px 1px rgba(60, 64, 67, 0.15);\n",
              "      fill: #174EA6;\n",
              "    }\n",
              "\n",
              "    .colab-df-buttons div {\n",
              "      margin-bottom: 4px;\n",
              "    }\n",
              "\n",
              "    [theme=dark] .colab-df-convert {\n",
              "      background-color: #3B4455;\n",
              "      fill: #D2E3FC;\n",
              "    }\n",
              "\n",
              "    [theme=dark] .colab-df-convert:hover {\n",
              "      background-color: #434B5C;\n",
              "      box-shadow: 0px 1px 3px 1px rgba(0, 0, 0, 0.15);\n",
              "      filter: drop-shadow(0px 1px 2px rgba(0, 0, 0, 0.3));\n",
              "      fill: #FFFFFF;\n",
              "    }\n",
              "  </style>\n",
              "\n",
              "    <script>\n",
              "      const buttonEl =\n",
              "        document.querySelector('#df-49d29a27-59ff-4748-9fbd-3863866b9876 button.colab-df-convert');\n",
              "      buttonEl.style.display =\n",
              "        google.colab.kernel.accessAllowed ? 'block' : 'none';\n",
              "\n",
              "      async function convertToInteractive(key) {\n",
              "        const element = document.querySelector('#df-49d29a27-59ff-4748-9fbd-3863866b9876');\n",
              "        const dataTable =\n",
              "          await google.colab.kernel.invokeFunction('convertToInteractive',\n",
              "                                                    [key], {});\n",
              "        if (!dataTable) return;\n",
              "\n",
              "        const docLinkHtml = 'Like what you see? Visit the ' +\n",
              "          '<a target=\"_blank\" href=https://colab.research.google.com/notebooks/data_table.ipynb>data table notebook</a>'\n",
              "          + ' to learn more about interactive tables.';\n",
              "        element.innerHTML = '';\n",
              "        dataTable['output_type'] = 'display_data';\n",
              "        await google.colab.output.renderOutput(dataTable, element);\n",
              "        const docLink = document.createElement('div');\n",
              "        docLink.innerHTML = docLinkHtml;\n",
              "        element.appendChild(docLink);\n",
              "      }\n",
              "    </script>\n",
              "  </div>\n",
              "\n",
              "\n",
              "<div id=\"df-d75dc632-ac7c-4658-9f62-c2fbc77cd078\">\n",
              "  <button class=\"colab-df-quickchart\" onclick=\"quickchart('df-d75dc632-ac7c-4658-9f62-c2fbc77cd078')\"\n",
              "            title=\"Suggest charts.\"\n",
              "            style=\"display:none;\">\n",
              "\n",
              "<svg xmlns=\"http://www.w3.org/2000/svg\" height=\"24px\"viewBox=\"0 0 24 24\"\n",
              "     width=\"24px\">\n",
              "    <g>\n",
              "        <path d=\"M19 3H5c-1.1 0-2 .9-2 2v14c0 1.1.9 2 2 2h14c1.1 0 2-.9 2-2V5c0-1.1-.9-2-2-2zM9 17H7v-7h2v7zm4 0h-2V7h2v10zm4 0h-2v-4h2v4z\"/>\n",
              "    </g>\n",
              "</svg>\n",
              "  </button>\n",
              "\n",
              "<style>\n",
              "  .colab-df-quickchart {\n",
              "      --bg-color: #E8F0FE;\n",
              "      --fill-color: #1967D2;\n",
              "      --hover-bg-color: #E2EBFA;\n",
              "      --hover-fill-color: #174EA6;\n",
              "      --disabled-fill-color: #AAA;\n",
              "      --disabled-bg-color: #DDD;\n",
              "  }\n",
              "\n",
              "  [theme=dark] .colab-df-quickchart {\n",
              "      --bg-color: #3B4455;\n",
              "      --fill-color: #D2E3FC;\n",
              "      --hover-bg-color: #434B5C;\n",
              "      --hover-fill-color: #FFFFFF;\n",
              "      --disabled-bg-color: #3B4455;\n",
              "      --disabled-fill-color: #666;\n",
              "  }\n",
              "\n",
              "  .colab-df-quickchart {\n",
              "    background-color: var(--bg-color);\n",
              "    border: none;\n",
              "    border-radius: 50%;\n",
              "    cursor: pointer;\n",
              "    display: none;\n",
              "    fill: var(--fill-color);\n",
              "    height: 32px;\n",
              "    padding: 0;\n",
              "    width: 32px;\n",
              "  }\n",
              "\n",
              "  .colab-df-quickchart:hover {\n",
              "    background-color: var(--hover-bg-color);\n",
              "    box-shadow: 0 1px 2px rgba(60, 64, 67, 0.3), 0 1px 3px 1px rgba(60, 64, 67, 0.15);\n",
              "    fill: var(--button-hover-fill-color);\n",
              "  }\n",
              "\n",
              "  .colab-df-quickchart-complete:disabled,\n",
              "  .colab-df-quickchart-complete:disabled:hover {\n",
              "    background-color: var(--disabled-bg-color);\n",
              "    fill: var(--disabled-fill-color);\n",
              "    box-shadow: none;\n",
              "  }\n",
              "\n",
              "  .colab-df-spinner {\n",
              "    border: 2px solid var(--fill-color);\n",
              "    border-color: transparent;\n",
              "    border-bottom-color: var(--fill-color);\n",
              "    animation:\n",
              "      spin 1s steps(1) infinite;\n",
              "  }\n",
              "\n",
              "  @keyframes spin {\n",
              "    0% {\n",
              "      border-color: transparent;\n",
              "      border-bottom-color: var(--fill-color);\n",
              "      border-left-color: var(--fill-color);\n",
              "    }\n",
              "    20% {\n",
              "      border-color: transparent;\n",
              "      border-left-color: var(--fill-color);\n",
              "      border-top-color: var(--fill-color);\n",
              "    }\n",
              "    30% {\n",
              "      border-color: transparent;\n",
              "      border-left-color: var(--fill-color);\n",
              "      border-top-color: var(--fill-color);\n",
              "      border-right-color: var(--fill-color);\n",
              "    }\n",
              "    40% {\n",
              "      border-color: transparent;\n",
              "      border-right-color: var(--fill-color);\n",
              "      border-top-color: var(--fill-color);\n",
              "    }\n",
              "    60% {\n",
              "      border-color: transparent;\n",
              "      border-right-color: var(--fill-color);\n",
              "    }\n",
              "    80% {\n",
              "      border-color: transparent;\n",
              "      border-right-color: var(--fill-color);\n",
              "      border-bottom-color: var(--fill-color);\n",
              "    }\n",
              "    90% {\n",
              "      border-color: transparent;\n",
              "      border-bottom-color: var(--fill-color);\n",
              "    }\n",
              "  }\n",
              "</style>\n",
              "\n",
              "  <script>\n",
              "    async function quickchart(key) {\n",
              "      const quickchartButtonEl =\n",
              "        document.querySelector('#' + key + ' button');\n",
              "      quickchartButtonEl.disabled = true;  // To prevent multiple clicks.\n",
              "      quickchartButtonEl.classList.add('colab-df-spinner');\n",
              "      try {\n",
              "        const charts = await google.colab.kernel.invokeFunction(\n",
              "            'suggestCharts', [key], {});\n",
              "      } catch (error) {\n",
              "        console.error('Error during call to suggestCharts:', error);\n",
              "      }\n",
              "      quickchartButtonEl.classList.remove('colab-df-spinner');\n",
              "      quickchartButtonEl.classList.add('colab-df-quickchart-complete');\n",
              "    }\n",
              "    (() => {\n",
              "      let quickchartButtonEl =\n",
              "        document.querySelector('#df-d75dc632-ac7c-4658-9f62-c2fbc77cd078 button');\n",
              "      quickchartButtonEl.style.display =\n",
              "        google.colab.kernel.accessAllowed ? 'block' : 'none';\n",
              "    })();\n",
              "  </script>\n",
              "</div>\n",
              "    </div>\n",
              "  </div>\n"
            ]
          },
          "metadata": {},
          "execution_count": 44
        }
      ],
      "source": [
        "housing_cat.head()"
      ]
    },
    {
      "cell_type": "markdown",
      "metadata": {
        "id": "vv9T_cgcDaRm"
      },
      "source": [
        "## [`OrdinalEncoder`](https://scikit-learn.org/stable/modules/generated/sklearn.preprocessing.OrdinalEncoder.html)\n",
        "\n",
        "Для конвертации категориальных значений в числовые, можно использовать класс `OrdinalEncoder` из модуля `preprocessing` библиотеки `sklearn`. Для этого создается экземпляр класса `OrdinalEncoder`. Вызывается метод `fit()`, который возвращает массив числовых значений, соответствующие категориям."
      ]
    },
    {
      "cell_type": "code",
      "execution_count": 45,
      "metadata": {
        "id": "OK1En1REDIqm",
        "colab": {
          "base_uri": "https://localhost:8080/"
        },
        "outputId": "0b41bacc-8b74-48c3-ab4e-8a37a96f8e1e"
      },
      "outputs": [
        {
          "output_type": "execute_result",
          "data": {
            "text/plain": [
              "(numpy.ndarray,\n",
              " array([[3.],\n",
              "        [3.],\n",
              "        [3.]], dtype=float16))"
            ]
          },
          "metadata": {},
          "execution_count": 45
        }
      ],
      "source": [
        "from sklearn.preprocessing import OrdinalEncoder\n",
        "\n",
        "ordinal_encoder = OrdinalEncoder(dtype=np.float16)\n",
        "ordinal_encoder.fit(housing_cat)\n",
        "housing_cat_encoded = ordinal_encoder.transform(housing_cat)\n",
        "type(housing_cat_encoded), housing_cat_encoded[:3]"
      ]
    },
    {
      "cell_type": "markdown",
      "metadata": {
        "id": "DDja3QFuznbP"
      },
      "source": [
        "Нзавания категорий хранятся в поле `categories_` объекта класса `OrdinalEncoder` в виде массива, а числовые значения, кодирующие категории, соответствуют индексам этих категорий."
      ]
    },
    {
      "cell_type": "code",
      "execution_count": 46,
      "metadata": {
        "id": "R8xe4oSCzAIS",
        "colab": {
          "base_uri": "https://localhost:8080/"
        },
        "outputId": "fb96f631-deb0-4e30-8536-1567aa0d44c1"
      },
      "outputs": [
        {
          "output_type": "execute_result",
          "data": {
            "text/plain": [
              "[array(['<1H OCEAN', 'INLAND', 'ISLAND', 'NEAR BAY', 'NEAR OCEAN'],\n",
              "       dtype=object)]"
            ]
          },
          "metadata": {},
          "execution_count": 46
        }
      ],
      "source": [
        "ordinal_encoder.categories_"
      ]
    },
    {
      "cell_type": "markdown",
      "metadata": {
        "id": "138n4lqODIqm"
      },
      "source": [
        "Проблемой такого представления является то, что алгоритм может посчитать, что близкие значения параметра, например 0 и 1, свидетельствуют о том, что они ближе, чем, скажем, 0 и 4, что не соответствует действительности. Чтобы избежать таких проблем, можно создавать бинарный атрибут для категорий (*one-hot encoding*) при помощи класса `OneHotEncoder`."
      ]
    },
    {
      "cell_type": "markdown",
      "metadata": {
        "id": "wHXwJ91I0wOS"
      },
      "source": [
        "## [`OneHotEncoder`](https://scikit-learn.org/stable/modules/generated/sklearn.preprocessing.OneHotEncoder.html)\n",
        "\n",
        "Интерфейс подобен классу `OrdinalEncoder`, однако, метод `transorm()` возвращает разареженную матрицу (объект класса `csr_encoded`). Для того, чтобы получить матрицу NumPy, можно воспользоваться методом `toarray()`."
      ]
    },
    {
      "cell_type": "code",
      "execution_count": 64,
      "metadata": {
        "id": "A9b5gxkqDIqm",
        "colab": {
          "base_uri": "https://localhost:8080/"
        },
        "outputId": "00896890-19e6-45fd-fadf-b390f6f190fa"
      },
      "outputs": [
        {
          "output_type": "execute_result",
          "data": {
            "text/plain": [
              "array([[0., 0., 0., 1., 0.],\n",
              "       [0., 0., 0., 1., 0.],\n",
              "       [0., 0., 0., 1., 0.],\n",
              "       [0., 0., 0., 1., 0.],\n",
              "       [0., 0., 0., 1., 0.]])"
            ]
          },
          "metadata": {},
          "execution_count": 64
        }
      ],
      "source": [
        "from sklearn.preprocessing import OneHotEncoder\n",
        "\n",
        "cat_encoder = OneHotEncoder(sparse_output=False)\n",
        "housing_cat_encoded = cat_encoder.fit_transform(housing_cat)\n",
        "housing_cat_encoded[:5]"
      ]
    },
    {
      "cell_type": "code",
      "execution_count": 78,
      "metadata": {
        "id": "CuhV4xfK2bTv",
        "colab": {
          "base_uri": "https://localhost:8080/"
        },
        "outputId": "683a029c-299e-4185-b487-ddfd30c51944"
      },
      "outputs": [
        {
          "output_type": "execute_result",
          "data": {
            "text/plain": [
              "array(['<1H OCEAN', 'INLAND', 'ISLAND', 'NEAR BAY', 'NEAR OCEAN'],\n",
              "      dtype=object)"
            ]
          },
          "metadata": {},
          "execution_count": 78
        }
      ],
      "source": [
        "cat_encoder.categories_[0]"
      ]
    },
    {
      "cell_type": "markdown",
      "metadata": {
        "id": "Orkg7wyaDIqm"
      },
      "source": [
        "Стоит иметь в виду, что если категорий очень много, то матрица NumPy может оказаться слишком расточительной, гораздо рациональнее будет использовать разреженную матрицу. Либо попробовать заменить признак не его упорядоченное представление. Например для `ocean_proximity` заменить на расстояние до океана."
      ]
    },
    {
      "cell_type": "markdown",
      "source": [
        "## Замена категориальных признаков\n",
        "\n",
        "Мы уже получили кодированные признаки для категориального признака `ocean_proximity`. Заменим этот признак на полученные значения в `housing_cat_encoded`."
      ],
      "metadata": {
        "id": "Bxum0ETOZDk9"
      }
    },
    {
      "cell_type": "code",
      "source": [
        "housing.drop(\"ocean_proximity\", axis=1, inplace=True)\n",
        "housing[cat_encoder.categories_[0]] = housing_cat_encoded"
      ],
      "metadata": {
        "id": "nxn6urAFYNhZ"
      },
      "execution_count": 81,
      "outputs": []
    },
    {
      "cell_type": "code",
      "source": [
        "cat_encoder.categories_[0]"
      ],
      "metadata": {
        "id": "iMZen9M-e3_y",
        "outputId": "bef0f720-6314-4fa0-fb34-6047d7029f16",
        "colab": {
          "base_uri": "https://localhost:8080/"
        }
      },
      "execution_count": 75,
      "outputs": [
        {
          "output_type": "execute_result",
          "data": {
            "text/plain": [
              "array(['<1H OCEAN', 'INLAND', 'ISLAND', 'NEAR BAY', 'NEAR OCEAN'],\n",
              "      dtype=object)"
            ]
          },
          "metadata": {},
          "execution_count": 75
        }
      ]
    },
    {
      "cell_type": "code",
      "source": [
        "cat_encoder.feature_names_in_"
      ],
      "metadata": {
        "id": "VSVrMVIwoqBv",
        "outputId": "bdbd3ec6-434e-41fa-b6dc-351c028f890d",
        "colab": {
          "base_uri": "https://localhost:8080/"
        }
      },
      "execution_count": 82,
      "outputs": [
        {
          "output_type": "execute_result",
          "data": {
            "text/plain": [
              "array(['ocean_proximity'], dtype=object)"
            ]
          },
          "metadata": {},
          "execution_count": 82
        }
      ]
    },
    {
      "cell_type": "code",
      "source": [
        "housing.head()"
      ],
      "metadata": {
        "id": "paQjInGCYiub"
      },
      "execution_count": null,
      "outputs": []
    },
    {
      "cell_type": "markdown",
      "metadata": {
        "id": "lKUGsJ48t_ir"
      },
      "source": [
        "# Отделение целевого признака"
      ]
    },
    {
      "cell_type": "markdown",
      "metadata": {
        "id": "03w0hDaFt_ir"
      },
      "source": [
        "Извлекаем данные целевого признака в виде одномерного массива NumPy и записываем их в переменную `y`. Остальные признаки извлекаем в виде двумерного массива NumPy и записываем в `X`. Для этого можно использовать метод `to_numpy()`."
      ]
    },
    {
      "cell_type": "code",
      "execution_count": 93,
      "metadata": {
        "id": "QjrjCCGHt_is"
      },
      "outputs": [],
      "source": [
        "X = cleared_housing.drop(columns=['median_house_value']).to_numpy()\n",
        "y = cleared_housing['median_house_value'].to_numpy()                # целевой признак"
      ]
    },
    {
      "cell_type": "code",
      "execution_count": 91,
      "metadata": {
        "id": "BMtRBwbxt_is",
        "colab": {
          "base_uri": "https://localhost:8080/"
        },
        "outputId": "d844a122-bc2a-4c89-d335-b400828d82c9"
      },
      "outputs": [
        {
          "output_type": "stream",
          "name": "stdout",
          "text": [
            "[[-1.2223e+02  3.7880e+01  4.1000e+01  8.8000e+02  1.2900e+02  3.2200e+02\n",
            "   1.2600e+02  8.3252e+00  0.0000e+00  0.0000e+00  0.0000e+00  1.0000e+00\n",
            "   0.0000e+00  0.0000e+00  0.0000e+00  0.0000e+00  1.0000e+00  0.0000e+00]\n",
            " [-1.2222e+02  3.7860e+01  2.1000e+01  7.0990e+03  1.1060e+03  2.4010e+03\n",
            "   1.1380e+03  8.3014e+00  0.0000e+00  0.0000e+00  0.0000e+00  1.0000e+00\n",
            "   0.0000e+00  0.0000e+00  0.0000e+00  0.0000e+00  1.0000e+00  0.0000e+00]\n",
            " [-1.2224e+02  3.7850e+01  5.2000e+01  1.4670e+03  1.9000e+02  4.9600e+02\n",
            "   1.7700e+02  7.2574e+00  0.0000e+00  0.0000e+00  0.0000e+00  1.0000e+00\n",
            "   0.0000e+00  0.0000e+00  0.0000e+00  0.0000e+00  1.0000e+00  0.0000e+00]]\n"
          ]
        }
      ],
      "source": [
        "print(X[:3])"
      ]
    },
    {
      "cell_type": "code",
      "execution_count": 42,
      "metadata": {
        "id": "jDKXGtw9t_is",
        "colab": {
          "base_uri": "https://localhost:8080/"
        },
        "outputId": "b9db800e-790d-4f7d-f3db-cdc44274bab5"
      },
      "outputs": [
        {
          "output_type": "stream",
          "name": "stdout",
          "text": [
            "[452600. 358500. 352100.]\n"
          ]
        }
      ],
      "source": [
        "print(y[:3])"
      ]
    },
    {
      "cell_type": "markdown",
      "source": [
        "# Масштабирование данных"
      ],
      "metadata": {
        "id": "9cdo2dvKs_wI"
      }
    },
    {
      "cell_type": "code",
      "source": [
        "from sklearn.preprocessing import StandardScaler\n",
        "\n",
        "scaler = StandardScaler()\n",
        "scaler.fit(X)\n",
        "X_scaled = scaler.transform(X)\n",
        "X_scaled"
      ],
      "metadata": {
        "id": "OUqQW6INpjQy",
        "outputId": "b0c34d96-7d68-40b9-d84f-852513c4a7d2",
        "colab": {
          "base_uri": "https://localhost:8080/"
        }
      },
      "execution_count": 92,
      "outputs": [
        {
          "output_type": "execute_result",
          "data": {
            "text/plain": [
              "array([[-1.32783522,  1.05254828,  0.98214266, ..., -0.01556621,\n",
              "         2.83074203, -0.38446649],\n",
              "       [-1.32284391,  1.04318455, -0.60701891, ..., -0.01556621,\n",
              "         2.83074203, -0.38446649],\n",
              "       [-1.33282653,  1.03850269,  1.85618152, ..., -0.01556621,\n",
              "         2.83074203, -0.38446649],\n",
              "       ...,\n",
              "       [-0.8237132 ,  1.77823747, -0.92485123, ..., -0.01556621,\n",
              "        -0.35326426, -0.38446649],\n",
              "       [-0.87362627,  1.77823747, -0.84539315, ..., -0.01556621,\n",
              "        -0.35326426, -0.38446649],\n",
              "       [-0.83369581,  1.75014627, -1.00430931, ..., -0.01556621,\n",
              "        -0.35326426, -0.38446649]])"
            ]
          },
          "metadata": {},
          "execution_count": 92
        }
      ]
    }
  ],
  "metadata": {
    "kernelspec": {
      "display_name": "Python 3 (ipykernel)",
      "language": "python",
      "name": "python3"
    },
    "language_info": {
      "codemirror_mode": {
        "name": "ipython",
        "version": 3
      },
      "file_extension": ".py",
      "mimetype": "text/x-python",
      "name": "python",
      "nbconvert_exporter": "python",
      "pygments_lexer": "ipython3",
      "version": "3.10.10"
    },
    "colab": {
      "provenance": [],
      "toc_visible": true,
      "include_colab_link": true
    }
  },
  "nbformat": 4,
  "nbformat_minor": 0
}