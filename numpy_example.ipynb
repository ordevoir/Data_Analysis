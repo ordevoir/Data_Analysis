{
  "cells": [
    {
      "cell_type": "markdown",
      "metadata": {
        "id": "view-in-github",
        "colab_type": "text"
      },
      "source": [
        "<a href=\"https://colab.research.google.com/github/ordevoir/Data_Analysis/blob/main/numpy_example.ipynb\" target=\"_parent\"><img src=\"https://colab.research.google.com/assets/colab-badge.svg\" alt=\"Open In Colab\"/></a>"
      ]
    },
    {
      "cell_type": "markdown",
      "metadata": {
        "id": "mHPf2ZYLInGz"
      },
      "source": [
        "# NumPy <a href=\"https://numpy.org/\"><img src=\"https://numpy.org/images/logo.svg\" height=\"36\"></a>"
      ]
    },
    {
      "cell_type": "markdown",
      "metadata": {
        "id": "bO0RoNinInG1"
      },
      "source": [
        "NumPy (Numerical Python) - это библиотека для языка программирования Python, предназначенная для работы с массивами данных и выполнения математических операций над ними.\n",
        "\n",
        "NumPy предоставляет множество функций для выполнения операций линейной алгебры, обработки сигналов, обработки изображений и других вычислительных задач, которые требуют работу с массивами данных. Библиотека NumPy является основой для многих других библиотек, используемых в научных вычислениях и анализе данных, таких как Pandas, SciPy и Scikit-learn.\n",
        "\n",
        "Одним из главных преимуществ NumPy является возможность выполнения вычислений над массивами данных с высокой производительностью. NumPy использует оптимизированные алгоритмы, написанные на языке программирования C, что позволяет ему обрабатывать большие объемы данных с высокой скоростью.\n",
        "\n",
        "В NumPy определен многомерный массив (ndarray), который является основным объектом библиотеки. Этот объект представляет собой таблицу элементов (чисел), все из которых должны иметь одинаковый тип. NumPy также предоставляет функции для создания и манипулирования массивами данных, включая срезы (slicing), индексацию и изменение формы массивов. Подробности в [документации](https://numpy.org/doc/stable/).\n",
        "\n",
        "Установить библиотеку NumPy в Python можно выполнив в терминале\n",
        "\n",
        "`pip install numpy`"
      ]
    },
    {
      "cell_type": "code",
      "execution_count": null,
      "metadata": {
        "id": "xZjL5IusInG2"
      },
      "outputs": [],
      "source": [
        "import numpy as np"
      ]
    },
    {
      "cell_type": "markdown",
      "metadata": {
        "id": "g9ytDH6iInG4"
      },
      "source": [
        "## Создание массивов"
      ]
    },
    {
      "cell_type": "code",
      "execution_count": null,
      "metadata": {
        "id": "atznN9REInG4",
        "outputId": "6b26965e-c1e9-4cbf-d7aa-a877b3a34f52"
      },
      "outputs": [
        {
          "name": "stdout",
          "output_type": "stream",
          "text": [
            "[1 4 6 8] [5 6 7 8]\n",
            "lenght: 4\n",
            "type: <class 'numpy.ndarray'>\n",
            "elements type: int32\n"
          ]
        }
      ],
      "source": [
        "x1 = np.array([1, 4, 6, 8])     # явное задание одномерного массива\n",
        "\n",
        "# массив numpy можно создать из списка (list):\n",
        "some_numeric_list = [5, 6, 7, 8]\n",
        "x2 = np.array(some_numeric_list)    # создание массива из списка\n",
        "\n",
        "print(x1, x2)\n",
        "print('lenght:', len(x1))\n",
        "print('type:', type(x1))\n",
        "print('elements type:', x1.dtype)"
      ]
    },
    {
      "cell_type": "code",
      "execution_count": null,
      "metadata": {
        "id": "a3QuOtwyInG6",
        "outputId": "ed096022-501a-436a-d6aa-b4a9788c7f39"
      },
      "outputs": [
        {
          "name": "stdout",
          "output_type": "stream",
          "text": [
            "[[1. 4. 3. 2.]\n",
            " [4. 5. 6. 3.]\n",
            " [5. 1. 3. 7.]]\n",
            "array shape: (3, 4)\n"
          ]
        }
      ],
      "source": [
        "# создадим двумерный массив (матрицу) с задаыннм типом значений\n",
        "x3 = np.array([\n",
        "    [1, 4, 3, 2],\n",
        "    [4, 5, 6, 3],\n",
        "    [5, 1, 3, 7],\n",
        "], dtype=np.float32)\n",
        "print(x3)\n",
        "print('array shape:', x3.shape)"
      ]
    },
    {
      "cell_type": "markdown",
      "metadata": {
        "id": "G1m6Uf7rInG6"
      },
      "source": [
        "Здесь явно задан тип `float32`. Полный список доступных типов [здесь](https://numpy.org/doc/1.17/user/basics.types.html)."
      ]
    },
    {
      "cell_type": "code",
      "execution_count": null,
      "metadata": {
        "id": "B7cGcmrjInG7",
        "outputId": "09d0f3a6-d4d6-4b96-a42b-916e2d888f42"
      },
      "outputs": [
        {
          "name": "stdout",
          "output_type": "stream",
          "text": [
            "zeros:\n",
            " [[0. 0. 0.]\n",
            " [0. 0. 0.]]\n",
            "\n",
            "ones:\n",
            " [[1. 1. 1. 1.]\n",
            " [1. 1. 1. 1.]]\n",
            "\n",
            "full:\n",
            " [[7. 7.]\n",
            " [7. 7.]]\n"
          ]
        }
      ],
      "source": [
        "# создадим массивы заданной формы, заполненные определенным значением\n",
        "xZeros = np.zeros((2, 3))                   # заполнение нулями\n",
        "xOnes = np.ones((2, 4))                     # заполнение единицами\n",
        "xFull = np.full((2, 2), fill_value=7.0)     # заполнение числом 7\n",
        "\n",
        "print('zeros:\\n', xZeros)\n",
        "print('\\nones:\\n', xOnes)\n",
        "print('\\nfull:\\n', xFull)"
      ]
    },
    {
      "cell_type": "code",
      "execution_count": null,
      "metadata": {
        "id": "0Q5jOA1gInG8",
        "outputId": "a4cd204e-b296-431a-a4a5-f20ceb564932"
      },
      "outputs": [
        {
          "name": "stdout",
          "output_type": "stream",
          "text": [
            "\n",
            "ones like:\n",
            " [[1. 1. 1. 1.]\n",
            " [1. 1. 1. 1.]\n",
            " [1. 1. 1. 1.]]\n"
          ]
        }
      ],
      "source": [
        "# можно задать массив, заполненный определенным числом, форма\n",
        "# и тип значений которого повторяет форму и тип другого массива:\n",
        "\n",
        "xOnesLike = np.ones_like(x3)\n",
        "print('\\nones like:\\n', xOnesLike)\n",
        "\n",
        "# есть также функции zeros_like, fill_like"
      ]
    },
    {
      "cell_type": "code",
      "execution_count": null,
      "metadata": {
        "id": "Qvs6YvvpInG9",
        "outputId": "ebd6babb-92d4-4896-e4cc-9b53e5a9d32a"
      },
      "outputs": [
        {
          "name": "stdout",
          "output_type": "stream",
          "text": [
            "eye:\n",
            " [[1 0 0 0]\n",
            " [0 1 0 0]\n",
            " [0 0 1 0]\n",
            " [0 0 0 1]]\n",
            "\n",
            "diag:\n",
            " [[1 0 0 0]\n",
            " [0 2 0 0]\n",
            " [0 0 3 0]\n",
            " [0 0 0 4]]\n"
          ]
        }
      ],
      "source": [
        "# создание диагональных матриц\n",
        "xEye = np.eye(4, dtype=np.int16)    # значения по главной диагонали равны 1\n",
        "xDiag = np.diag(v=(1, 2, 3, 4))\n",
        "\n",
        "print('eye:\\n', xEye)\n",
        "print('\\ndiag:\\n', xDiag)"
      ]
    },
    {
      "cell_type": "code",
      "execution_count": null,
      "metadata": {
        "id": "pCSD4ga8InG9",
        "outputId": "d267c85c-2e32-431c-c9c1-ef4b19038e0a"
      },
      "outputs": [
        {
          "name": "stdout",
          "output_type": "stream",
          "text": [
            "[0 1 2 3 4 5 6 7 8 9]\n",
            "[ 5  7  9 11 13]\n",
            "[15 13 11  9  7]\n"
          ]
        }
      ],
      "source": [
        "# можно задать массив состоящий из последовательности в заданном\n",
        "# диапазоне с заданным шагом:\n",
        "xArange = np.arange(10)             # задан только один аргумент\n",
        "yArange = np.arange(5, 15, 2)\n",
        "zArange = np.arange(15, 5, -2)\n",
        "\n",
        "# первый аргумент: стартовное значение последовательности\n",
        "# второй аргумент: финальное значение (не входит в последовательность)\n",
        "# третий аргумент: шаг последовательности\n",
        "\n",
        "print(xArange)\n",
        "print(yArange)\n",
        "print(zArange)"
      ]
    },
    {
      "cell_type": "code",
      "execution_count": null,
      "metadata": {
        "id": "W0uv6YN8InG-",
        "outputId": "4a209fc4-29a8-47fc-cea7-8094400bee65"
      },
      "outputs": [
        {
          "name": "stdout",
          "output_type": "stream",
          "text": [
            "[ 5.          6.11111111  7.22222222  8.33333333  9.44444444 10.55555556\n",
            " 11.66666667 12.77777778 13.88888889 15.        ]\n",
            "float64\n"
          ]
        }
      ],
      "source": [
        "# равномерно распределенные значения в заданном диапазоне\n",
        "# с заданным число разбиения\n",
        "xSpace = np.linspace(5, 15, 10)\n",
        "print(xSpace)\n",
        "print(xSpace.dtype)"
      ]
    },
    {
      "cell_type": "markdown",
      "metadata": {
        "id": "hU8tU3TCInG-"
      },
      "source": [
        "Здесь приведены наиболее часто используемые способы создания массивов. Полный списко функций, создающих массивы [здесь](https://numpy.org/doc/stable/reference/routines.array-creation.html#routines-array-creation)."
      ]
    },
    {
      "cell_type": "markdown",
      "metadata": {
        "id": "Bq8ZDlEkInG-"
      },
      "source": [
        "## Операции над массивами"
      ]
    },
    {
      "cell_type": "markdown",
      "metadata": {
        "id": "hm4gp95eInG_"
      },
      "source": [
        "### Умножение всех элементов массива на число"
      ]
    },
    {
      "cell_type": "code",
      "execution_count": null,
      "metadata": {
        "id": "zReHLEsEInG_",
        "outputId": "5a4cb679-9f3f-40e4-a57a-2d9253616faf"
      },
      "outputs": [
        {
          "name": "stdout",
          "output_type": "stream",
          "text": [
            "[[ 2  4  6]\n",
            " [ 8 10 12]\n",
            " [14 16 18]]\n"
          ]
        }
      ],
      "source": [
        "# создадим первый массив:\n",
        "a = np.array([\n",
        "    [1, 2 ,3],\n",
        "    [4, 5, 6],\n",
        "    [7, 8, 9]\n",
        "])\n",
        "# второй массив создадим из первого, домножив его на 2:\n",
        "b = a * 2\n",
        "# второй массив будет результатом умножения всех элементов\n",
        "# первого массива на число 2\n",
        "print(b)"
      ]
    },
    {
      "cell_type": "markdown",
      "metadata": {
        "id": "dlZyLY3fInG_"
      },
      "source": [
        "### Поэлементные операции"
      ]
    },
    {
      "cell_type": "code",
      "execution_count": null,
      "metadata": {
        "id": "2x7pMFlBInG_",
        "outputId": "32013901-792f-4ca1-c988-c9929f6ccc84"
      },
      "outputs": [
        {
          "name": "stdout",
          "output_type": "stream",
          "text": [
            "c:\n",
            " [[ 3  6  9]\n",
            " [12 15 18]\n",
            " [21 24 27]]\n",
            "d:\n",
            " [[  2   8  18]\n",
            " [ 32  50  72]\n",
            " [ 98 128 162]]\n"
          ]
        }
      ],
      "source": [
        "c = a + b\n",
        "d = a * b\n",
        "\n",
        "print('c:\\n', c)\n",
        "print('d:\\n', d)\n",
        "\n",
        "# подобным образом можно производить и поэлментное деление и вычитание"
      ]
    },
    {
      "cell_type": "markdown",
      "metadata": {
        "id": "K7IMb8dDInHA"
      },
      "source": [
        "### Другие операции над массивами"
      ]
    },
    {
      "cell_type": "code",
      "execution_count": null,
      "metadata": {
        "id": "qlEsMrgdInHA",
        "outputId": "94996671-3dc9-4c84-845c-b8cb375d34c7"
      },
      "outputs": [
        {
          "name": "stdout",
          "output_type": "stream",
          "text": [
            "3\n",
            "27\n",
            "135\n",
            "15.0\n"
          ]
        }
      ],
      "source": [
        "print(  c.min()     )      # значение минимального элемента\n",
        "print(  c.max()     )      # значение максималаьного элемента\n",
        "print(  c.sum()     )      # сумма всех элементов массива\n",
        "print(  c.mean()    )      # среднее арифметическое от всех элементов"
      ]
    },
    {
      "cell_type": "markdown",
      "metadata": {
        "id": "SkLpPHTxInHB"
      },
      "source": [
        "### Преобразование формы при помощи метода `reshape()`\n",
        "Метод `reshape() `в классе `ndarray` библиотеки NumPy позволяет изменять форму (`shape`) массива без изменения его данных. Он возвращает новый массив с теми же данными, но с новой формой. Для этого нужно передать в качестве аргумента кортеж с новой формой. Количество элементов в массиве новой формы должно совпадать с количеством элементов исходного массива."
      ]
    },
    {
      "cell_type": "code",
      "execution_count": null,
      "metadata": {
        "id": "x8Pwgoy9InHC",
        "outputId": "d855cfcc-053a-425b-e5d5-8a60ae7ba2df"
      },
      "outputs": [
        {
          "data": {
            "text/plain": [
              "(3, 4)"
            ]
          },
          "execution_count": 14,
          "metadata": {},
          "output_type": "execute_result"
        }
      ],
      "source": [
        "a = np.array([\n",
        "            [1,  2,  3,  4],\n",
        "            [5,  6,  7,  8],\n",
        "            [9, 10, 11, 12],\n",
        "            ])\n",
        "a.shape"
      ]
    },
    {
      "cell_type": "code",
      "execution_count": null,
      "metadata": {
        "id": "wQYth8JhInHC",
        "outputId": "38b1f62d-0398-4f0d-c924-6bf40b4ced5b"
      },
      "outputs": [
        {
          "data": {
            "text/plain": [
              "array([[ 1,  2,  3],\n",
              "       [ 4,  5,  6],\n",
              "       [ 7,  8,  9],\n",
              "       [10, 11, 12]])"
            ]
          },
          "execution_count": 15,
          "metadata": {},
          "output_type": "execute_result"
        }
      ],
      "source": [
        "a.reshape((4, 3))"
      ]
    },
    {
      "cell_type": "code",
      "execution_count": null,
      "metadata": {
        "id": "Ha5y8YgYInHC",
        "outputId": "446ea33d-b2dd-432d-b828-7cb6e2bac352"
      },
      "outputs": [
        {
          "data": {
            "text/plain": [
              "array([[[ 1,  2,  3],\n",
              "        [ 4,  5,  6]],\n",
              "\n",
              "       [[ 7,  8,  9],\n",
              "        [10, 11, 12]]])"
            ]
          },
          "execution_count": 16,
          "metadata": {},
          "output_type": "execute_result"
        }
      ],
      "source": [
        "a.reshape((2, 2, 3))"
      ]
    },
    {
      "cell_type": "markdown",
      "metadata": {
        "id": "C-mxbNMxInHC"
      },
      "source": [
        "Если в метод `reshape()` передать кортеж формы, содержащий значение `-1`, то это значение будет заменено на вычисленное автоматически значение, которое гарантирует, что общее количество элементов массива останется неизменным."
      ]
    },
    {
      "cell_type": "code",
      "execution_count": null,
      "metadata": {
        "id": "xqE6HdiIInHD",
        "outputId": "2c11cd45-8e4f-45fc-93a0-9f1de7b5fc3e"
      },
      "outputs": [
        {
          "data": {
            "text/plain": [
              "array([[ 1,  2,  3,  4,  5,  6],\n",
              "       [ 7,  8,  9, 10, 11, 12]])"
            ]
          },
          "execution_count": 17,
          "metadata": {},
          "output_type": "execute_result"
        }
      ],
      "source": [
        "a.reshape((2, -1))\n",
        "# втрым значением формы будет 6:"
      ]
    },
    {
      "cell_type": "code",
      "execution_count": null,
      "metadata": {
        "id": "UmkqBiJZInHD",
        "outputId": "874b6a05-3c63-4bea-b31c-acbb0bb886cd"
      },
      "outputs": [
        {
          "data": {
            "text/plain": [
              "array([ 1,  2,  3,  4,  5,  6,  7,  8,  9, 10, 11, 12])"
            ]
          },
          "execution_count": 18,
          "metadata": {},
          "output_type": "execute_result"
        }
      ],
      "source": [
        "a.reshape(-1)"
      ]
    },
    {
      "cell_type": "code",
      "execution_count": null,
      "metadata": {
        "id": "-oMJDQQtInHD",
        "outputId": "8b7ee7e7-ad4e-4ad0-8f94-7fec85dacd5b"
      },
      "outputs": [
        {
          "data": {
            "text/plain": [
              "array([[ 1],\n",
              "       [ 2],\n",
              "       [ 3],\n",
              "       [ 4],\n",
              "       [ 5],\n",
              "       [ 6],\n",
              "       [ 7],\n",
              "       [ 8],\n",
              "       [ 9],\n",
              "       [10],\n",
              "       [11],\n",
              "       [12]])"
            ]
          },
          "execution_count": 19,
          "metadata": {},
          "output_type": "execute_result"
        }
      ],
      "source": [
        "a.reshape((-1, 1))"
      ]
    },
    {
      "cell_type": "markdown",
      "metadata": {
        "id": "xV4dVAwxInHA"
      },
      "source": [
        "## Доступ к элментам массива по индексам"
      ]
    },
    {
      "cell_type": "code",
      "execution_count": null,
      "metadata": {
        "id": "1gTLm8nBInHB",
        "outputId": "58df9293-2a3b-420b-df24-6ad3e0f67d0b"
      },
      "outputs": [
        {
          "name": "stdout",
          "output_type": "stream",
          "text": [
            "[21 24 27]\n",
            "[ 6 15 24]\n",
            "21\n"
          ]
        }
      ],
      "source": [
        "print(c[2])     # доступ к строке с индексом 2\n",
        "print(c[:, 1])  # доступ к столбцу с индексом 1\n",
        "print(c[2, 0])  # доступ к элементу 2-ой строки 0-го столбца\n",
        "c[0, 1] = 42    # изменение значения элемента 0-ой строки 1-го столбца"
      ]
    },
    {
      "cell_type": "code",
      "execution_count": null,
      "metadata": {
        "id": "uDSTIGooInHB",
        "outputId": "1a119674-faa3-412c-c897-c942aea0ea5f"
      },
      "outputs": [
        {
          "name": "stdout",
          "output_type": "stream",
          "text": [
            "3\n",
            "42\n",
            "9\n",
            "12\n",
            "15\n",
            "18\n",
            "21\n",
            "24\n",
            "27\n"
          ]
        }
      ],
      "source": [
        "# перебор всех элементов двумерного массива в цикле\n",
        "for i in range(c.shape[0]):\n",
        "    for j in range(c.shape[1]):\n",
        "        print(c[i, j])"
      ]
    },
    {
      "cell_type": "markdown",
      "metadata": {
        "id": "DP9YcXmPInHD"
      },
      "source": [
        "## Фильтрация массивов"
      ]
    },
    {
      "cell_type": "code",
      "execution_count": null,
      "metadata": {
        "id": "uuE1XGatInHE",
        "outputId": "7a55b6ce-8ceb-4986-adda-534ea8f6e86f"
      },
      "outputs": [
        {
          "data": {
            "text/plain": [
              "array([False,  True, False, False,  True, False])"
            ]
          },
          "execution_count": 20,
          "metadata": {},
          "output_type": "execute_result"
        }
      ],
      "source": [
        "# операции сравнения\n",
        "a = np.array([1, 2, 3, 3, 2, 1])\n",
        "a == 2"
      ]
    },
    {
      "cell_type": "code",
      "execution_count": null,
      "metadata": {
        "id": "UsZhuWXUInHE",
        "outputId": "be96112d-71d0-4397-d5f4-443f768021d0"
      },
      "outputs": [
        {
          "name": "stdout",
          "output_type": "stream",
          "text": [
            "[1 2 3 3 2 1]\n",
            "[ True  True False False  True  True]\n",
            "[1 2 2 1]\n"
          ]
        }
      ],
      "source": [
        "print(a)\n",
        "a_mask = (a <= 2)\n",
        "print(a_mask)\n",
        "extract = a[a_mask]\n",
        "print(extract)"
      ]
    },
    {
      "cell_type": "code",
      "execution_count": null,
      "metadata": {
        "id": "XnF2LmbSInHE",
        "outputId": "8d1a6305-11a1-43db-c43b-d1845b30a56f"
      },
      "outputs": [
        {
          "data": {
            "text/plain": [
              "(3, 4)"
            ]
          },
          "execution_count": 22,
          "metadata": {},
          "output_type": "execute_result"
        }
      ],
      "source": [
        "b = np.array([\n",
        "    [1, 4, 3, 2],\n",
        "    [4, 5, 6, 3],\n",
        "    [5, 1, 3, 7],\n",
        "], dtype=np.int8)\n",
        "b.shape"
      ]
    },
    {
      "cell_type": "code",
      "execution_count": null,
      "metadata": {
        "id": "Nl9cFjknInHE",
        "outputId": "ffb3b44b-f067-466c-9e0f-30cc465aa28e"
      },
      "outputs": [
        {
          "data": {
            "text/plain": [
              "array([[1, 4, 3, 2],\n",
              "       [5, 1, 3, 7]], dtype=int8)"
            ]
          },
          "execution_count": 23,
          "metadata": {},
          "output_type": "execute_result"
        }
      ],
      "source": [
        "mask = [True, False, True]\n",
        "extracted = b[mask]\n",
        "extracted"
      ]
    },
    {
      "cell_type": "code",
      "execution_count": null,
      "metadata": {
        "id": "o3omtpspInHF",
        "outputId": "0a446f38-01b6-4535-89cb-65009ca389cf"
      },
      "outputs": [
        {
          "data": {
            "text/plain": [
              "array([[1, 4, 3, 2],\n",
              "       [5, 1, 3, 7]], dtype=int8)"
            ]
          },
          "execution_count": 24,
          "metadata": {},
          "output_type": "execute_result"
        }
      ],
      "source": [
        "b[(0, 2), :]"
      ]
    },
    {
      "cell_type": "code",
      "execution_count": null,
      "metadata": {
        "id": "6dJf-bj_InHF",
        "outputId": "a2f2ad8f-4fdb-4a10-ebe1-aa8e7e80e8a6"
      },
      "outputs": [
        {
          "data": {
            "text/plain": [
              "array([[1, 3],\n",
              "       [4, 6],\n",
              "       [5, 3]], dtype=int8)"
            ]
          },
          "execution_count": 25,
          "metadata": {},
          "output_type": "execute_result"
        }
      ],
      "source": [
        "mask = [True, False, True, False]\n",
        "b[:, mask]"
      ]
    },
    {
      "cell_type": "code",
      "execution_count": null,
      "metadata": {
        "id": "7BsatplIInHF",
        "outputId": "1b127aad-de25-49b5-e8cc-092a33821063"
      },
      "outputs": [
        {
          "data": {
            "text/plain": [
              "array([[1, 3],\n",
              "       [4, 6],\n",
              "       [5, 3]], dtype=int8)"
            ]
          },
          "execution_count": 26,
          "metadata": {},
          "output_type": "execute_result"
        }
      ],
      "source": [
        "b[:, (0, 2)]"
      ]
    },
    {
      "cell_type": "code",
      "execution_count": null,
      "metadata": {
        "id": "4A-3sEaYInHL",
        "outputId": "1ef72f71-abfc-44af-fa02-f884ed286747"
      },
      "outputs": [
        {
          "data": {
            "text/plain": [
              "array([[ 6,  7,  8],\n",
              "       [ 3,  4,  5],\n",
              "       [ 9, 10, 11],\n",
              "       [ 3,  4,  5],\n",
              "       [ 3,  4,  5],\n",
              "       [ 6,  7,  8],\n",
              "       [ 9, 10, 11]])"
            ]
          },
          "execution_count": 3,
          "metadata": {},
          "output_type": "execute_result"
        }
      ],
      "source": [
        "c = np.array([[ 0,  1,  2],     # row index 0\n",
        "              [ 3,  4,  5],     # row index 1\n",
        "              [ 6,  7,  8],     # row index 2\n",
        "              [ 9, 10, 11]])    # row index 3\n",
        "\n",
        "# составим массив из индексов строк массива c:\n",
        "d = np.array([2, 1, 3, 1, 1, 2, 3])\n",
        "\n",
        "e = c[d]"
      ]
    },
    {
      "cell_type": "markdown",
      "metadata": {
        "id": "bJHTLfl_InHM"
      },
      "source": [
        "Массив `e` составлен из строк массива `c`, а число строк равно длине массива `d`. Строки в `e` выбраны из строк `c` в соответствии с индексами, представленными в `d`."
      ]
    }
  ],
  "metadata": {
    "kernelspec": {
      "display_name": "tf",
      "language": "python",
      "name": "python3"
    },
    "language_info": {
      "codemirror_mode": {
        "name": "ipython",
        "version": 3
      },
      "file_extension": ".py",
      "mimetype": "text/x-python",
      "name": "python",
      "nbconvert_exporter": "python",
      "pygments_lexer": "ipython3",
      "version": "3.9.12"
    },
    "orig_nbformat": 4,
    "colab": {
      "provenance": [],
      "toc_visible": true,
      "include_colab_link": true
    }
  },
  "nbformat": 4,
  "nbformat_minor": 0
}