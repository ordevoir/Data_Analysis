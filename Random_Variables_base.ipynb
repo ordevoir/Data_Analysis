{
  "cells": [
    {
      "cell_type": "markdown",
      "metadata": {
        "id": "view-in-github",
        "colab_type": "text"
      },
      "source": [
        "<a href=\"https://colab.research.google.com/github/ordevoir/Data_Analysis/blob/main/Random_Variables_base.ipynb\" target=\"_parent\"><img src=\"https://colab.research.google.com/assets/colab-badge.svg\" alt=\"Open In Colab\"/></a>"
      ]
    },
    {
      "cell_type": "markdown",
      "metadata": {
        "id": "NPbLO_cBMGLA"
      },
      "source": [
        "# Случайные величины\n",
        "\n",
        "**Случайная величина** (*random variable*) представляет собой переменную, которая в результате испытаний принимает одно из возможных значений, наперед не известное и зависящее от случайных причин, которые заранее не могут быть учтены.\n",
        "\n",
        "**Дискретная** (*discrete*) случайная величина принимает изолированные значения, в то время как **непрерывная** (*continuous*) случайная величина принимает значения из некоторого непрерывного конечного или бесконечного промежутка.\n",
        "\n",
        "**Законом распределения дискретной случайной величины** называется соответствие между возможными значениями и их вероятностями."
      ]
    },
    {
      "cell_type": "markdown",
      "metadata": {
        "id": "qQWhQs0LMGLS"
      },
      "source": [
        "# Дискретная случайная величина"
      ]
    },
    {
      "cell_type": "markdown",
      "metadata": {
        "id": "fogucXDObM8_"
      },
      "source": [
        "## Распределение вероятностей <img id='distribution'>\n",
        "\n",
        "Сформируем дискретную случайную величину, определив множество возможных значений и вероятности их выпадения в массивах `X` и `p`. Соответствие между элементами `X` и `p` определяют закон распределения данной случайной величины. Сумма всех вероятностей в `p`, очевидно, должна равняться 1, так как при любом испытании вероятность выпадения одного из возможных значений `X` равна 1. Данная случайная величина имеет 9 возможных значений. Значение `p[i]` определяет вероятность выпадения значения `X[i]`."
      ]
    },
    {
      "cell_type": "code",
      "execution_count": null,
      "metadata": {
        "id": "6zA183_lMGLT",
        "outputId": "73a9939a-fe5f-4cc9-f2c4-946c00c0a915"
      },
      "outputs": [
        {
          "name": "stdout",
          "output_type": "stream",
          "text": [
            "len(X) = 9, len(p) = 9, sum(p) = 1.0\n"
          ]
        }
      ],
      "source": [
        "import numpy as np\n",
        "import matplotlib.pyplot as plt\n",
        "\n",
        "X = np.array([-3, -2, -1, 0, 1, 2, 3, 4, 5])\n",
        "p = np.array([0.05, 0.06, 0.13, 0.24, 0.06, 0.15, 0.14, 0.08, 0.09])\n",
        "\n",
        "print(f\"{len(X) = }, {len(p) = }, {sum(p) = }\")"
      ]
    },
    {
      "cell_type": "markdown",
      "metadata": {
        "id": "fDHsp5V_bM9B"
      },
      "source": [
        "Визуализируем **распределение вероятностей** (*Probability Distribution*) в виде **столбчатой диаграммы** (*bar chart*):"
      ]
    },
    {
      "cell_type": "code",
      "execution_count": null,
      "metadata": {
        "id": "TZNH0raUbM9C",
        "outputId": "aad7b229-fee3-45a8-8586-96eef15840ba"
      },
      "outputs": [
        {
          "data": {
            "text/plain": [
              "Text(0, 0.5, 'probabilities')"
            ]
          },
          "execution_count": 5,
          "metadata": {},
          "output_type": "execute_result"
        },
        {
          "data": {
            "image/png": "[encoded data removed]",
            "text/plain": [
              "<Figure size 640x480 with 1 Axes>"
            ]
          },
          "metadata": {},
          "output_type": "display_data"
        }
      ],
      "source": [
        "plt.bar(X, p)\n",
        "plt.xlabel('values')\n",
        "plt.ylabel('probabilities')"
      ]
    },
    {
      "cell_type": "markdown",
      "metadata": {
        "id": "r0b2Ks-wbM9C"
      },
      "source": [
        "## Выборка <img id=\"discrete-sample\">\n",
        "\n",
        "Если бы проивзодилось множество испытаний заданной случайной величины, то мы получили бы последовательность, сотоящую из значений, которые может принимать случайная величина. В статистике такой набор значений случайной величины называется **выборкой** (*sample*). Отдельные элементы выборки называются **образцами** (*examples*). Произведем 100000 испытаний. Для генерации воспользуемся функцией `choice()`:\n",
        "- первым аргументом подается массив из возможных значений;\n",
        "- вторым аргументом определяется размер выборки;\n",
        "- в именованный аргумент `p` передается массив вероятностей."
      ]
    },
    {
      "cell_type": "code",
      "execution_count": null,
      "metadata": {
        "id": "GH9j1BXYbM9C",
        "outputId": "d439ffc9-d88f-4b60-90c5-f4b50599c8a3"
      },
      "outputs": [
        {
          "name": "stdout",
          "output_type": "stream",
          "text": [
            "100000\n",
            "[ 0  4  0 -2 -1  0  0 -1  4  3 -3  3  3  1  0  5]\n"
          ]
        }
      ],
      "source": [
        "sample_discrete = np.random.choice(X, 100000, p=p)\n",
        "print(len(sample_discrete))     # размер выборки\n",
        "print(sample_discrete[:16])     # первые 16 значений"
      ]
    },
    {
      "cell_type": "markdown",
      "metadata": {
        "id": "-ncup4pmbM9D"
      },
      "source": [
        "Заметим, что значения берутся из массива `X` и естественно, что эти значения повторяются в выборке. Частота появления того или иного значения в выборке определяется его вероятностью."
      ]
    },
    {
      "cell_type": "markdown",
      "metadata": {
        "id": "QplPZ_e-xaDA"
      },
      "source": [
        "## Функция вероятности **PMF**\n",
        "Функцию, которая возвращает вероятность того, что дискретная случайная величина $X$ примет *определенное* значение $n$ называется **функцией вероятности** (*Probability Mass Function* - PMF):"
      ]
    },
    {
      "cell_type": "code",
      "execution_count": null,
      "metadata": {
        "id": "W9N_Gb6gxaDA",
        "outputId": "65100ed6-09a8-42ed-93bb-726233c1947e"
      },
      "outputs": [
        {
          "data": {
            "text/plain": [
              "0.13"
            ]
          },
          "execution_count": 7,
          "metadata": {},
          "output_type": "execute_result"
        }
      ],
      "source": [
        "def pmf(n, X, p):\n",
        "    index = None\n",
        "    for i in range(len(X)):\n",
        "        if X[i] == n:\n",
        "            index = i\n",
        "            break\n",
        "    return 0 if index is None else p[index]\n",
        "\n",
        "pmf(-1, X, p)   # вероятность выпадения значения -1"
      ]
    },
    {
      "cell_type": "markdown",
      "metadata": {
        "id": "3oDmTtNxMGLU"
      },
      "source": [
        "## Функция распределения **CDF**\n",
        "\n",
        "**Функцией распределения** (*Cumulative Distribution Function* - CDF) случайной величины называется функция $F(x)$, определяющая вероятность того, что случайная величина $X$ в результате испытаний примет значение, *меньшее*, чем $x$. Функция распределения, очевидно, является монотонной неубывающей функцией.\n",
        "\n",
        "Определим функцию `cdf()`, которая по заданному `x` возвращает значение функции распределения данной случайной величины."
      ]
    },
    {
      "cell_type": "code",
      "execution_count": null,
      "metadata": {
        "colab": {
          "base_uri": "https://localhost:8080/"
        },
        "id": "ALN0UR8DM5nS",
        "outputId": "c93a511a-c026-49f0-c845-c444cd34d48d"
      },
      "outputs": [
        {
          "data": {
            "text/plain": [
              "0.91"
            ]
          },
          "execution_count": 8,
          "metadata": {},
          "output_type": "execute_result"
        }
      ],
      "source": [
        "def cdf(x, X, p):\n",
        "    probability = 0\n",
        "    for i in range(len(X)):\n",
        "        if X[i] < x:\n",
        "            probability += p[i]\n",
        "    return probability\n",
        "\n",
        "# вероятность выпадения значения, меньшего, чем 5\n",
        "cdf(5, X, p)"
      ]
    },
    {
      "cell_type": "markdown",
      "metadata": {
        "id": "w1bJnt-ibM9E"
      },
      "source": [
        "Визуализируем функцию распределения."
      ]
    },
    {
      "cell_type": "code",
      "execution_count": null,
      "metadata": {
        "colab": {
          "base_uri": "https://localhost:8080/",
          "height": 538
        },
        "id": "td6o7Iw5STsq",
        "outputId": "4d916b21-fcce-40fb-dac6-40ee772215ee"
      },
      "outputs": [
        {
          "name": "stdout",
          "output_type": "stream",
          "text": [
            "values = array([-5, -4, -3, -2, -1,  0,  1,  2,  3,  4,  5,  6,  7,  8])\n",
            "cdf_sequence = array([0.  , 0.  , 0.  , 0.05, 0.11, 0.24, 0.48, 0.54, 0.69, 0.83, 0.91,\n",
            "       1.  , 1.  , 1.  ])\n"
          ]
        },
        {
          "data": {
            "image/png": "[encoded data removed]",
            "text/plain": [
              "<Figure size 640x480 with 1 Axes>"
            ]
          },
          "metadata": {},
          "output_type": "display_data"
        }
      ],
      "source": [
        "values = np.arange(-5, 9)\n",
        "cdf_sequence = np.zeros(14)\n",
        "\n",
        "for i in range(len(values)):\n",
        "    c = cdf(values[i], X, p)\n",
        "    cdf_sequence[i] = c\n",
        "\n",
        "plt.plot(values, cdf_sequence)\n",
        "plt.xlabel(\"X\")\n",
        "plt.ylabel(\"CDF\")\n",
        "print(f\"{values = }\\n{cdf_sequence = }\")"
      ]
    },
    {
      "cell_type": "markdown",
      "metadata": {
        "id": "zulhok_5xaDB"
      },
      "source": [
        "Заметим, что для дискретной случайной величины функция распределения не является гладкой.\n",
        "> Вероятность $p$ того, что случайная величина примет значение, лежащее на полуинтервале $[a, b)$, равна приращению функции распределения на этом интервале:\n",
        ">$$\n",
        "p(a \\leq X < b) = F(a) - F(b)\n",
        "$$"
      ]
    },
    {
      "cell_type": "markdown",
      "metadata": {
        "id": "69cwnrMibM9F"
      },
      "source": [
        "# Непрерывная случайная величина\n",
        "\n",
        "Функция распределения непрерывной случайной величины может быть гладкой, и в общем случае является кусочно-дифференцируемой. В отличие от дискретного случая, функция распределения непрерывной случайной величины определена не некоторой непрерывной области.\n",
        "\n",
        "Пусть функция распределения задана сигмоидой c $\\alpha = 0.1$. В этом случае функция распределения определена на всей числовой прямой, и является всюду дифференцируемой.\n",
        "\n",
        "Визуализируем фукнцию распределения на отрезке $[-100, 100]$:"
      ]
    },
    {
      "cell_type": "markdown",
      "metadata": {
        "id": "v9S5CCUIbM9F"
      },
      "source": []
    },
    {
      "cell_type": "code",
      "execution_count": null,
      "metadata": {
        "id": "HAGpaHabxaDB",
        "outputId": "fa6b3ef2-3511-4bd0-bc2a-ea1e69da62e7"
      },
      "outputs": [
        {
          "data": {
            "text/plain": [
              "Text(0, 0.5, 'CDF')"
            ]
          },
          "execution_count": 10,
          "metadata": {},
          "output_type": "execute_result"
        },
        {
          "data": {
            "image/png": "[encoded data removed]",
            "text/plain": [
              "<Figure size 640x480 with 1 Axes>"
            ]
          },
          "metadata": {},
          "output_type": "display_data"
        }
      ],
      "source": [
        "def sigmoid(x, alpha=0.1):\n",
        "    return 1 / (1 + np.exp(-alpha * x))\n",
        "\n",
        "segment = np.linspace(-100, 100, 1000)\n",
        "cdf_sequence = np.zeros_like(segment)\n",
        "\n",
        "for i in range(len(segment)):\n",
        "    cdf_sequence[i] = sigmoid(segment[i])\n",
        "\n",
        "plt.plot(segment, cdf_sequence)\n",
        "plt.xlabel('X')\n",
        "plt.ylabel('CDF')"
      ]
    },
    {
      "cell_type": "markdown",
      "metadata": {
        "id": "Dm0F5xnnWJ1u"
      },
      "source": [
        "### Плотность вероятности **PDF**\n",
        "\n",
        "Когда мы имеем дело с непрерывной случайной величиной, определенной на некотором открытом или закрытом промежуте, то вероятность выпадения определенного значения равна нулю. Поэтому вместо распределения вероятностей для задания закона распределения случайной величины используется **плотность вероятности** (*Probability Density Function* - PDF), которая определяет вероятность выпадения значений, лежащих в некотором диапозоне.\n",
        "\n",
        "Функция плотности вероятности $f(x)$ может быть задана явно, но если известна функция распределения $F(x)$, плотность вероятности может быть получена как производная от функции распределения:\n",
        "$$\n",
        "f(x) = \\frac{dF}{dx}\n",
        "$$"
      ]
    },
    {
      "cell_type": "markdown",
      "metadata": {
        "id": "ND-0RkrNxaDB"
      },
      "source": [
        "Напишем функцию `deriv_sigmoid`, которая возвращает значение производной сигмоиды в точе `x`. Тогда мы сможем получить значения плотности вероятности на рассматриваемом отрезке `segment`:"
      ]
    },
    {
      "cell_type": "code",
      "execution_count": null,
      "metadata": {
        "id": "PcjrxZ8_xaDB",
        "outputId": "3eb8cc63-3be1-41b1-ebea-01333e562c51"
      },
      "outputs": [
        {
          "data": {
            "text/plain": [
              "Text(0, 0.5, 'PDF')"
            ]
          },
          "execution_count": 11,
          "metadata": {},
          "output_type": "execute_result"
        },
        {
          "data": {
            "image/png": "[encoded data removed]",
            "text/plain": [
              "<Figure size 640x480 with 1 Axes>"
            ]
          },
          "metadata": {},
          "output_type": "display_data"
        }
      ],
      "source": [
        "def deriv_sigmoid(x, alpha=0.1):\n",
        "    return sigmoid(x, alpha) * (1 - sigmoid(x, alpha))\n",
        "\n",
        "pdf = deriv_sigmoid\n",
        "\n",
        "pdf = np.zeros_like(segment)\n",
        "for i in range(len(segment)):\n",
        "    pdf[i] = deriv_sigmoid(segment[i])\n",
        "\n",
        "plt.plot(segment, pdf)\n",
        "plt.xlabel('X')\n",
        "plt.ylabel('PDF')"
      ]
    },
    {
      "cell_type": "markdown",
      "metadata": {
        "id": "4vRMylY3xaDB"
      },
      "source": [
        "### Вычисление вероятностей\n",
        "\n",
        "Для непрерывных случайных величин нет смысла вычислять вероятность выпадения определенного значения, эта вероятность всегда будет равна 0. Вместо этого имеет смысл определять вероятность выпадения значения, лежащего на некотором отрезке $[a, b]$. Это легко сделать, если известна фукнция плотности вероятности $f(x)$ или функция распределения $F(x)$.\n",
        "\n",
        "Если известна фукнция плотности вероятности $f(x)$, то для того, чтобы вычислить вероятность того, что случайная величина примет значение, лежащее на отрезке $[a, b]$, нужно проинтегрировать плотность вероятности в прделах от $a$ до $b$:\n",
        "$$\n",
        "p(a \\leq X \\leq b) = \\int_a^b f(x) dx\n",
        "$$\n",
        "Так как функция распределения $F(x)$ является первообразной плотности вероятности, то\n",
        "$$\n",
        "\\int_a^b f(x) dx = F(b) - F(a)\n",
        "$$\n",
        "Что соответствует описанной выше формуле для функции вероятности. Таким образом, если известна функция распределения $F(x)$, то вероятность того, что случайная величина примет значение, лежащее на отрезке $[a, b]$ можно вычислить также как и в дискретном случае:\n",
        "$$\n",
        "p(a \\leq X \\leq b) =  F(b) - F(a)\n",
        "$$\n",
        "\n",
        "> В силу $F(-\\infty)=0$ и $F(\\infty)=1$ интеграл по всей числовой оси:\n",
        "> $$\n",
        "> \\int_{-\\infty}^{\\infty} f(x) dx = 1\n",
        "> $$\n",
        "> что в общем логично: в любом испытании какое либо число выпадет выпадет со $100\\%$ > вероятностью."
      ]
    },
    {
      "cell_type": "markdown",
      "metadata": {
        "id": "idVT8kIhbM9G"
      },
      "source": [
        "# Числовые характеристики случайных величин"
      ]
    },
    {
      "cell_type": "markdown",
      "metadata": {
        "id": "kSXbd7r0bM9G"
      },
      "source": [
        "## Математическое ожидание\n",
        "\n",
        "**Математическое ожидание** (*expected value*) – это среднее значение случайной величины, которое показывает, какой результат в среднем можно ожидать от повторения эксперимента много раз. По известному распределению вероятностей математическое ожидание дискретной случайной величины может быть вычислено формулой:\n",
        "\n",
        "$$ \\mathrm E[X]=\\sum_{i=1}^n x_1p_1$$\n",
        "\n",
        "Для непрерывного распределения по функции плотности вероятности $f(x)$ математическое ожидание можуно вычислить так:\n",
        "\n",
        "$$ \\mathrm E[X] = \\int\\limits_{-\\infty}^\\infty xf(x)dx$$\n",
        "\n",
        "Вычислим математическое ожидание дискретной случайной величины, определенной ([в начале файла](#distribution)) массивами `X` и `p`:"
      ]
    },
    {
      "cell_type": "code",
      "execution_count": null,
      "metadata": {
        "id": "BSdQ_KX6MGLV",
        "outputId": "1ba5bb40-fe97-4e9a-9316-bc409b8792cf"
      },
      "outputs": [
        {
          "data": {
            "text/plain": [
              "1.15"
            ]
          },
          "execution_count": 12,
          "metadata": {},
          "output_type": "execute_result"
        }
      ],
      "source": [
        "def EV(a, p):\n",
        "    \"\"\"Математическое ожидание\"\"\"\n",
        "    return sum(a*p)\n",
        "\n",
        "ev = EV(X, p)\n",
        "ev"
      ]
    },
    {
      "cell_type": "markdown",
      "metadata": {
        "id": "Ct98z_jQMGLW"
      },
      "source": [
        "## Отклонение случайной величины\n",
        "\n",
        "**Отклонение** (*deviation*) или **невязка** (*residual*) случайной величины представляет собой рзность случайной величины и его математического ожидания:\n",
        "$$ X - \\mathrm E[X] $$\n",
        "Вероятность отклонения $ x_i - \\mathrm E[X]$ равно вероятности $p_i$ значения $x_i$."
      ]
    },
    {
      "cell_type": "code",
      "execution_count": null,
      "metadata": {
        "id": "NVm-1gN7MGLX",
        "outputId": "a3aefead-07c9-422f-fae9-7766b4856520"
      },
      "outputs": [
        {
          "name": "stdout",
          "output_type": "stream",
          "text": [
            "[-4.15 -3.15 -2.15 -1.15 -0.15  0.85  1.85  2.85  3.85]\n"
          ]
        }
      ],
      "source": [
        "deviations = X-EV(X, p)\n",
        "print(deviations)"
      ]
    },
    {
      "cell_type": "markdown",
      "metadata": {
        "id": "c6htdDx8bM9H"
      },
      "source": [
        "> Математическое ожидание отклонения равно нулю, так как отклонения в положительную сторону компенсируются отклонениями в отрицательную сторону (их значения отрицательны)."
      ]
    },
    {
      "cell_type": "code",
      "execution_count": null,
      "metadata": {
        "id": "PFs7z8xybM9H",
        "outputId": "4db4bb74-cd6e-4ec6-b356-a2d1eda0e330"
      },
      "outputs": [
        {
          "data": {
            "text/plain": [
              "1.6653345369377348e-16"
            ]
          },
          "execution_count": 14,
          "metadata": {},
          "output_type": "execute_result"
        }
      ],
      "source": [
        "EV(deviations, p)   # Математическое ожидание отклонения равно нулю"
      ]
    },
    {
      "cell_type": "markdown",
      "metadata": {
        "id": "8kzBHQGlMGLX"
      },
      "source": [
        "## Дисперсия\n",
        "**Дисперсией** (*Variance*) дискретной случайной величины называется математическое ожидание *квадрата* отклонения случайной величины от ее математического ожидания:\n",
        "$$ \\mathrm{Var}(X) = \\mathrm E[(X - \\mathrm E[X])^2] = \\sum {(x_i - \\mathrm E[X])^2p_i} $$\n",
        "\n",
        "Дисперсия характеризует разброс значений случайной величины относительно ее математического ожидания."
      ]
    },
    {
      "cell_type": "code",
      "execution_count": null,
      "metadata": {
        "id": "cECCoCAfMGLY",
        "outputId": "647786ab-9f93-49f9-9535-f99ee9c7e88e"
      },
      "outputs": [
        {
          "data": {
            "text/plain": [
              "4.947500000000001"
            ]
          },
          "execution_count": 15,
          "metadata": {},
          "output_type": "execute_result"
        }
      ],
      "source": [
        "def var(a, p):\n",
        "    ev = EV(a, p)\n",
        "    variance = 0\n",
        "    for i in range(len(a)):\n",
        "        variance += ((a[i] - ev) ** 2) * p[i]\n",
        "    return variance\n",
        "\n",
        "var(X, p)"
      ]
    },
    {
      "cell_type": "markdown",
      "metadata": {
        "id": "1l1uoMTfbM9H"
      },
      "source": [
        "> Так как в сумме используется квадрат отклонения, все слагаемые являются неотрицательными, поэтому дисперсия всегда является неотрицательной величиной. Но возведение в квадрат все же меняет масштаб, поэтому для характеристики разброса более предпочтительно использование среднеквадратического отклонения."
      ]
    },
    {
      "cell_type": "markdown",
      "metadata": {
        "id": "WHGtY95_MGLZ"
      },
      "source": [
        "## Стандартное отклонение\n",
        "\n",
        "**Стандартное отклонение** (*standard deviation*) или **среднеквадратическое отклонение**  – это мера того, насколько значения случайной величины разбросаны относительно её среднего значения. Стандартное отклонение вычисляется как квадратный корень от дисперсии:\n",
        "$$\n",
        "\\sigma_X = \\sqrt{\\mathrm{Var}(X)}\n",
        "$$\n",
        "\n",
        "Вычисление при помощий функций и методов NumPy:"
      ]
    },
    {
      "cell_type": "code",
      "execution_count": null,
      "metadata": {
        "id": "hp8a5NmMbM9I",
        "outputId": "9656557d-e63a-4ebc-e302-2e81b782cb8e"
      },
      "outputs": [
        {
          "data": {
            "text/plain": [
              "2.2242976419535223"
            ]
          },
          "execution_count": 16,
          "metadata": {},
          "output_type": "execute_result"
        }
      ],
      "source": [
        "def std(a, p):\n",
        "    variance = var(a, p)\n",
        "    return np.sqrt(variance)\n",
        "\n",
        "std(X, p)"
      ]
    },
    {
      "cell_type": "markdown",
      "metadata": {
        "id": "t4GlaGyHMGLa"
      },
      "source": [
        "## Мода\n",
        "\n",
        "**Модой** (*Mode*) дискретной случайной величины называется ее наиболее вероятное значение. Если известна фукнция распределения $f(x)$ случайной величины, то моду можно вычислить как максимум фукнции:\n",
        "$$\n",
        "\\arg \\max_x f(x)\n",
        "$$"
      ]
    },
    {
      "cell_type": "code",
      "execution_count": null,
      "metadata": {
        "id": "83C30NJsbM9J",
        "outputId": "921ba673-22ac-43b3-f002-1c0ceaf0266f"
      },
      "outputs": [
        {
          "data": {
            "text/plain": [
              "0"
            ]
          },
          "execution_count": 17,
          "metadata": {},
          "output_type": "execute_result"
        }
      ],
      "source": [
        "def mode(a, p):\n",
        "    index = np.argmax(p)\n",
        "    return a[index]\n",
        "\n",
        "mode(X, p)"
      ]
    },
    {
      "cell_type": "markdown",
      "metadata": {
        "id": "L7r8O3FDxaDF"
      },
      "source": [
        "## Медиана\n",
        "**Медианой** (*Median*) случайной величины называется такое значение $m$, для которого вероятность получить большее значение равно вероятности получить меньшее значение ($p=0.5$).\n",
        "\n",
        "Если случайная величина является непрерывной, то медиана может быть представлена уравнением:\n",
        "$$\n",
        "p(X \\leq m) = F(m) = \\int_{- \\infty}^m f(x)dx = \\frac{1}{2}\n",
        "$$\n",
        "где $f(x)$ – плотность вероятности случайной величнины.\n",
        "\n",
        "Как было показано выше, интеграл от $f(x)$ по всей области $(-\\infty, \\infty)$ всегда равен $1$. Значит интеграл\n",
        "\n",
        "$$ \\int_{m}^{\\infty} f(x)dx $$\n",
        "Также должен равняться $1/2$. Медиана таким обарзом расположена так, что разбивает область под функцией плотности вероятности на две области с равными площадями."
      ]
    },
    {
      "cell_type": "markdown",
      "metadata": {
        "id": "ADF5Z802bM9J"
      },
      "source": [
        "# Статистические оценки\n",
        "\n",
        "При работе с данными, как правило, закон распределения случайной величины нам не известен. Мы имеем дело с некоторой выборкой, которая была образована в результате каких либо эксеприментов, наблюдений, статистических сборов и т.д. Поэтому для оценки числовых характеристик выборки используются статистические методы.\n",
        "\n",
        "Для работы с кодом будет использоваться выборка `sample_discrete` сгенерированная [выше](#discrete-sample) по заданной дискретной случайной величине. А ниже будет сгенерирована выборка непрерывной случайой величины. Здесь, конечно, нам известез закон распределения, однако претворимся, что у нас есть только выборка, и мы знаем лишь, что имеем дело с дискретной случайной величиной. Массивы `X` и `p` для оценок числовых характеристик исользоваться не будут - имеем дело только с самой выборкой.\n",
        "\n",
        "Полезно будет сравнить результаты оценок с фактическими значениями, которые были вычислены по известному закону распределения."
      ]
    },
    {
      "cell_type": "code",
      "execution_count": null,
      "metadata": {
        "id": "1BuWvOPUbM9K",
        "outputId": "659cb0eb-87e2-4d5e-b71f-dcce3f9b7782"
      },
      "outputs": [
        {
          "name": "stdout",
          "output_type": "stream",
          "text": [
            "100000\n",
            "[ 0  4  0 -2 -1  0  0 -1  4  3 -3  3  3  1  0  5]\n"
          ]
        }
      ],
      "source": [
        "print(len(sample_discrete))     # размер выборки\n",
        "print(sample_discrete[:16])     # первые 16 значений"
      ]
    },
    {
      "cell_type": "markdown",
      "metadata": {
        "id": "K8bZQ2TDbM9K"
      },
      "source": [
        "## Математическое ожидание\n",
        "\n",
        "Математическое ожидание можно оценить как среднее арифметическое от всех образцов выборки (*sample mean*):\n",
        "$$ \\overline x = \\frac{1}{n} \\sum_{i=1}^n x_i $$"
      ]
    },
    {
      "cell_type": "code",
      "execution_count": null,
      "metadata": {
        "id": "jiNx2BCobM9L",
        "outputId": "d4dac9c4-1bc3-4f15-c44b-0f663fd644f6"
      },
      "outputs": [
        {
          "data": {
            "text/plain": [
              "1.15438"
            ]
          },
          "execution_count": 19,
          "metadata": {},
          "output_type": "execute_result"
        }
      ],
      "source": [
        "sample_discrete.mean()"
      ]
    },
    {
      "cell_type": "markdown",
      "metadata": {
        "id": "VkUf0B_bbM9L"
      },
      "source": [
        "## Дисперсия\n",
        "Дисперсия, оцениваемая эмпирически на основе данных выборки называется **Выборочной дисперсией** (*Sample Variance*):\n",
        "\n",
        "$$ \\tilde S_X^2 = \\frac{1}{n} \\sum_{i=1}^n (x_i - \\overline x)^2 $$\n",
        "\n",
        "\n",
        "**Несмещённая** (*unbiased*) выборочная дисперсия:\n",
        "$$ S_X^2 = \\frac{1}{n-1} \\sum_{i=1}^n (x_i - \\overline x)^2 $$\n",
        "Деление на $n-1$ вместо $n$ дает чуть более высокую оценку $ S_X^2 = \\frac{1}{n-1} \\tilde S_X^2$."
      ]
    },
    {
      "cell_type": "code",
      "execution_count": null,
      "metadata": {
        "id": "VHBe71BXbM9L",
        "outputId": "01acfede-1ebf-4ae2-c9bb-228cfeffb187"
      },
      "outputs": [
        {
          "data": {
            "text/plain": [
              "4.952006815595405"
            ]
          },
          "execution_count": 20,
          "metadata": {},
          "output_type": "execute_result"
        }
      ],
      "source": [
        "def get_var(sample):\n",
        "    ev = sample.mean()\n",
        "    variance = 0\n",
        "    for s in sample:\n",
        "        variance += (s - ev) ** 2\n",
        "\n",
        "    return variance / len(sample)\n",
        "\n",
        "get_var(sample_discrete)"
      ]
    },
    {
      "cell_type": "markdown",
      "metadata": {
        "id": "BIEEBidIbM9M"
      },
      "source": [
        "> Для вычисления выборочной дисперсии можно воспользоваться функцией `var()` из библиотеки NumPy. Также можно вызвать одноименный метод у массива NumPy:"
      ]
    },
    {
      "cell_type": "markdown",
      "metadata": {
        "id": "V1Tg1t-NbM9M"
      },
      "source": [
        "## Стандартное отклонение\n",
        "\n",
        "Для оценки стандартного отклонения достаточно взять квадратный корень от дисперсии."
      ]
    },
    {
      "cell_type": "code",
      "execution_count": null,
      "metadata": {
        "id": "EZlYPcjFbM9M",
        "outputId": "ab5cd6d3-cc56-490a-a3f6-1291122c57ee"
      },
      "outputs": [
        {
          "data": {
            "text/plain": [
              "2.2253104986934757"
            ]
          },
          "execution_count": 21,
          "metadata": {},
          "output_type": "execute_result"
        }
      ],
      "source": [
        "def get_std(sample):\n",
        "    variance = get_var(sample)\n",
        "    return np.sqrt(variance)\n",
        "\n",
        "get_std(sample_discrete)"
      ]
    },
    {
      "cell_type": "markdown",
      "metadata": {
        "id": "W1zj65kUbM9M"
      },
      "source": [
        "> Для вычисления стандартного отклонения можно воспользоваться функцией `std()` из библиотеки NumPy. Также можно вызвать одноименный метод у массива NumPy:"
      ]
    },
    {
      "cell_type": "code",
      "execution_count": null,
      "metadata": {
        "id": "JTBQZx2XbM9N",
        "outputId": "a56aa8c0-b87b-4e9f-fb08-ce93fcfa67ae"
      },
      "outputs": [
        {
          "data": {
            "text/plain": [
              "2.225310498694508"
            ]
          },
          "execution_count": 22,
          "metadata": {},
          "output_type": "execute_result"
        }
      ],
      "source": [
        "np.std(sample_discrete)     # два вариана вычисления\n",
        "sample_discrete.std()       # стандартного отклонения c numpy"
      ]
    },
    {
      "cell_type": "markdown",
      "metadata": {
        "id": "MoslitPDbM9N"
      },
      "source": [
        "## Мода (discrete)\n",
        "\n",
        "При статистической оценке мода соответствует наиболее часто выпадаемой величине.\n",
        "\n",
        "Если мы имеем дело с выборкой дискретной случайной величины, моду можно оценить, найдя значение, которое выпадало чаще всего. Для этого создадим словарь, ключами которого будут величины в выборке, а по ключу будет количество повяления этой величины в выборке:"
      ]
    },
    {
      "cell_type": "code",
      "execution_count": null,
      "metadata": {
        "id": "vNywxcdObM9N",
        "outputId": "f0833952-434c-4907-8469-ead111db4aa3"
      },
      "outputs": [
        {
          "data": {
            "text/plain": [
              "{0: 23928,\n",
              " 4: 8076,\n",
              " -2: 5979,\n",
              " -1: 13127,\n",
              " 3: 13852,\n",
              " -3: 4930,\n",
              " 1: 6018,\n",
              " 5: 9085,\n",
              " 2: 15005}"
            ]
          },
          "execution_count": 23,
          "metadata": {},
          "output_type": "execute_result"
        }
      ],
      "source": [
        "dictionary = dict()\n",
        "for n in sample_discrete:\n",
        "    if n in dictionary:\n",
        "        dictionary[n] += 1\n",
        "    else:\n",
        "        dictionary[n] = 1\n",
        "\n",
        "dictionary"
      ]
    },
    {
      "cell_type": "markdown",
      "metadata": {
        "id": "1CAYBdY1bM9O"
      },
      "source": [
        "Теперь остается найти величину, которая чаще остальных появлялась в выборке. Для этого конвертируем ключи и значения словаря в массивы NumPy, используя функцию `fromiter()`, затем найдем индекс максимального значения в массиве при помощи функции `argmax()`. По этому индексу в массиве ключей получим величину, которая чаще всего появлялась в выборке, т.е. моду."
      ]
    },
    {
      "cell_type": "code",
      "execution_count": null,
      "metadata": {
        "id": "eGFdskdWbM9O",
        "outputId": "5d39bc05-4d6c-43ef-a0b3-d6b6fcc4accd"
      },
      "outputs": [
        {
          "data": {
            "text/plain": [
              "0"
            ]
          },
          "execution_count": 24,
          "metadata": {},
          "output_type": "execute_result"
        }
      ],
      "source": [
        "frequencies = np.fromiter(dictionary.values(), dtype=int)\n",
        "values = np.fromiter(dictionary.keys(), dtype=int)\n",
        "index = np.argmax(frequencies)\n",
        "values[index]"
      ]
    },
    {
      "cell_type": "markdown",
      "metadata": {
        "id": "xPiB7nedbM9O"
      },
      "source": [
        "> Проще было бы использовать встроенную функцию `max()`, передав в аргумент `key` по ссылке функцию `dictionary.get()`, которая возвращает значение по заданному ключу."
      ]
    },
    {
      "cell_type": "code",
      "execution_count": null,
      "metadata": {
        "id": "fGWIZ1YtbM9O",
        "outputId": "bc2e8583-2210-46ec-d3d8-95bb8b44f4d2"
      },
      "outputs": [
        {
          "data": {
            "text/plain": [
              "0"
            ]
          },
          "execution_count": 25,
          "metadata": {},
          "output_type": "execute_result"
        }
      ],
      "source": [
        "max(dictionary, key=dictionary.get)"
      ]
    },
    {
      "cell_type": "markdown",
      "metadata": {
        "id": "g8fyJHi-bM9P"
      },
      "source": [
        "Убедимся, что распределение выборки по частотам соответствует заданному выше распределению вероятностей случайной величины, по которому и генерировалась эта выборка: <img id='discrete-histogram'>"
      ]
    },
    {
      "cell_type": "code",
      "execution_count": null,
      "metadata": {
        "id": "31W3Q9C9bM9P",
        "outputId": "9fb7708f-6aff-4bb2-f6ef-61b7e5b5ea7b"
      },
      "outputs": [
        {
          "data": {
            "text/plain": [
              "Text(0, 0.5, 'frequencies')"
            ]
          },
          "execution_count": 26,
          "metadata": {},
          "output_type": "execute_result"
        },
        {
          "data": {
            "image/png": "[encoded data removed]",
            "text/plain": [
              "<Figure size 640x480 with 1 Axes>"
            ]
          },
          "metadata": {},
          "output_type": "display_data"
        }
      ],
      "source": [
        "plt.bar(values, frequencies)\n",
        "plt.xlabel('values')\n",
        "plt.ylabel('frequencies')"
      ]
    },
    {
      "cell_type": "markdown",
      "metadata": {
        "id": "RAg4Wx6abM9P"
      },
      "source": [
        "> В случае непрерывной случайной величины такой метод не подойдет, так как каджая величина в выборке вообще говоря может быть уникальной. Поэтому для оценки моды непрерывной случайной величины следует воспользоваться гистограммой, как это будет рассмотренно ниже, для оценки моды логнормального распределения."
      ]
    },
    {
      "cell_type": "markdown",
      "metadata": {
        "id": "V6sIra0ybM9P"
      },
      "source": [
        "## Медиана\n",
        "\n",
        "Для статистической оценки медианы необходимо в первую очередь упорядочить выборку по возрастанию. Если число элементов выборки нечётное, то нужно выбрать элемент, расположенный ровно по середине упорядоченной выборки. Если же число элементов четное, то следует выбрать два центральных элемента и взять от них среднее."
      ]
    },
    {
      "cell_type": "code",
      "execution_count": null,
      "metadata": {
        "id": "bq9bE9Y6bM9P",
        "outputId": "ad6f31f1-fdb5-4eb6-f79c-99f33c267360"
      },
      "outputs": [
        {
          "data": {
            "text/plain": [
              "1"
            ]
          },
          "execution_count": 27,
          "metadata": {},
          "output_type": "execute_result"
        }
      ],
      "source": [
        "def get_median(sample):\n",
        "    ordered = np.sort(sample, kind='mergesort')\n",
        "    n = len(ordered)\n",
        "    if n % 2 == 0:\n",
        "        median = ordered[int(n/2)]\n",
        "    else:\n",
        "        median = ordered[int(np.ceil(n/2))]\n",
        "    return median\n",
        "\n",
        "get_median(sample_discrete)"
      ]
    },
    {
      "cell_type": "markdown",
      "metadata": {
        "id": "OJ2E3bMcxaDF"
      },
      "source": [
        "## Логнормальное распределение\n",
        "\n",
        "Для того, чтобы экспериментально вычислить статистические характеристики непрерывной случайной величины, рассмотрим выборку, получаемую из **логнормального распределения** (*Log-normal distribution*), плотность вероятности которого представляет собой функцию:\n",
        "$$\n",
        "f(x) = \\frac{1}{x \\sigma \\sqrt{2\\pi}} e^{-\\frac{(\\ln x -\\mu)^2}{2 \\sigma^2}}\n",
        "$$\n",
        "где $x>0, \\; \\sigma > 0, \\; \\mu \\in \\mathbb R$."
      ]
    },
    {
      "cell_type": "code",
      "execution_count": null,
      "metadata": {
        "id": "bNfWgfZ6xaDF",
        "outputId": "5839edee-7184-4ee1-82e4-e02a531e0905"
      },
      "outputs": [
        {
          "data": {
            "text/plain": [
              "Text(0, 0.5, 'PDF')"
            ]
          },
          "execution_count": 28,
          "metadata": {},
          "output_type": "execute_result"
        },
        {
          "data": {
            "image/png": "[encoded data removed]",
            "text/plain": [
              "<Figure size 800x400 with 1 Axes>"
            ]
          },
          "metadata": {},
          "output_type": "display_data"
        }
      ],
      "source": [
        "def lognormal(x, mu=0., sigma=0.5):\n",
        "    result = np.zeros_like(x)\n",
        "    for i in range(len(x)):\n",
        "        denominator = (x[i] * sigma * np.sqrt(2 * np.pi))\n",
        "        numerator = np.exp(-((np.log(x[i]) - mu)**2) / (2 * sigma**2))\n",
        "        result[i] = numerator / denominator\n",
        "    return result\n",
        "\n",
        "space = np.linspace(0.1, 3, 100).astype(np.float32)\n",
        "p = lognormal(space)\n",
        "plt.figure(figsize=(8, 4))\n",
        "plt.plot(space, p)\n",
        "plt.xlabel('values')\n",
        "plt.ylabel('PDF')"
      ]
    },
    {
      "cell_type": "markdown",
      "metadata": {
        "id": "LQjq3cPuxaDF"
      },
      "source": [
        "Сгенерируем выборку по логнормальному распределению:"
      ]
    },
    {
      "cell_type": "code",
      "execution_count": null,
      "metadata": {
        "id": "OJ6ybKmwxaDF"
      },
      "outputs": [],
      "source": [
        "sample_continuous = np.random.lognormal(mean=0., sigma=0.5, size=10000)"
      ]
    },
    {
      "cell_type": "markdown",
      "metadata": {
        "id": "tFMtZGbQbM9Q"
      },
      "source": [
        "Как прежде, несмотря на то, что мы сгенерировали выборку по готовому закону распределения, снова притворимся, что мы не знаем, какому закону подчиняется выборка, и будем оценивать числовые характеристики, стоящей за ней случайной величины. Поэтому для оценок мы будем использоваться только саму выборку `sample_continuous`."
      ]
    },
    {
      "cell_type": "markdown",
      "metadata": {
        "id": "Es9JliWSbM9Q"
      },
      "source": [
        "## Гистограма\n",
        "\n",
        "Для выборки дискретной случайной величины мы построили выше столбчатую диаграмму, которая показывала частоты выпадения возможных значений. Для выборки непрерывной случайной величины строить такую диаграмму бессмысленно, так как каждое значение появляется в выборке лишь оди раз. И для выборки из 1000 образцов мы просто получим 1000 столбиков единичной высоты.\n",
        "\n",
        "Для выборки непрерывной случайной величнины можно построить столбчатую диаграмму, в которой каждому столбику ставится в соответствие не конеретное значение, а некоторый интервал значений. Высота столбика характеризует частоту появления значений в этом интервале. Тогда диапоазон возможных значений можно разбить на некоторое число интервалов (*bins*). Такое графическое представление распределения частот называется **гистограмой** (*histogram*) выборки случайной величины.\n",
        "\n",
        "> В общем случае, гистограму можно построить и для дискретной случайной величины. В частности, [распределение выборки по частотам](#discrete-histogram), которое мы визуализировали для выборки дискретной случайной величины такжче является гистограмой.\n",
        "\n",
        "Для построения гистограмы можно воспользоваться функцией `hist()` из модуля `pyplot`. В параметре `bins` указывается количество интервалов, на которое нужно разбить диапозон значений. Функция рисует диаграмму и при этом возвращает кортеж из трех элементов:\n",
        "- значения частот для каждого интервала;\n",
        "- последовательность значений, соответствующих границам интервалов;\n",
        "- специфический объект использованный для отрисовки гистограмы."
      ]
    },
    {
      "cell_type": "code",
      "execution_count": null,
      "metadata": {
        "id": "GYl74ZLqbM9Q",
        "outputId": "e4057289-9fca-413e-c262-30852e3158b9"
      },
      "outputs": [
        {
          "name": "stdout",
          "output_type": "stream",
          "text": [
            "[ 297. 1679. 2248. 2021.] [0.14482977 0.39871136 0.65259296 0.90647455]\n",
            "24 25\n"
          ]
        },
        {
          "data": {
            "image/png": "[encoded data removed]",
            "text/plain": [
              "<Figure size 640x480 with 1 Axes>"
            ]
          },
          "metadata": {},
          "output_type": "display_data"
        }
      ],
      "source": [
        "hist, bins, _ = plt.hist(sample_continuous, bins=24, width=.2)\n",
        "print(hist[:4], bins[:4])\n",
        "print(len(hist), len(bins))"
      ]
    },
    {
      "cell_type": "markdown",
      "metadata": {
        "id": "yojWF3BzbM9R"
      },
      "source": [
        "Другой вариант, получить значения гистограммы функцией `histogram()` из библиотеки NumPy, затем визуализировать гистограму функцией `bar()` из модуля `pyplot`, которая рисует стобчатые диагарммы."
      ]
    },
    {
      "cell_type": "code",
      "execution_count": null,
      "metadata": {
        "id": "8YgV0K0MbM9R",
        "outputId": "540b9cdb-9cef-4255-b104-e7f2268eae29"
      },
      "outputs": [
        {
          "name": "stdout",
          "output_type": "stream",
          "text": [
            "[ 297 1679 2248 2021] [0.14482977 0.39871136 0.65259296 0.90647455]\n"
          ]
        },
        {
          "data": {
            "image/png": "[encoded data removed]",
            "text/plain": [
              "<Figure size 640x480 with 1 Axes>"
            ]
          },
          "metadata": {},
          "output_type": "display_data"
        }
      ],
      "source": [
        "hist, bins = np.histogram(sample_continuous, bins=24)\n",
        "plt.bar(bins[:-1], hist, width=.20, color='green', label=\"Histogram\")\n",
        "print(hist[:4], bins[:4])"
      ]
    },
    {
      "cell_type": "markdown",
      "metadata": {
        "id": "KoxPFFgxxaDG"
      },
      "source": [
        "## Ядерная оценка плотности (KDE)\n",
        "\n",
        "Если известна функция плотности вероятности, для вычисления моды достаточно найти максимум этой функции. У нас в распоряжении только выборка, и истинный закон распределения случайной валичины нам неизвестен, поэтому попробуем можем оценить статистическим способом (экспериментально). Для экспериментального вычисления моды непрерывной случайной величины, попробуем смоделировать ее плотность вероятности, которая будет представлять собой сглаженую гистограмму. Воспользуемся **ядерной оценкой плотности** (*Kernel Density Estimation* - KDE) для получения сглаженной гистограммы:\n",
        "$$\n",
        "\\hat{f}_h(x) = \\frac{1}{n} \\sum_{i=1}^n K_h(x-x_i)\n",
        "$$\n",
        "Здесь $K_h(u) = \\frac{1}{h} K(\\frac{u}{h}) $, где $K$ - **Гауссово ядро** (*gaussian kernel*):\n",
        "\n",
        "$$\n",
        "K(t) = \\frac{1}{\\sqrt{2 \\pi}} e^{-\\frac{1}{2}t^2}\n",
        "$$\n",
        "$h > 0$ является сглаживающим параметром, называемым **шириной полосы** (*bandwidth*)."
      ]
    },
    {
      "cell_type": "code",
      "execution_count": null,
      "metadata": {
        "id": "yfez2ziYxaDG"
      },
      "outputs": [],
      "source": [
        "def gaussian_kernel(x):\n",
        "    return np.exp(-(x**2) / 2) / np.sqrt(2 * np.pi)\n",
        "\n",
        "def gaussian_kernel_h(x, h):\n",
        "    return gaussian_kernel(x/h) / h\n",
        "\n",
        "def get_kde(x, sample, kernel, h=0.1):\n",
        "    s = np.sum(kernel(sample - x, h))\n",
        "    return s / len(sample)"
      ]
    },
    {
      "cell_type": "markdown",
      "metadata": {
        "id": "UlcCmYnMxaDG"
      },
      "source": [
        "Визуализируем гистограмму и ядерную оценку плотности (KDE)."
      ]
    },
    {
      "cell_type": "code",
      "execution_count": null,
      "metadata": {
        "id": "_EFF-dyaxaDG",
        "outputId": "33899391-795d-4e1b-eb76-8763e535a966"
      },
      "outputs": [
        {
          "data": {
            "text/plain": [
              "Text(0.5, 1.0, 'Kernel density estimate')"
            ]
          },
          "execution_count": 79,
          "metadata": {},
          "output_type": "execute_result"
        },
        {
          "data": {
            "image/png": "[encoded data removed]",
            "text/plain": [
              "<Figure size 640x480 with 1 Axes>"
            ]
          },
          "metadata": {},
          "output_type": "display_data"
        }
      ],
      "source": [
        "min_value, max_value = sample_continuous.min(), sample_continuous.max()\n",
        "\n",
        "space = np.linspace(min_value-0.5, max_value+0.5, 1000)\n",
        "kde = np.zeros(len(space))\n",
        "for i in range(len(space)):\n",
        "    kde[i] = get_kde(space[i], sample_continuous, gaussian_kernel_h)\n",
        "\n",
        "plt.hist(sample_continuous, bins=24, width=.2)\n",
        "\n",
        "scaler =  hist.max() / kde.max()\n",
        "plt.plot(space, kde*scaler, color='orange', label='KDE')\n",
        "plt.legend()\n",
        "plt.title(\"Kernel density estimate\")"
      ]
    },
    {
      "cell_type": "markdown",
      "metadata": {
        "id": "nbcR8XWgxaDG"
      },
      "source": [
        "## Moda (continuous)\n",
        "\n",
        "Остается вычислить значение $x$ которому соответствует максимальное значение KDE. Это и будет экспериментальным значением **моды**."
      ]
    },
    {
      "cell_type": "code",
      "execution_count": null,
      "metadata": {
        "id": "Md-MuKMBxaDG",
        "outputId": "53c8ab4b-99a6-4269-9a25-a1dce7d83530"
      },
      "outputs": [
        {
          "data": {
            "text/plain": [
              "0.802171903611392"
            ]
          },
          "execution_count": 80,
          "metadata": {},
          "output_type": "execute_result"
        }
      ],
      "source": [
        "index = np.argmax(kde)\n",
        "space[index]"
      ]
    },
    {
      "cell_type": "markdown",
      "metadata": {
        "id": "RoLGLkSfcJFg"
      },
      "source": [
        "Напишем функцию, которая таким способом вычисляет моду по заданной выборке:"
      ]
    },
    {
      "cell_type": "code",
      "execution_count": null,
      "metadata": {
        "id": "6Dp3VoG7cJFh",
        "outputId": "bceec698-e9b2-4230-d70f-5063b160f149"
      },
      "outputs": [
        {
          "data": {
            "text/plain": [
              "0.802171903611392"
            ]
          },
          "execution_count": 82,
          "metadata": {},
          "output_type": "execute_result"
        }
      ],
      "source": [
        "def get_mode(sample):\n",
        "    space = np.linspace(sample.min()-0.5, sample.max()+0.5, 1000)\n",
        "    kde = np.zeros(len(space))\n",
        "    for i in range(len(space)):\n",
        "        kde[i] = get_kde(space[i], sample, gaussian_kernel_h)\n",
        "    index = np.argmax(kde)\n",
        "    return space[index]\n",
        "\n",
        "mode = get_mode(sample_continuous)\n",
        "mode"
      ]
    },
    {
      "cell_type": "markdown",
      "metadata": {
        "id": "l3uRkeYOxaDG"
      },
      "source": [
        "Вычислим теперь **математическое ожидание** (экспериментально, оно представляет собой просто среднее арифметическое):"
      ]
    },
    {
      "cell_type": "code",
      "execution_count": null,
      "metadata": {
        "id": "X7HmYBdzxaDG",
        "outputId": "df5ecd5f-0c4f-4b88-8742-60a27af32e51"
      },
      "outputs": [
        {
          "data": {
            "text/plain": [
              "1.1281467415351438"
            ]
          },
          "execution_count": 83,
          "metadata": {},
          "output_type": "execute_result"
        }
      ],
      "source": [
        "mean = sample_continuous.mean()\n",
        "mean"
      ]
    },
    {
      "cell_type": "markdown",
      "metadata": {
        "id": "dUl759WxxaDH"
      },
      "source": [
        "Вычислим **медиану**:"
      ]
    },
    {
      "cell_type": "code",
      "execution_count": null,
      "metadata": {
        "id": "_wYs9lpmxaDH",
        "outputId": "4afa365b-f741-4a69-e1bc-cac9ea81a65e"
      },
      "outputs": [
        {
          "data": {
            "text/plain": [
              "0.9960013808218022"
            ]
          },
          "execution_count": 84,
          "metadata": {},
          "output_type": "execute_result"
        }
      ],
      "source": [
        "median = get_median(sample_continuous)\n",
        "median"
      ]
    },
    {
      "cell_type": "code",
      "execution_count": null,
      "metadata": {
        "id": "B70r75fxxaDH",
        "outputId": "7e72bc4c-4f7f-4a68-ff92-92978650f74a"
      },
      "outputs": [
        {
          "data": {
            "text/plain": [
              "(0.802171903611392, 1.1281467415351438, 0.9960013808218022)"
            ]
          },
          "execution_count": 85,
          "metadata": {},
          "output_type": "execute_result"
        }
      ],
      "source": [
        "mode, mean, median"
      ]
    },
    {
      "cell_type": "code",
      "execution_count": null,
      "metadata": {
        "id": "Ijt4IiGVxaDH"
      },
      "outputs": [],
      "source": [
        "mode_kde = get_kde(mode, sample_continuous, gaussian_kernel_h)\n",
        "mean_kde = get_kde(mean, sample_continuous, gaussian_kernel_h)\n",
        "median_kde = get_kde(median, sample_continuous, gaussian_kernel_h)"
      ]
    },
    {
      "cell_type": "code",
      "execution_count": null,
      "metadata": {
        "id": "h4zo8MQWxaDH",
        "outputId": "9f48e35e-93c0-4c50-d30d-6d266f0c7a98"
      },
      "outputs": [
        {
          "data": {
            "text/plain": [
              "<matplotlib.legend.Legend at 0x145c8f63220>"
            ]
          },
          "execution_count": 88,
          "metadata": {},
          "output_type": "execute_result"
        },
        {
          "data": {
            "image/png": "[encoded data removed]",
            "text/plain": [
              "<Figure size 640x480 with 1 Axes>"
            ]
          },
          "metadata": {},
          "output_type": "display_data"
        }
      ],
      "source": [
        "plt.plot(space, kde, color='orange')\n",
        "plt.scatter((mode, mean, median), (mode_kde, mean_kde, median_kde))\n",
        "plt.plot((mode, mode), (0, mode_kde), 'b--', label=\"mode\")\n",
        "plt.plot((mean, mean), (0, mean_kde), 'g--', label=\"mean\")\n",
        "plt.plot((median, median), (0, median_kde), 'r--', label=\"median\")\n",
        "plt.xlabel(\"x\")\n",
        "plt.ylabel(\"KDF\")\n",
        "plt.legend()"
      ]
    },
    {
      "cell_type": "markdown",
      "metadata": {
        "id": "CEcs9H3HcJFn"
      },
      "source": [
        "Воспользуемся функцией `get_var()`, которую мы определили для экспериментальной оценки дисперсии."
      ]
    },
    {
      "cell_type": "code",
      "execution_count": null,
      "metadata": {
        "id": "L3MtyiB7xaDI",
        "outputId": "4d33bb40-722b-400d-e822-078f84414a8c"
      },
      "outputs": [
        {
          "data": {
            "text/plain": [
              "(0.3528228502589966, 0.5939889310913097)"
            ]
          },
          "execution_count": 89,
          "metadata": {},
          "output_type": "execute_result"
        }
      ],
      "source": [
        "variance = get_var(sample_continuous)\n",
        "std = np.sqrt(variance)\n",
        "\n",
        "variance, std"
      ]
    }
  ],
  "metadata": {
    "colab": {
      "provenance": [],
      "toc_visible": true,
      "include_colab_link": true
    },
    "kernelspec": {
      "display_name": "Python 3 (ipykernel)",
      "language": "python",
      "name": "python3"
    },
    "language_info": {
      "codemirror_mode": {
        "name": "ipython",
        "version": 3
      },
      "file_extension": ".py",
      "mimetype": "text/x-python",
      "name": "python",
      "nbconvert_exporter": "python",
      "pygments_lexer": "ipython3",
      "version": "3.10.10"
    },
    "vscode": {
      "interpreter": {
        "hash": "79e7e232837c7265a9e9b5dfac4264a5e3a343b031b97a295fa4d50f1a7fdf05"
      }
    }
  },
  "nbformat": 4,
  "nbformat_minor": 0
}