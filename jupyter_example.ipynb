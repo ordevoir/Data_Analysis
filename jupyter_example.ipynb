{
  "cells": [
    {
      "cell_type": "markdown",
      "metadata": {
        "id": "Y4pEc0dg4DlG"
      },
      "source": [
        "# Jupyter Notebook"
      ]
    },
    {
      "cell_type": "markdown",
      "metadata": {
        "id": "kDZ63beR4DlK"
      },
      "source": [
        "[Jupyter Notebook](https://jupyter.org/ \"Открыть оффициальный сайт\") - это интерактивная среда разработки (IDE) для языков программирования, которая позволяет создавать и выполнять код в браузере. Она поддерживает множество языков программирования, включая Python, R, Julia и другие. Работать с файлами Jupyter Notebook можно также и в редакторе VS Code.\n",
        "\n",
        "Jupyter Notebook позволяет создавать документы, которые объединяют в себе код, текст, изображения, формулы (LaTeX) и графики. Jupyter Notebook доступен как на локальной машине, так и в облаке, например, на платформе [Google Colab](https://colab.research.google.com/).\n",
        "\n",
        "Это демонстрационный файл для ознакомления с основными возможностями Jupyter. Запустите секции с кодом. В секциях с текстом можно использовать язык разметки Markdown. Первое время будет полезна [шпаргалка](https://colab.research.google.com/notebooks/markdown_guide.ipynb)."
      ]
    },
    {
      "cell_type": "markdown",
      "metadata": {
        "id": "lL-d_lm-4DlN"
      },
      "source": [
        "## Площадь цилиндра"
      ]
    },
    {
      "cell_type": "code",
      "execution_count": null,
      "metadata": {
        "id": "MQ_jjGcF4DlP"
      },
      "outputs": [],
      "source": [
        "import math     # модуль, содержащий математические функции и констатнты\n",
        "\n",
        "def cylinder_area(h, r):\n",
        "    \"\"\"Функция, вычисляющая площадь цилиндра\"\"\"\n",
        "    base_area = math.pi * r**2          # площадь основания\n",
        "    side_area = 2 * math.pi * r * h     # площадь боковой поверхности\n",
        "    return 2*base_area + side_area      # возврат полной площади"
      ]
    },
    {
      "cell_type": "code",
      "execution_count": null,
      "metadata": {
        "id": "Rwn8i2lP4DlW"
      },
      "outputs": [],
      "source": [
        "H = 10      # высота\n",
        "R = 5       # радиус\n",
        "area = cylinder_area(H, R)\n",
        "print(area)"
      ]
    },
    {
      "cell_type": "markdown",
      "metadata": {
        "id": "2_Sfaiej4DlX"
      },
      "source": [
        "Фукнция `cylinder_area()` принимает два *позиционных* аргумента: `h` - высота и `r` - радиус основания. Так как основанием цилиндра является круг, **площадь основания** вычисляется по формуле $S_b = \\pi r^2$. А **площадь боковой поверхности** вычислется по формуле\n",
        "$$\n",
        "S_s = 2 \\pi r h\n",
        "$$\n",
        "**Полная площадь** цилиндра слагается из площади боковой поверхности и удвоенной площади снования $S = 2 S_b + S_s$.\n",
        "\n",
        "<img src=\"https://homework.study.com/cimages/multimages/16/zsdkfj1019373429681313743.png\">"
      ]
    },
    {
      "cell_type": "markdown",
      "metadata": {
        "id": "L88lm6pz4DlY"
      },
      "source": [
        "## Загрузка файла"
      ]
    },
    {
      "cell_type": "markdown",
      "metadata": {
        "id": "j5aRuYLu4DlY"
      },
      "source": [
        "Загрузка может происходить с локального диска или с репозитория и может занимать некоторое время. Поэтому удобно один раз загрузить данные в отдельной ячейки и затем в других ячейках работать с ними."
      ]
    },
    {
      "cell_type": "code",
      "execution_count": null,
      "metadata": {
        "id": "Qv4AVHO_4DlZ"
      },
      "outputs": [],
      "source": [
        "f = open('test.py')\n",
        "s = f.read()\n",
        "f.close()"
      ]
    },
    {
      "cell_type": "code",
      "execution_count": null,
      "metadata": {
        "id": "GAcY3oEB4DlZ"
      },
      "outputs": [],
      "source": [
        "print(s)\n",
        "print(s.upper())\n",
        "\n",
        "def reverse_text(text):\n",
        "    new_text = ''\n",
        "    for i in range(len(text)-1, -1, -1):\n",
        "        new_text += text[i]\n",
        "    return new_text\n",
        "\n",
        "result_text = reverse_text(s)\n",
        "print(result_text)"
      ]
    },
    {
      "cell_type": "code",
      "execution_count": null,
      "metadata": {
        "id": "4wHIp-1D4Dla"
      },
      "outputs": [],
      "source": []
    }
  ],
  "metadata": {
    "kernelspec": {
      "display_name": "Python 3 (ipykernel)",
      "language": "python",
      "name": "python3"
    },
    "language_info": {
      "codemirror_mode": {
        "name": "ipython",
        "version": 3
      },
      "file_extension": ".py",
      "mimetype": "text/x-python",
      "name": "python",
      "nbconvert_exporter": "python",
      "pygments_lexer": "ipython3",
      "version": "3.9.12"
    },
    "colab": {
      "provenance": []
    }
  },
  "nbformat": 4,
  "nbformat_minor": 0
}