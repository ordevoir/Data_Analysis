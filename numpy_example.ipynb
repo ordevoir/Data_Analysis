{
  "cells": [
    {
      "cell_type": "markdown",
      "metadata": {
        "colab_type": "text",
        "id": "view-in-github"
      },
      "source": [
        "<a href=\"https://colab.research.google.com/github/ordevoir/Data_Analysis/blob/main/numpy_example.ipynb\" target=\"_parent\"><img src=\"https://colab.research.google.com/assets/colab-badge.svg\" alt=\"Open In Colab\"/></a>"
      ]
    },
    {
      "cell_type": "markdown",
      "metadata": {
        "id": "bO0RoNinInG1"
      },
      "source": [
        "# [NumPy](https://numpy.org/)\n",
        "NumPy (Numerical Python) - это библиотека для языка программирования Python, предназначенная для работы с массивами данных и выполнения математических операций над ними.\n",
        "\n",
        "NumPy предоставляет множество функций для выполнения операций линейной алгебры, обработки сигналов, обработки изображений и других вычислительных задач, которые требуют работу с массивами данных. Библиотека NumPy является основой для многих других библиотек, используемых в научных вычислениях и анализе данных, таких как [Pandas](https://pandas.pydata.org/docs/user_guide/10min.html), [SciPy](https://docs.scipy.org/doc/scipy/tutorial/index.html) и [Scikit-Learn](https://scikit-learn.org/stable/).\n",
        "\n",
        "Одним из главных преимуществ NumPy является возможность выполнения вычислений над массивами данных с высокой производительностью. NumPy использует оптимизированные алгоритмы, написанные на языке программирования C, что позволяет ему обрабатывать большие объемы данных с высокой скоростью.\n",
        "\n",
        "В NumPy определен многомерный массив (ndarray), который является основным объектом библиотеки. Этот объект представляет собой таблицу элементов (чисел), все из которых должны иметь одинаковый тип. NumPy также предоставляет функции для создания и манипулирования массивами данных, включая срезы (*slicing*), индексацию и изменение формы массивов. Подробности в [документации](https://numpy.org/doc/stable/).\n",
        "\n",
        "Установить библиотеку NumPy в Python можно выполнив в терминале\n",
        "\n",
        "`pip install numpy`"
      ]
    },
    {
      "cell_type": "code",
      "execution_count": 23,
      "metadata": {
        "id": "xZjL5IusInG2"
      },
      "outputs": [],
      "source": [
        "import numpy as np"
      ]
    },
    {
      "cell_type": "markdown",
      "metadata": {
        "id": "g9ytDH6iInG4"
      },
      "source": [
        "# Создание массивов"
      ]
    },
    {
      "cell_type": "markdown",
      "metadata": {
        "id": "NWApKdG1H78h"
      },
      "source": [
        "## Массивы из списков"
      ]
    },
    {
      "cell_type": "code",
      "execution_count": 24,
      "metadata": {
        "colab": {
          "base_uri": "https://localhost:8080/"
        },
        "id": "atznN9REInG4",
        "outputId": "4e1a3827-d85d-442a-a7a8-ca3c374a8904"
      },
      "outputs": [
        {
          "name": "stdout",
          "output_type": "stream",
          "text": [
            "[1 4 6 8] [5 6 7 8]\n",
            "lenght: 4\n",
            "type: <class 'numpy.ndarray'>\n",
            "elements type: int64\n"
          ]
        }
      ],
      "source": [
        "x1 = np.array([1, 4, 6, 8])         # явное задание массива в виде списка\n",
        "\n",
        "# массив numpy можно создать из списка (list):\n",
        "some_numeric_list = [5, 6, 7, 8]\n",
        "x2 = np.array(some_numeric_list)    # создание массива из списка\n",
        "\n",
        "print(x1, x2)\n",
        "print('lenght:', len(x1))\n",
        "print('type:', type(x1))\n",
        "print('elements type:', x1.dtype)"
      ]
    },
    {
      "cell_type": "code",
      "execution_count": 25,
      "metadata": {
        "colab": {
          "base_uri": "https://localhost:8080/"
        },
        "id": "a3QuOtwyInG6",
        "outputId": "d3c804f7-834e-45eb-96d8-b664d07d8aef"
      },
      "outputs": [
        {
          "name": "stdout",
          "output_type": "stream",
          "text": [
            "[[1. 4. 3. 2.]\n",
            " [4. 5. 6. 3.]\n",
            " [5. 1. 3. 7.]]\n",
            "array shape: (3, 4)\n"
          ]
        }
      ],
      "source": [
        "# создадим двумерный массив (матрицу) с заданным типом значений\n",
        "x3 = np.array([\n",
        "    [1, 4, 3, 2],\n",
        "    [4, 5, 6, 3],\n",
        "    [5, 1, 3, 7],\n",
        "], dtype=np.float32)\n",
        "print(x3)\n",
        "print('array shape:', x3.shape)"
      ]
    },
    {
      "cell_type": "markdown",
      "metadata": {
        "id": "G1m6Uf7rInG6"
      },
      "source": [
        "Здесь явно задан тип `float32`. Полный список доступных типов [здесь](https://numpy.org/doc/1.17/user/basics.types.html)."
      ]
    },
    {
      "cell_type": "markdown",
      "metadata": {
        "id": "R0hIfW60Ifkz"
      },
      "source": [
        "## Генерация массивов заданной формы"
      ]
    },
    {
      "cell_type": "markdown",
      "metadata": {
        "id": "lQlPNZopJgrl"
      },
      "source": [
        "Функции `zeros()`, `ones()` и `full()` возвращают массивы, заполненные соответственно нулями, единицами или заданным значением. Форама массива задается первым аргументом (`shape`)."
      ]
    },
    {
      "cell_type": "code",
      "execution_count": 26,
      "metadata": {
        "colab": {
          "base_uri": "https://localhost:8080/"
        },
        "id": "B7cGcmrjInG7",
        "outputId": "e138245a-231f-4c39-f85c-0e1184f23310"
      },
      "outputs": [
        {
          "name": "stdout",
          "output_type": "stream",
          "text": [
            "xZeros = array([[0., 0., 0.],\n",
            "       [0., 0., 0.]])\n",
            "xOnes = array([[1., 1., 1., 1.],\n",
            "       [1., 1., 1., 1.]])\n",
            "xFull = array([[7., 7.],\n",
            "       [7., 7.]])\n"
          ]
        }
      ],
      "source": [
        "xZeros = np.zeros((2, 3))                   # заполнение нулями\n",
        "xOnes = np.ones((2, 4))                     # заполнение единицами\n",
        "xFull = np.full((2, 2), fill_value=7.0)     # заполнение числом 7\n",
        "\n",
        "print(f\"{xZeros = }\")\n",
        "print(f\"{xOnes = }\")\n",
        "print(f\"{xFull = }\")"
      ]
    },
    {
      "cell_type": "code",
      "execution_count": null,
      "metadata": {
        "colab": {
          "base_uri": "https://localhost:8080/"
        },
        "id": "Qvs6YvvpInG9",
        "outputId": "3edaefdb-56d1-487f-eaee-64d97292ce54"
      },
      "outputs": [
        {
          "name": "stdout",
          "output_type": "stream",
          "text": [
            "eye:\n",
            " [[1 0 0 0]\n",
            " [0 1 0 0]\n",
            " [0 0 1 0]\n",
            " [0 0 0 1]]\n",
            "\n",
            "diag:\n",
            " [[1 0 0 0]\n",
            " [0 2 0 0]\n",
            " [0 0 3 0]\n",
            " [0 0 0 4]]\n"
          ]
        }
      ],
      "source": [
        "# создание диагональных матриц\n",
        "xEye = np.eye(4, dtype=np.int16)    # значения по главной диагонали равны 1\n",
        "xDiag = np.diag(v=(1, 2, 3, 4))\n",
        "\n",
        "print('eye:\\n', xEye)\n",
        "print('\\ndiag:\\n', xDiag)"
      ]
    },
    {
      "cell_type": "markdown",
      "metadata": {
        "id": "2FBB5WiGKgok"
      },
      "source": [
        "Можно создать массив, заполненный определенным числом, форма и тип значений которого повторяет форму и тип элементов другого массива при помощи функций `zeros_like()`, `ones_like()`, `full_like()`. При желании можно здать определенный тип элементов (аргумент `dtype`), переняв от исходного массива только форму.\n"
      ]
    },
    {
      "cell_type": "code",
      "execution_count": 32,
      "metadata": {
        "colab": {
          "base_uri": "https://localhost:8080/"
        },
        "id": "0Q5jOA1gInG8",
        "outputId": "bac01e67-3e99-4f66-eb0d-a4e44c20644c"
      },
      "outputs": [
        {
          "name": "stdout",
          "output_type": "stream",
          "text": [
            "xFillLike = array([[3., 3., 3., 3.],\n",
            "       [3., 3., 3., 3.],\n",
            "       [3., 3., 3., 3.]], dtype=float32)\n",
            "xOnesLike = array([[1, 1, 1, 1],\n",
            "       [1, 1, 1, 1],\n",
            "       [1, 1, 1, 1]], dtype=int16)\n"
          ]
        }
      ],
      "source": [
        "xFillLike = np.full_like(x3, fill_value=3)\n",
        "xOnesLike = np.ones_like(x3, dtype=np.int16)\n",
        "\n",
        "print(f\"{xFillLike = }\\n{xOnesLike = }\")"
      ]
    },
    {
      "cell_type": "markdown",
      "metadata": {
        "id": "hU8tU3TCInG-"
      },
      "source": [
        "Здесь приведены наиболее часто используемые способы создания массивов. Полный список функций, создающих массивы [здесь](https://numpy.org/doc/stable/reference/routines.array-creation.html#routines-array-creation)."
      ]
    },
    {
      "cell_type": "markdown",
      "metadata": {
        "id": "0Fflnmc6A9Xg"
      },
      "source": [
        "Генерация массивов со случайными значениями. Используя функции из модуля `numpy.random`, можно сгенерировать случайное значение, либо массив заданной формы, содержащий случайные значения. Для генерации массива из целых чисел в заданном диапазоне, используйте функцию `randint()`, а для генерации массива из чисел с плавающей точкой в заданном диапазоне, используйте функцию `uniform()`. Первые два аргумента задают диапозон, а третий - форму.\n",
        "\n",
        "В модуле `numpy.random` имеется еще множество других функций, которые могут пригодиться. Подробнее в [документации](https://numpy.org/doc/1.16/reference/routines.random.html)."
      ]
    },
    {
      "cell_type": "code",
      "execution_count": null,
      "metadata": {
        "colab": {
          "base_uri": "https://localhost:8080/"
        },
        "id": "2Fqelx4kAaaP",
        "outputId": "76b8c32d-0034-45b3-f9e8-b6bdba58e85d"
      },
      "outputs": [
        {
          "name": "stdout",
          "output_type": "stream",
          "text": [
            "r = 1\n",
            "R1 = array([[6, 6, 5, 6, 7],\n",
            "       [6, 7, 7, 9, 9],\n",
            "       [8, 8, 6, 6, 8],\n",
            "       [8, 7, 7, 9, 5]])\n",
            "R2 = array([[7.83102971, 5.70342373, 7.84545793, 9.01293003, 5.21418277],\n",
            "       [7.69959519, 8.88984985, 6.2772884 , 8.20904747, 6.95232473],\n",
            "       [6.21241156, 5.6676379 , 5.7806947 , 9.41210892, 8.34116838],\n",
            "       [6.31920132, 6.47239538, 9.7817053 , 7.92578468, 7.75499531]])\n"
          ]
        }
      ],
      "source": [
        "r = np.random.randint(5)\n",
        "R1 = np.random.randint(5, 10, size=(4, 5))\n",
        "R2 = np.random.uniform(5, 10, size=(4, 5))\n",
        "\n",
        "print(f\"{r = }\\n{R1 = }\\n{R2 = }\")"
      ]
    },
    {
      "cell_type": "markdown",
      "metadata": {
        "id": "QnQKhO8ZMsXH"
      },
      "source": [
        "## Генерация массивов в диапозоне"
      ]
    },
    {
      "cell_type": "markdown",
      "metadata": {
        "id": "TN_Rj0S9FKYh"
      },
      "source": [
        "Можно задать массив состоящий из последовательности в заданном диапазоне с заданным шагом. В функции `arrange()` позиционными аргументами можно задать:\n",
        "- первый аргумент: стартовное значение последовательности\n",
        "- второй аргумент: финальное значение (не входит в последовательность)\n",
        "- третий аргумент: шаг последовательности"
      ]
    },
    {
      "cell_type": "code",
      "execution_count": 27,
      "metadata": {
        "colab": {
          "base_uri": "https://localhost:8080/"
        },
        "id": "pCSD4ga8InG9",
        "outputId": "07812f22-1e08-45e5-fd90-cdd4858e1adf"
      },
      "outputs": [
        {
          "name": "stdout",
          "output_type": "stream",
          "text": [
            "[0 1 2 3 4 5 6 7 8 9]\n",
            "[ 5  7  9 11 13]\n",
            "[15 13 11  9  7]\n"
          ]
        }
      ],
      "source": [
        "xArange = np.arange(10)             # задан только один аргумент\n",
        "yArange = np.arange(5, 15, 2)       # возрастающая последовательность\n",
        "zArange = np.arange(15, 5, -2)      # убывающая последовательность\n",
        "\n",
        "print(xArange)\n",
        "print(yArange)\n",
        "print(zArange)"
      ]
    },
    {
      "cell_type": "markdown",
      "metadata": {
        "id": "vw3yyye2OXQr"
      },
      "source": [
        "Равномерно распределенные значения в заданном диапазоне с заданным число разбиения диапазона"
      ]
    },
    {
      "cell_type": "code",
      "execution_count": null,
      "metadata": {
        "colab": {
          "base_uri": "https://localhost:8080/"
        },
        "id": "W0uv6YN8InG-",
        "outputId": "377d39a6-eb26-4bb0-9822-7de8b014c180"
      },
      "outputs": [
        {
          "name": "stdout",
          "output_type": "stream",
          "text": [
            "[ 5.          6.11111111  7.22222222  8.33333333  9.44444444 10.55555556\n",
            " 11.66666667 12.77777778 13.88888889 15.        ]\n",
            "float64\n"
          ]
        }
      ],
      "source": [
        "xSpace = np.linspace(5, 15, 10)\n",
        "print(xSpace)\n",
        "print(xSpace.dtype)"
      ]
    },
    {
      "cell_type": "markdown",
      "metadata": {
        "id": "Bq8ZDlEkInG-"
      },
      "source": [
        "# Операции над массивами"
      ]
    },
    {
      "cell_type": "markdown",
      "metadata": {
        "id": "hm4gp95eInG_"
      },
      "source": [
        "## Умножение всех элементов массива на число"
      ]
    },
    {
      "cell_type": "code",
      "execution_count": null,
      "metadata": {
        "id": "zReHLEsEInG_"
      },
      "outputs": [],
      "source": [
        "# создадим первый массив:\n",
        "a = np.array([\n",
        "    [1, 2 ,3],\n",
        "    [4, 5, 6],\n",
        "    [7, 8, 9]\n",
        "])\n",
        "# второй массив создадим из первого, домножив его на 2:\n",
        "b = a * 2\n",
        "# второй массив будет результатом умножения всех элементов\n",
        "# первого массива на число 2\n",
        "print(b)"
      ]
    },
    {
      "cell_type": "markdown",
      "metadata": {
        "id": "dlZyLY3fInG_"
      },
      "source": [
        "## Поэлементные операции"
      ]
    },
    {
      "cell_type": "code",
      "execution_count": null,
      "metadata": {
        "id": "2x7pMFlBInG_"
      },
      "outputs": [],
      "source": [
        "c = a + b\n",
        "d = a * b\n",
        "\n",
        "print('c:\\n', c)\n",
        "print('d:\\n', d)\n",
        "\n",
        "# подобным образом можно производить и поэлментное деление и вычитание"
      ]
    },
    {
      "cell_type": "markdown",
      "metadata": {
        "id": "K7IMb8dDInHA"
      },
      "source": [
        "## Другие операции над массивами"
      ]
    },
    {
      "cell_type": "code",
      "execution_count": null,
      "metadata": {
        "id": "qlEsMrgdInHA"
      },
      "outputs": [],
      "source": [
        "print(  c.min()     )      # значение минимального элемента\n",
        "print(  c.max()     )      # значение максималаьного элемента\n",
        "print(  c.sum()     )      # сумма всех элементов массива\n",
        "print(  c.mean()    )      # среднее арифметическое от всех элементов"
      ]
    },
    {
      "cell_type": "markdown",
      "metadata": {
        "id": "SkLpPHTxInHB"
      },
      "source": [
        "## Преобразование формы при помощи метода `reshape()`\n",
        "Метод `reshape() `в классе `ndarray` библиотеки NumPy позволяет изменять форму (`shape`) массива без изменения его данных. Он возвращает новый массив с теми же данными, но с новой формой. Для этого нужно передать в качестве аргумента кортеж с новой формой. Количество элементов в массиве новой формы должно совпадать с количеством элементов исходного массива."
      ]
    },
    {
      "cell_type": "code",
      "execution_count": null,
      "metadata": {
        "id": "x8Pwgoy9InHC"
      },
      "outputs": [],
      "source": [
        "a = np.array([\n",
        "            [1,  2,  3,  4],\n",
        "            [5,  6,  7,  8],\n",
        "            [9, 10, 11, 12],\n",
        "            ])\n",
        "a.shape"
      ]
    },
    {
      "cell_type": "code",
      "execution_count": null,
      "metadata": {
        "id": "wQYth8JhInHC"
      },
      "outputs": [],
      "source": [
        "a.reshape((4, 3))"
      ]
    },
    {
      "cell_type": "code",
      "execution_count": null,
      "metadata": {
        "id": "Ha5y8YgYInHC"
      },
      "outputs": [],
      "source": [
        "a.reshape((2, 2, 3))"
      ]
    },
    {
      "cell_type": "markdown",
      "metadata": {
        "id": "C-mxbNMxInHC"
      },
      "source": [
        "Если в метод `reshape()` передать кортеж формы, содержащий значение `-1`, то это значение будет заменено на вычисленное автоматически значение, которое гарантирует, что общее количество элементов массива останется неизменным."
      ]
    },
    {
      "cell_type": "code",
      "execution_count": null,
      "metadata": {
        "id": "xqE6HdiIInHD"
      },
      "outputs": [],
      "source": [
        "a.reshape((2, -1))\n",
        "# втрым значением формы будет 6:"
      ]
    },
    {
      "cell_type": "code",
      "execution_count": null,
      "metadata": {
        "id": "UmkqBiJZInHD"
      },
      "outputs": [],
      "source": [
        "a.reshape(-1)"
      ]
    },
    {
      "cell_type": "code",
      "execution_count": null,
      "metadata": {
        "id": "-oMJDQQtInHD"
      },
      "outputs": [],
      "source": [
        "a.reshape((-1, 1))"
      ]
    },
    {
      "cell_type": "markdown",
      "metadata": {
        "id": "xV4dVAwxInHA"
      },
      "source": [
        "# Доступ к элментам массива по индексам"
      ]
    },
    {
      "cell_type": "code",
      "execution_count": null,
      "metadata": {
        "id": "1gTLm8nBInHB"
      },
      "outputs": [],
      "source": [
        "print(c[2])     # доступ к строке с индексом 2\n",
        "print(c[:, 1])  # доступ к столбцу с индексом 1\n",
        "print(c[2, 0])  # доступ к элементу 2-ой строки 0-го столбца\n",
        "c[0, 1] = 42    # изменение значения элемента 0-ой строки 1-го столбца"
      ]
    },
    {
      "cell_type": "code",
      "execution_count": null,
      "metadata": {
        "id": "uDSTIGooInHB"
      },
      "outputs": [],
      "source": [
        "# перебор всех элементов двумерного массива в цикле\n",
        "for i in range(c.shape[0]):\n",
        "    for j in range(c.shape[1]):\n",
        "        print(c[i, j])"
      ]
    },
    {
      "cell_type": "markdown",
      "metadata": {
        "id": "DP9YcXmPInHD"
      },
      "source": [
        "# Фильтрация массивов"
      ]
    },
    {
      "cell_type": "code",
      "execution_count": null,
      "metadata": {
        "id": "uuE1XGatInHE"
      },
      "outputs": [],
      "source": [
        "# операторы сравнения\n",
        "a = np.array([1, 2, 3, 3, 2, 1])\n",
        "a == 2"
      ]
    },
    {
      "cell_type": "code",
      "execution_count": null,
      "metadata": {
        "id": "UsZhuWXUInHE"
      },
      "outputs": [],
      "source": [
        "print(a)\n",
        "a_mask = (a <= 2)\n",
        "print(a_mask)\n",
        "extract = a[a_mask]\n",
        "print(extract)"
      ]
    },
    {
      "cell_type": "code",
      "execution_count": null,
      "metadata": {
        "id": "XnF2LmbSInHE"
      },
      "outputs": [],
      "source": [
        "b = np.array([\n",
        "    [1, 4, 3, 2],\n",
        "    [4, 5, 6, 3],\n",
        "    [5, 1, 3, 7],\n",
        "], dtype=np.int8)\n",
        "b.shape"
      ]
    },
    {
      "cell_type": "code",
      "execution_count": null,
      "metadata": {
        "id": "Nl9cFjknInHE"
      },
      "outputs": [],
      "source": [
        "mask = [True, False, True]\n",
        "extracted = b[mask]\n",
        "extracted"
      ]
    },
    {
      "cell_type": "code",
      "execution_count": null,
      "metadata": {
        "id": "o3omtpspInHF"
      },
      "outputs": [],
      "source": [
        "b[(0, 2), :]"
      ]
    },
    {
      "cell_type": "code",
      "execution_count": null,
      "metadata": {
        "id": "6dJf-bj_InHF"
      },
      "outputs": [],
      "source": [
        "mask = [True, False, True, False]\n",
        "b[:, mask]"
      ]
    },
    {
      "cell_type": "code",
      "execution_count": null,
      "metadata": {
        "id": "7BsatplIInHF"
      },
      "outputs": [],
      "source": [
        "b[:, (0, 2)]"
      ]
    },
    {
      "cell_type": "code",
      "execution_count": null,
      "metadata": {
        "id": "4A-3sEaYInHL"
      },
      "outputs": [],
      "source": [
        "c = np.array([[ 0,  1,  2],     # row index 0\n",
        "              [ 3,  4,  5],     # row index 1\n",
        "              [ 6,  7,  8],     # row index 2\n",
        "              [ 9, 10, 11]])    # row index 3\n",
        "\n",
        "# составим массив из индексов строк массива c:\n",
        "d = np.array([2, 1, 3, 1, 1, 2, 3])\n",
        "\n",
        "e = c[d]"
      ]
    },
    {
      "cell_type": "markdown",
      "metadata": {
        "id": "bJHTLfl_InHM"
      },
      "source": [
        "Массив `e` составлен из строк массива `c`, а число строк равно длине массива `d`. Строки в `e` выбраны из строк `c` в соответствии с индексами, представленными в `d`."
      ]
    }
  ],
  "metadata": {
    "colab": {
      "include_colab_link": true,
      "provenance": [],
      "toc_visible": true
    },
    "kernelspec": {
      "display_name": "tf",
      "language": "python",
      "name": "python3"
    },
    "language_info": {
      "codemirror_mode": {
        "name": "ipython",
        "version": 3
      },
      "file_extension": ".py",
      "mimetype": "text/x-python",
      "name": "python",
      "nbconvert_exporter": "python",
      "pygments_lexer": "ipython3",
      "version": "3.10.10"
    },
    "orig_nbformat": 4
  },
  "nbformat": 4,
  "nbformat_minor": 0
}
