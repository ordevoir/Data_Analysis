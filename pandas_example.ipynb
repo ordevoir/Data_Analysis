{
  "cells": [
    {
      "cell_type": "markdown",
      "metadata": {
        "colab_type": "text",
        "id": "view-in-github"
      },
      "source": [
        "<a href=\"https://colab.research.google.com/github/ordevoir/Data_Analysis/blob/main/pandas_example.ipynb\" target=\"_parent\"><img src=\"https://colab.research.google.com/assets/colab-badge.svg\" alt=\"Open In Colab\"/></a>"
      ]
    },
    {
      "cell_type": "markdown",
      "metadata": {
        "id": "_7q6cLObt_ij"
      },
      "source": [
        "# Данные\n",
        "\n",
        "**Данные** (*Data*) - представление информации в формализованном виде, пригодном для хранения, передачи или обработки.\n",
        "\n",
        "**Неструктурированные данные** (*Unstructured Data*) - информация, которая либо не имеет заранее определенной модели данных, либо не организована заранее определенным образом. Примерами неструктурированных данных могут быть изображения, видео или аудиофайлы, текстовые документы (в частности, PDF-документы), в которых содержатся даты, числа или факты.\n",
        "\n",
        "**Структурированные данные** (*Structured Data*) - хорошо организованное представление информации, которое имеет определенную структуру. Структурированные данные обычно существуют в виде таблиц, баз данных и прочих формах, в которых заранее определена модель данных (не путать со структурами данных: одна и те же структурированные данные могут храниться посредством разных структур данных).\n",
        "\n",
        "**Анализ данных** (*Data Analysis*) - это процесс, который включает в себя сбор, обработку, изучение и интерпретацию данных с целью извлечения полезной информации и принятия решений."
      ]
    },
    {
      "cell_type": "markdown",
      "metadata": {
        "id": "HxPedOm6t_ik"
      },
      "source": [
        "## Элементы структурированных данных\n",
        "\n",
        "Можно выделить два основных **типа данных** (*data types*), которые участвуют в формированиии структурированных данных: числовые и категориальные; в иных терминах можно было бы использовать слова **количественные** (*quantitative*) и **качественные** (*qualitative*).\n",
        "\n",
        "**Числовые** (*numerical*) данные имеют две формы: **непрерывную** (*continuous*) или **дискретную** (*discrete*). С числовыми данными можно производить арифметические манипуляции, между значениями легко определить способ измерения расстояния. Имеет смысл вычислять среднее от значений и тд.\n",
        "\n",
        "**Категориальные** (*categorical*) данные как правило принимают значение из ограниченного и фиксированного множества. Различают номинальны  и порядковые категориальные данные.\n",
        "\n",
        "**Номинальные** (*nominal*) данные группируются во взаимоисключающие описательные категории, между которыми нет отношения порядка. Примерами могут быть такие признаки как цвет волос, группа крови или политические предпочтения. Несмотря на то, что группы крови могут быть представлены в виде чисел, они не имеют арифметического значения, и нет смысла сравнивать их по величине.\n",
        "\n",
        "**Порядковые** (*ordinal*) отличаются от номинальных тем, что в категориях есть естественный порядок, например, уровень образования, уровень дохода, тяжесть состояния больного. Принципиальное отличие порядковых данных от числовых в том, что для них не определена шкала, в соответствии с которой можно было бы говорить о расстоянии, между значениями. Поэтому арифметические операции и поиск среднего значения не имеет большого смысла.\n",
        "\n",
        "---"
      ]
    },
    {
      "cell_type": "markdown",
      "metadata": {
        "id": "uh5Enw0Ft_il"
      },
      "source": [
        "# [Pandas](\"https://pandas.pydata.org/)"
      ]
    },
    {
      "cell_type": "markdown",
      "metadata": {
        "id": "ruGXOFC7t_il"
      },
      "source": [
        "Pandas – это библиотека Python, которая предоставляет инструменты для анализа структурированных данных. Основными структурами в Pandas являются [`DataFrame`](https://pandas.pydata.org/docs/reference/frame.html) и [`Series`](https://pandas.pydata.org/docs/reference/api/pandas.Series.html).\n",
        "- `DataFrame` – это двумерная таблица, которая содержит данные различных типов.  \n",
        "- `Series` представляет собой единственную колонку с данными.\n",
        "\n",
        "Эти структуры данных также содержат названия для строк и колонок.\n",
        "\n",
        "Pandas также предоставляет инструменты для чтения и записи данных из различных источников, таких как CSV, Excel, базы данных, веб-API и т.д.\n",
        "\n",
        "Установить библиотеку Pandas в Python можно выполнив в терминале\n",
        "\n",
        "`pip install pandas`"
      ]
    },
    {
      "cell_type": "code",
      "execution_count": null,
      "metadata": {
        "id": "9po1Q4F8t_il"
      },
      "outputs": [],
      "source": [
        "import pandas as pd\n",
        "import numpy as np\n",
        "import matplotlib.pyplot as plt"
      ]
    },
    {
      "cell_type": "markdown",
      "metadata": {
        "id": "nLZ4an1Ct_im"
      },
      "source": [
        "---\n",
        "\n",
        "## Загрузка данных"
      ]
    },
    {
      "cell_type": "markdown",
      "metadata": {
        "id": "go0gAyxvt_im"
      },
      "source": [
        "Загрузим данные из файла data.csv формата CSV (*comma-separated values*), расположенного на локальном диске. Фактически это текстовый файл, в котором задана таблица, строки которой разделены переносом на новую строку, а колонки разделены запятыми. Откройте этот файл в текстовом редакторе и просмотрите его. Убедитесь, что это такие же данные, какие были сгенерированы в файле matplotlib_examples.ipynb. Вы можете также открыть файл data.csv в Microsoft Excel.\n",
        "\n",
        "Для того, чтобы загрузить данные из файла формата CSV используется функция `read_csv()` в которую передается в качестве аргумента путь к файлу. Функция возвращает объект класса `DataFrame`:\n",
        "\n",
        ">>```python\n",
        ">>pd.read_csv('directory/file_name.csv')\n",
        ">>```"
      ]
    },
    {
      "cell_type": "markdown",
      "metadata": {},
      "source": [
        "Загрузка данных из локального"
      ]
    },
    {
      "cell_type": "code",
      "execution_count": null,
      "metadata": {
        "colab": {
          "base_uri": "https://localhost:8080/"
        },
        "id": "l5MxsFfEvNd8",
        "outputId": "3dbe57bd-f1ec-4caa-dba9-44b0df042bac"
      },
      "outputs": [],
      "source": [
        "from google.colab import drive\n",
        "drive.mount('/content/drive')"
      ]
    },
    {
      "cell_type": "code",
      "execution_count": null,
      "metadata": {
        "colab": {
          "base_uri": "https://localhost:8080/"
        },
        "id": "yZU2Qx-6wLhe",
        "outputId": "44a92d41-fe7c-4760-f231-233aa75b39a6"
      },
      "outputs": [],
      "source": [
        "data = pd.read_csv('drive/MyDrive/Colab Notebooks/data.csv')\n",
        "print(type(data))"
      ]
    },
    {
      "cell_type": "code",
      "execution_count": null,
      "metadata": {
        "id": "8isAiTs_t_in",
        "outputId": "49fc4514-e286-4d68-919f-4600495c8d05"
      },
      "outputs": [],
      "source": [
        "# посмотрим на загруженные данные\n",
        "data.head()     # просмотр первых пяти строк\n",
        "# data          # просмотр данных целиком"
      ]
    },
    {
      "cell_type": "markdown",
      "metadata": {
        "id": "bSnwsDKst_in"
      },
      "source": [
        "Загрузка данных из файла, расположенного в репозитории GitHub"
      ]
    },
    {
      "cell_type": "code",
      "execution_count": null,
      "metadata": {
        "id": "nO7etbz1t_in"
      },
      "outputs": [],
      "source": [
        "housing = pd.read_csv('https://raw.githubusercontent.com/ordevoir/Data_Analysis/main/housing.csv')"
      ]
    },
    {
      "cell_type": "markdown",
      "metadata": {
        "id": "JX_8Tk0gt_in"
      },
      "source": [
        "## `DataFrame`\n",
        "\n",
        "В таблице `DataFrame` в строках записаны данные об **оразцах** (*samples*), а колонкам таблицы соответствуют признаки (*features*). В терминах баз данных можно сказать, что в строках расположены **записи** (*records*) об экземплярах, а колонки соответствуют **полям** (*fields*), также используется понятие **атрибут** (*atribute*).\n",
        "\n",
        "Колонки таблицы умеют названия, соовтетствующие названиям признаков. Традиционные таблицы базы данных содержат колоноку (или несколько колонок) для индексации. Это значительно повышает эффективность некоторых запросов\n",
        "к базе данных. По умолчанию для объекта `DataFrame` создается автоматический целочисленный индекс, который основывается на порядке следования строк таблицы. В pandas также существует возможность задавать многоуровневые/иерархические индексы с целью повышения эффективности некоторых операций."
      ]
    },
    {
      "cell_type": "markdown",
      "metadata": {
        "id": "7CCfjvlUt_io"
      },
      "source": [
        "## Обзор данных"
      ]
    },
    {
      "cell_type": "code",
      "execution_count": null,
      "metadata": {
        "id": "JnKLt-FZt_io",
        "outputId": "d52af38a-d7e7-421c-d251-8b2c5825e995"
      },
      "outputs": [],
      "source": [
        "housing.head()  # вывод первых пяти образцов"
      ]
    },
    {
      "cell_type": "markdown",
      "metadata": {
        "id": "5C-XAfF-t_io"
      },
      "source": [
        "При помощи метода `info()` можно увидеть, сколько всего образцов, сколько атрибутов, какое количество непустых значений параметров, какие у них типы данных:"
      ]
    },
    {
      "cell_type": "code",
      "execution_count": null,
      "metadata": {
        "id": "YnhBlLzFt_io",
        "outputId": "2e8020c9-4aa8-4734-8252-ef600357022f"
      },
      "outputs": [],
      "source": [
        "housing.info()  # вывод информации об атрибутах"
      ]
    },
    {
      "cell_type": "markdown",
      "metadata": {
        "id": "QGgCiVKJt_io"
      },
      "source": [
        "Статистическое описание атрибутов можно посмотреть при помощи метода `describe()`.<br>"
      ]
    },
    {
      "cell_type": "code",
      "execution_count": null,
      "metadata": {
        "id": "aGl1neNKt_io",
        "outputId": "b45a3231-9a64-47a6-89d9-e4bcdc923161"
      },
      "outputs": [],
      "source": [
        "housing.describe()"
      ]
    },
    {
      "cell_type": "markdown",
      "metadata": {
        "id": "SO8k_npqt_io"
      },
      "source": [
        "При помощи метода `value_counts()` можно посмотреть распределение значений для отдельного признака: список принимаемых признак значений, и количество образцов с этим значением. Это полезно, когда принимаемых значений не так много. Обычно это касается категориальных признаков, таких как `ocean_proximity` в данных `housing`. Заметим, что доступ к столбцу признака производится по ключу, подобно тому, как это делается в словарях (dict)."
      ]
    },
    {
      "cell_type": "code",
      "execution_count": null,
      "metadata": {
        "id": "ptWjRo4Ut_io",
        "outputId": "79e3c518-0683-4cf1-c822-9d40f0cdf897"
      },
      "outputs": [],
      "source": [
        "housing['ocean_proximity'].value_counts()"
      ]
    },
    {
      "cell_type": "markdown",
      "metadata": {
        "id": "Px7jaugvt_ip"
      },
      "source": [
        "Метод `hist()` позволяет визуализировать распределение значений признака. Сравните значения, полученные в предыдущей ячейке с кодом со значениями на диаграмме:"
      ]
    },
    {
      "cell_type": "code",
      "execution_count": null,
      "metadata": {
        "id": "RlLsbbEXt_ip",
        "outputId": "c8e1e91f-cee1-4b4d-ce55-8bd3d129f731"
      },
      "outputs": [],
      "source": [
        "housing['ocean_proximity'].hist(figsize=(5, 3))"
      ]
    },
    {
      "cell_type": "markdown",
      "metadata": {
        "id": "YQGkegrXt_ip"
      },
      "source": [
        "Особенно полезен метод `hist()` для числовых признаков, когда принимаемых значений очень много, и метод `value_counts()` уже не выводит удобные для восприятия данные. Попробуйте вместо `hist()` вызвать метод `value_counts()` и посмотрите результат."
      ]
    },
    {
      "cell_type": "code",
      "execution_count": null,
      "metadata": {
        "id": "4pRfUP58t_ip",
        "outputId": "668b9599-ff6f-4118-aafd-a6e22a7ee3ca"
      },
      "outputs": [],
      "source": [
        "housing['median_income'].hist(bins=12, figsize=(5,3))"
      ]
    },
    {
      "cell_type": "markdown",
      "metadata": {
        "id": "tOE9hZb0t_ip"
      },
      "source": [
        "Если вызвать метод `hist()` непосредственно у объекта класса `DataFrame`, то будут визуализировано распределение всех числовых признаков:"
      ]
    },
    {
      "cell_type": "code",
      "execution_count": null,
      "metadata": {
        "id": "9dfVhCpwt_ip",
        "outputId": "c305e7f2-eecb-4066-eb4a-31c9b76c8226"
      },
      "outputs": [],
      "source": [
        "housing.hist(bins=15, figsize=(15, 10))"
      ]
    },
    {
      "cell_type": "markdown",
      "metadata": {
        "id": "UtsF6DZht_ip"
      },
      "source": [
        "## Series"
      ]
    },
    {
      "cell_type": "markdown",
      "metadata": {
        "id": "MXyJ-GJNt_iq"
      },
      "source": [
        "Если извлечь из объекта `DataFrame` данные одного из атрибутов (столбец), получим объект `Series`."
      ]
    },
    {
      "cell_type": "code",
      "execution_count": null,
      "metadata": {
        "id": "adHg_Takt_iq",
        "outputId": "1b2cbb6b-0853-4313-d65d-c8aac5455e2f"
      },
      "outputs": [],
      "source": [
        "s = housing['latitude']\n",
        "type(s)"
      ]
    },
    {
      "cell_type": "code",
      "execution_count": null,
      "metadata": {
        "id": "fMW_ozTZt_iq",
        "outputId": "71f68b75-8ee7-4d88-9456-c7d545e1fcb4"
      },
      "outputs": [],
      "source": [
        "s.info()"
      ]
    },
    {
      "cell_type": "markdown",
      "metadata": {
        "id": "4TE4NlEQt_iq"
      },
      "source": [
        "## Решение проблемы с отсутствующими признаками"
      ]
    },
    {
      "cell_type": "markdown",
      "metadata": {
        "id": "2OW2A3aUt_iq"
      },
      "source": [
        "Большинство алгоритмов машинного обучения не могут работать с отсутствующими признакми; в нашем случае мы видели, что у атрибута `total_bedrooms` отсутствовали признаки для некоторого подмножества образцов. Можно исправить ситуацию несколькими способами:\n",
        "\n",
        "1. избавиться от образцов, у которых отсутствуют признаки total_bedrooms:<br>\n",
        "`housing.dropna(subset=[\"total_bedrooms\"])`<br>\n",
        "\n",
        "2. избавиться от самого атрибута total_bedrooms:<br>\n",
        "`housing.drop(\"total_bedrooms\", axis=1)`\n",
        "\n",
        "3. заполнить отсутствующие признаки значениями (нулями, средним арифметическим, и тд.):<br>\n",
        "`mean = housing[\"total_bedrooms\"].mean()`<br>\n",
        "`housing[\"total_bedrooms\"].fillna(mean)`<br>\n",
        "в последнем случае значение mean следует сохранить до конца вычислений, так как для заполненных данных пересчет этого значения может дать уже другое значение.\n",
        "\n",
        "Окончание -`na` в этих методав является аббревиатурой *Not Available* (нет в наличии). Такие методы оказывают влияние только на те ячейки таблицы данных, в которых отсутствуют значения."
      ]
    },
    {
      "cell_type": "markdown",
      "metadata": {
        "id": "GdymUVCMqz5e"
      },
      "source": [
        "### Удаление образцов\n",
        "\n",
        "Удалим образцы с отсутствующими значениями признака `total_bedrooms`"
      ]
    },
    {
      "cell_type": "code",
      "execution_count": null,
      "metadata": {
        "id": "j1ka_UPrt_iq"
      },
      "outputs": [],
      "source": [
        "cleared_housing = housing.dropna(subset=[\"total_bedrooms\"])"
      ]
    },
    {
      "cell_type": "code",
      "execution_count": null,
      "metadata": {
        "id": "wtLBbL8et_iq",
        "outputId": "e58809d4-578f-4736-ca4d-d81f1bfcc213"
      },
      "outputs": [],
      "source": [
        "cleared_housing.info()"
      ]
    },
    {
      "cell_type": "markdown",
      "metadata": {
        "id": "7KnJf62drWc3"
      },
      "source": [
        "### Удаление признака\n",
        "\n",
        "Удалим признак `total_bedrooms`:"
      ]
    },
    {
      "cell_type": "code",
      "execution_count": null,
      "metadata": {
        "id": "RLS8d48it_iq"
      },
      "outputs": [],
      "source": [
        "cleared_housing = housing.drop([\"total_bedrooms\", \"ocean_proximity\"], axis=1)"
      ]
    },
    {
      "cell_type": "code",
      "execution_count": null,
      "metadata": {
        "id": "W2weWR7Ht_ir",
        "outputId": "db0e0b21-9d9d-4cc5-b252-169725bd6a6b"
      },
      "outputs": [],
      "source": [
        "cleared_housing.head()"
      ]
    },
    {
      "cell_type": "markdown",
      "metadata": {
        "id": "-33vQXrlru4q"
      },
      "source": [
        "### Заполнение отсутствующих ячеек\n",
        "\n",
        "Получим копию исходной таблицы данных в переменную `filled_housing`. Вычислим среднее значение и медиану признака `total_bedrooms` при помощи методов `means()` и `median()`."
      ]
    },
    {
      "cell_type": "code",
      "execution_count": null,
      "metadata": {
        "colab": {
          "base_uri": "https://localhost:8080/"
        },
        "id": "4u53uEW60cYn",
        "outputId": "36c9a362-a273-4479-efcf-422c4cd5d0e6"
      },
      "outputs": [],
      "source": [
        "filled_housing = housing.copy(deep=True)\n",
        "mean = filled_housing[\"total_bedrooms\"].mean()\n",
        "median = filled_housing[\"total_bedrooms\"].median()\n",
        "mean, median"
      ]
    },
    {
      "cell_type": "markdown",
      "metadata": {
        "id": "kumFrNpasZrP"
      },
      "source": [
        "Заполненим отсутствующие ячейки признака `total_bedrooms` значением `mean` используя метод `fillna()`. Методь возвращает объект класса `Series`, который можно присвоить колонке в объекте `DataFrame`. Исходный объект, у которого вызывается метод при этом не меняется.\n",
        "\n",
        "Если задать в методе параметр `inplace=True`, то произойдет заполнение значениями на месте, в колонке самого объекта. Метод при этом ничего не будет возвращать (`None`)."
      ]
    },
    {
      "cell_type": "code",
      "execution_count": null,
      "metadata": {
        "colab": {
          "base_uri": "https://localhost:8080/"
        },
        "id": "JHJ3kq3AuT3o",
        "outputId": "b43346fe-ca43-43d8-97ae-933b02038e86"
      },
      "outputs": [],
      "source": [
        "type(filled_housing[\"total_bedrooms\"].fillna(mean))"
      ]
    },
    {
      "cell_type": "code",
      "execution_count": null,
      "metadata": {
        "id": "C7UGo9Lft_ir"
      },
      "outputs": [],
      "source": [
        "# filled_housing[\"total_bedrooms\"] = filled_housing[\"total_bedrooms\"].fillna(mean)\n",
        "filled_housing[\"total_bedrooms\"].fillna(mean, inplace=True)"
      ]
    },
    {
      "cell_type": "markdown",
      "metadata": {
        "id": "lKUGsJ48t_ir"
      },
      "source": [
        "## Отделение целевого признака"
      ]
    },
    {
      "cell_type": "markdown",
      "metadata": {
        "id": "03w0hDaFt_ir"
      },
      "source": [
        "Извлекаем данные целевого признака в виде одномерного массива NumPy и записываем их в переменную `y`. Остальные признаки извлекаем в виде двумерного массива NumPy и записываем в `X`. Для этого можно использовать метод `to_numpy()`."
      ]
    },
    {
      "cell_type": "code",
      "execution_count": null,
      "metadata": {
        "id": "QjrjCCGHt_is"
      },
      "outputs": [],
      "source": [
        "X = cleared_housing.drop(columns=['median_house_value']).to_numpy()\n",
        "y = cleared_housing['median_house_value'].to_numpy()                # целевой признак"
      ]
    },
    {
      "cell_type": "code",
      "execution_count": null,
      "metadata": {
        "id": "BMtRBwbxt_is",
        "outputId": "b12c40ec-8421-4ca6-bd87-2ff16e4634c5"
      },
      "outputs": [],
      "source": [
        "print(X[:3])"
      ]
    },
    {
      "cell_type": "code",
      "execution_count": null,
      "metadata": {
        "id": "jDKXGtw9t_is",
        "outputId": "b42fc6be-8b6e-4930-f8df-f4cef3b8d115"
      },
      "outputs": [],
      "source": [
        "print(y[:3])"
      ]
    },
    {
      "cell_type": "markdown",
      "metadata": {
        "id": "3vf5N3-9DvrP"
      },
      "source": [
        "## Конвертация категориальных данных\n",
        "\n",
        "Единственный текстовый атрибут в нашей выборке – это `ocean_proximity`.\n",
        "Это не произвольные текстовые значения, возможные значения ограничены, поэтому здесь имеем дело с категоральным атрибутом. Большинство алгоритмов предпочитают работать с числами, поэтому целесообразно конвертировать эти категории из текстовой формы в числовую."
      ]
    },
    {
      "cell_type": "code",
      "execution_count": null,
      "metadata": {
        "colab": {
          "base_uri": "https://localhost:8080/"
        },
        "id": "58sBX5NlDIqm",
        "outputId": "1ced760f-864b-4fc0-efaa-0a59137525fa"
      },
      "outputs": [],
      "source": [
        "housing_cat = housing[[\"ocean_proximity\"]]\n",
        "print(housing_cat.value_counts())"
      ]
    },
    {
      "cell_type": "code",
      "execution_count": null,
      "metadata": {
        "colab": {
          "base_uri": "https://localhost:8080/",
          "height": 206
        },
        "id": "3OWaPHDNxDSw",
        "outputId": "0935c04d-3290-452a-a18e-cd3e17800137"
      },
      "outputs": [],
      "source": [
        "housing_cat.head()"
      ]
    },
    {
      "cell_type": "markdown",
      "metadata": {
        "id": "vv9T_cgcDaRm"
      },
      "source": [
        "### [`OrdinalEncoder`](https://scikit-learn.org/stable/modules/generated/sklearn.preprocessing.OrdinalEncoder.html)\n",
        "\n",
        "Для конвертации категориальных значений в числовые, можно использовать класс `OrdinalEncoder` из модуля `preprocessing` библиотеки `sklearn`. Для этого создается экземпляр класса `OrdinalEncoder`. Вызывается метод `fit()`, который возвращает массив числовых значений, соответствующие категориям."
      ]
    },
    {
      "cell_type": "code",
      "execution_count": null,
      "metadata": {
        "colab": {
          "base_uri": "https://localhost:8080/"
        },
        "id": "OK1En1REDIqm",
        "outputId": "8ce82f3f-e32e-4085-bc54-aa26df0c5020"
      },
      "outputs": [],
      "source": [
        "from sklearn.preprocessing import OrdinalEncoder\n",
        "\n",
        "ordinal_encoder = OrdinalEncoder(dtype=np.float16)\n",
        "ordinal_encoder.fit(housing_cat)\n",
        "housing_cat_encoded = ordinal_encoder.transform(housing_cat)\n",
        "type(housing_cat_encoded), housing_cat_encoded[:3]"
      ]
    },
    {
      "cell_type": "markdown",
      "metadata": {
        "id": "DDja3QFuznbP"
      },
      "source": [
        "Нзавания категорий хранятся в поле `categories_` объекта класса `OrdinalEncoder` в виде массива, а числовые значения, кодирующие категории, соответствуют индексам этих категорий."
      ]
    },
    {
      "cell_type": "code",
      "execution_count": null,
      "metadata": {
        "colab": {
          "base_uri": "https://localhost:8080/"
        },
        "id": "R8xe4oSCzAIS",
        "outputId": "f6810e62-471f-4712-e548-3048beab9f11"
      },
      "outputs": [],
      "source": [
        "ordinal_encoder.categories_"
      ]
    },
    {
      "cell_type": "markdown",
      "metadata": {
        "id": "138n4lqODIqm"
      },
      "source": [
        "Проблемой такого представления является то, что алгоритм может посчитать, что близкие значения параметра, например 0 и 1, свидетельствуют о том, что они ближе, чем, скажем, 0 и 4, что не соответствует действительности. Чтобы избежать таких проблем, можно создавать бинарный атрибут для категорий (*one-hot encoding*) при помощи класса `OneHotEncoder`."
      ]
    },
    {
      "cell_type": "markdown",
      "metadata": {
        "id": "wHXwJ91I0wOS"
      },
      "source": [
        "### [`OneHotEncoder`](https://scikit-learn.org/stable/modules/generated/sklearn.preprocessing.OneHotEncoder.html)\n",
        "\n",
        "Интерфейс подобен классу `OrdinalEncoder`, однако, метод `transorm()` возвращает разареженную матрицу (объект класса `csr_encoded`). Для того, чтобы получить матрицу NumPy, можно воспользоваться методом `toarray()`."
      ]
    },
    {
      "cell_type": "code",
      "execution_count": null,
      "metadata": {
        "colab": {
          "base_uri": "https://localhost:8080/"
        },
        "id": "A9b5gxkqDIqm",
        "outputId": "47be296b-0466-47ec-b5c1-046c7023998a"
      },
      "outputs": [],
      "source": [
        "from sklearn.preprocessing import OneHotEncoder\n",
        "\n",
        "cat_encoder = OneHotEncoder()\n",
        "cat_encoder.fit(housing_cat)\n",
        "housing_cat_encoded = cat_encoder.transform(housing_cat)\n",
        "type(housing_cat_encoded)"
      ]
    },
    {
      "cell_type": "code",
      "execution_count": null,
      "metadata": {
        "colab": {
          "base_uri": "https://localhost:8080/"
        },
        "id": "Rns07tTL1Yre",
        "outputId": "c2b00b86-bec6-4ca2-9fbf-7d2e1fc661c3"
      },
      "outputs": [],
      "source": [
        "housing_cat_encoded.toarray()[:3]"
      ]
    },
    {
      "cell_type": "code",
      "execution_count": null,
      "metadata": {
        "colab": {
          "base_uri": "https://localhost:8080/"
        },
        "id": "CuhV4xfK2bTv",
        "outputId": "b76fbbc6-6756-4a5c-8830-03a981061999"
      },
      "outputs": [],
      "source": [
        "cat_encoder.categories_"
      ]
    },
    {
      "cell_type": "markdown",
      "metadata": {
        "id": "Orkg7wyaDIqm"
      },
      "source": [
        "Стоит иметь в виду, что если категорий очень много, то матрица NumPy может оказаться слишком расточительной, гораздо рациональнее будет использовать разреженную матрицу. Либо попробовать заменить признак не его упорядоченное представление. Например для `ocean_proximity` заменить на расстояние до океана."
      ]
    }
  ],
  "metadata": {
    "colab": {
      "include_colab_link": true,
      "provenance": [],
      "toc_visible": true
    },
    "kernelspec": {
      "display_name": "Python 3.9.12 ('tf')",
      "language": "python",
      "name": "python3"
    },
    "language_info": {
      "codemirror_mode": {
        "name": "ipython",
        "version": 3
      },
      "file_extension": ".py",
      "mimetype": "text/x-python",
      "name": "python",
      "nbconvert_exporter": "python",
      "pygments_lexer": "ipython3",
      "version": "3.11.5"
    },
    "orig_nbformat": 4,
    "vscode": {
      "interpreter": {
        "hash": "e20f72739ffc6c3cc505414aaab49afe57115ca17c783e620ccfd5d632835ddf"
      }
    }
  },
  "nbformat": 4,
  "nbformat_minor": 0
}
