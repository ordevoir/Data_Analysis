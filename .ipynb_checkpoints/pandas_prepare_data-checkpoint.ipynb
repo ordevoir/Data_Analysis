{
 "cells": [
  {
   "cell_type": "markdown",
   "metadata": {
    "id": "4TE4NlEQt_iq"
   },
   "source": [
    "## Решение проблемы с отсутствующими признаками"
   ]
  },
  {
   "cell_type": "markdown",
   "metadata": {
    "id": "2OW2A3aUt_iq"
   },
   "source": [
    "Большинство алгоритмов машинного обучения не могут работать с отсутствующими признакми; в нашем случае мы видели, что у атрибута `total_bedrooms` отсутствовали признаки для некоторого подмножества образцов. Можно исправить ситуацию несколькими способами:\n",
    "\n",
    "1. избавиться от образцов, у которых отсутствуют признаки total_bedrooms:<br>\n",
    "`housing.dropna(subset=[\"total_bedrooms\"])`<br>\n",
    "\n",
    "2. избавиться от самого атрибута total_bedrooms:<br>\n",
    "`housing.drop(\"total_bedrooms\", axis=1)`\n",
    "\n",
    "3. заполнить отсутствующие признаки значениями (нулями, средним арифметическим, и тд.):<br>\n",
    "`mean = housing[\"total_bedrooms\"].mean()`<br>\n",
    "`housing[\"total_bedrooms\"].fillna(mean)`<br>\n",
    "в последнем случае значение mean следует сохранить до конца вычислений, так как для заполненных данных пересчет этого значения может дать уже другое значение.\n",
    "\n",
    "Окончание -`na` в этих методав является аббревиатурой *Not Available* (нет в наличии). Такие методы оказывают влияние только на те ячейки таблицы данных, в которых отсутствуют значения."
   ]
  },
  {
   "cell_type": "markdown",
   "metadata": {
    "id": "GdymUVCMqz5e"
   },
   "source": [
    "### Удаление образцов\n",
    "\n",
    "Удалим образцы с отсутствующими значениями признака `total_bedrooms`"
   ]
  },
  {
   "cell_type": "code",
   "execution_count": null,
   "metadata": {
    "id": "j1ka_UPrt_iq"
   },
   "outputs": [],
   "source": [
    "cleared_housing = housing.dropna(subset=[\"total_bedrooms\"])"
   ]
  },
  {
   "cell_type": "code",
   "execution_count": null,
   "metadata": {
    "id": "wtLBbL8et_iq",
    "outputId": "e58809d4-578f-4736-ca4d-d81f1bfcc213"
   },
   "outputs": [],
   "source": [
    "cleared_housing.info()"
   ]
  },
  {
   "cell_type": "markdown",
   "metadata": {
    "id": "7KnJf62drWc3"
   },
   "source": [
    "### Удаление признака\n",
    "\n",
    "Удалим признак `total_bedrooms`:"
   ]
  },
  {
   "cell_type": "code",
   "execution_count": null,
   "metadata": {
    "id": "RLS8d48it_iq"
   },
   "outputs": [],
   "source": [
    "cleared_housing = housing.drop([\"total_bedrooms\", \"ocean_proximity\"], axis=1)"
   ]
  },
  {
   "cell_type": "code",
   "execution_count": null,
   "metadata": {
    "id": "W2weWR7Ht_ir",
    "outputId": "db0e0b21-9d9d-4cc5-b252-169725bd6a6b"
   },
   "outputs": [],
   "source": [
    "cleared_housing.head()"
   ]
  },
  {
   "cell_type": "markdown",
   "metadata": {
    "id": "-33vQXrlru4q"
   },
   "source": [
    "### Заполнение отсутствующих ячеек\n",
    "\n",
    "Получим копию исходной таблицы данных в переменную `filled_housing`. Вычислим среднее значение и медиану признака `total_bedrooms` при помощи методов `means()` и `median()`."
   ]
  },
  {
   "cell_type": "code",
   "execution_count": null,
   "metadata": {
    "colab": {
     "base_uri": "https://localhost:8080/"
    },
    "id": "4u53uEW60cYn",
    "outputId": "36c9a362-a273-4479-efcf-422c4cd5d0e6"
   },
   "outputs": [],
   "source": [
    "filled_housing = housing.copy(deep=True)\n",
    "mean = filled_housing[\"total_bedrooms\"].mean()\n",
    "median = filled_housing[\"total_bedrooms\"].median()\n",
    "mean, median"
   ]
  },
  {
   "cell_type": "markdown",
   "metadata": {
    "id": "kumFrNpasZrP"
   },
   "source": [
    "Заполненим отсутствующие ячейки признака `total_bedrooms` значением `mean` используя метод `fillna()`. Методь возвращает объект класса `Series`, который можно присвоить колонке в объекте `DataFrame`. Исходный объект, у которого вызывается метод при этом не меняется.\n",
    "\n",
    "Если задать в методе параметр `inplace=True`, то произойдет заполнение значениями на месте, в колонке самого объекта. Метод при этом ничего не будет возвращать (`None`)."
   ]
  },
  {
   "cell_type": "code",
   "execution_count": null,
   "metadata": {
    "colab": {
     "base_uri": "https://localhost:8080/"
    },
    "id": "JHJ3kq3AuT3o",
    "outputId": "b43346fe-ca43-43d8-97ae-933b02038e86"
   },
   "outputs": [],
   "source": [
    "type(filled_housing[\"total_bedrooms\"].fillna(mean))"
   ]
  },
  {
   "cell_type": "code",
   "execution_count": null,
   "metadata": {
    "id": "C7UGo9Lft_ir"
   },
   "outputs": [],
   "source": [
    "# filled_housing[\"total_bedrooms\"] = filled_housing[\"total_bedrooms\"].fillna(mean)\n",
    "filled_housing[\"total_bedrooms\"].fillna(mean, inplace=True)"
   ]
  },
  {
   "cell_type": "markdown",
   "metadata": {
    "id": "lKUGsJ48t_ir"
   },
   "source": [
    "## Отделение целевого признака"
   ]
  },
  {
   "cell_type": "markdown",
   "metadata": {
    "id": "03w0hDaFt_ir"
   },
   "source": [
    "Извлекаем данные целевого признака в виде одномерного массива NumPy и записываем их в переменную `y`. Остальные признаки извлекаем в виде двумерного массива NumPy и записываем в `X`. Для этого можно использовать метод `to_numpy()`."
   ]
  },
  {
   "cell_type": "code",
   "execution_count": null,
   "metadata": {
    "id": "QjrjCCGHt_is"
   },
   "outputs": [],
   "source": [
    "X = cleared_housing.drop(columns=['median_house_value']).to_numpy()\n",
    "y = cleared_housing['median_house_value'].to_numpy()                # целевой признак"
   ]
  },
  {
   "cell_type": "code",
   "execution_count": null,
   "metadata": {
    "id": "BMtRBwbxt_is",
    "outputId": "b12c40ec-8421-4ca6-bd87-2ff16e4634c5"
   },
   "outputs": [],
   "source": [
    "print(X[:3])"
   ]
  },
  {
   "cell_type": "code",
   "execution_count": null,
   "metadata": {
    "id": "jDKXGtw9t_is",
    "outputId": "b42fc6be-8b6e-4930-f8df-f4cef3b8d115"
   },
   "outputs": [],
   "source": [
    "print(y[:3])"
   ]
  },
  {
   "cell_type": "markdown",
   "metadata": {
    "id": "3vf5N3-9DvrP"
   },
   "source": [
    "## Конвертация категориальных данных\n",
    "\n",
    "Единственный текстовый атрибут в нашей выборке – это `ocean_proximity`.\n",
    "Это не произвольные текстовые значения, возможные значения ограничены, поэтому здесь имеем дело с категоральным атрибутом. Большинство алгоритмов предпочитают работать с числами, поэтому целесообразно конвертировать эти категории из текстовой формы в числовую."
   ]
  },
  {
   "cell_type": "code",
   "execution_count": null,
   "metadata": {
    "colab": {
     "base_uri": "https://localhost:8080/"
    },
    "id": "58sBX5NlDIqm",
    "outputId": "1ced760f-864b-4fc0-efaa-0a59137525fa"
   },
   "outputs": [],
   "source": [
    "housing_cat = housing[[\"ocean_proximity\"]]\n",
    "print(housing_cat.value_counts())"
   ]
  },
  {
   "cell_type": "code",
   "execution_count": null,
   "metadata": {
    "colab": {
     "base_uri": "https://localhost:8080/",
     "height": 206
    },
    "id": "3OWaPHDNxDSw",
    "outputId": "0935c04d-3290-452a-a18e-cd3e17800137"
   },
   "outputs": [],
   "source": [
    "housing_cat.head()"
   ]
  },
  {
   "cell_type": "markdown",
   "metadata": {
    "id": "vv9T_cgcDaRm"
   },
   "source": [
    "### [`OrdinalEncoder`](https://scikit-learn.org/stable/modules/generated/sklearn.preprocessing.OrdinalEncoder.html)\n",
    "\n",
    "Для конвертации категориальных значений в числовые, можно использовать класс `OrdinalEncoder` из модуля `preprocessing` библиотеки `sklearn`. Для этого создается экземпляр класса `OrdinalEncoder`. Вызывается метод `fit()`, который возвращает массив числовых значений, соответствующие категориям."
   ]
  },
  {
   "cell_type": "code",
   "execution_count": null,
   "metadata": {
    "colab": {
     "base_uri": "https://localhost:8080/"
    },
    "id": "OK1En1REDIqm",
    "outputId": "8ce82f3f-e32e-4085-bc54-aa26df0c5020"
   },
   "outputs": [],
   "source": [
    "from sklearn.preprocessing import OrdinalEncoder\n",
    "\n",
    "ordinal_encoder = OrdinalEncoder(dtype=np.float16)\n",
    "ordinal_encoder.fit(housing_cat)\n",
    "housing_cat_encoded = ordinal_encoder.transform(housing_cat)\n",
    "type(housing_cat_encoded), housing_cat_encoded[:3]"
   ]
  },
  {
   "cell_type": "markdown",
   "metadata": {
    "id": "DDja3QFuznbP"
   },
   "source": [
    "Нзавания категорий хранятся в поле `categories_` объекта класса `OrdinalEncoder` в виде массива, а числовые значения, кодирующие категории, соответствуют индексам этих категорий."
   ]
  },
  {
   "cell_type": "code",
   "execution_count": null,
   "metadata": {
    "colab": {
     "base_uri": "https://localhost:8080/"
    },
    "id": "R8xe4oSCzAIS",
    "outputId": "f6810e62-471f-4712-e548-3048beab9f11"
   },
   "outputs": [],
   "source": [
    "ordinal_encoder.categories_"
   ]
  },
  {
   "cell_type": "markdown",
   "metadata": {
    "id": "138n4lqODIqm"
   },
   "source": [
    "Проблемой такого представления является то, что алгоритм может посчитать, что близкие значения параметра, например 0 и 1, свидетельствуют о том, что они ближе, чем, скажем, 0 и 4, что не соответствует действительности. Чтобы избежать таких проблем, можно создавать бинарный атрибут для категорий (*one-hot encoding*) при помощи класса `OneHotEncoder`."
   ]
  },
  {
   "cell_type": "markdown",
   "metadata": {
    "id": "wHXwJ91I0wOS"
   },
   "source": [
    "### [`OneHotEncoder`](https://scikit-learn.org/stable/modules/generated/sklearn.preprocessing.OneHotEncoder.html)\n",
    "\n",
    "Интерфейс подобен классу `OrdinalEncoder`, однако, метод `transorm()` возвращает разареженную матрицу (объект класса `csr_encoded`). Для того, чтобы получить матрицу NumPy, можно воспользоваться методом `toarray()`."
   ]
  },
  {
   "cell_type": "code",
   "execution_count": null,
   "metadata": {
    "colab": {
     "base_uri": "https://localhost:8080/"
    },
    "id": "A9b5gxkqDIqm",
    "outputId": "47be296b-0466-47ec-b5c1-046c7023998a"
   },
   "outputs": [],
   "source": [
    "from sklearn.preprocessing import OneHotEncoder\n",
    "\n",
    "cat_encoder = OneHotEncoder()\n",
    "cat_encoder.fit(housing_cat)\n",
    "housing_cat_encoded = cat_encoder.transform(housing_cat)\n",
    "type(housing_cat_encoded)"
   ]
  },
  {
   "cell_type": "code",
   "execution_count": null,
   "metadata": {
    "colab": {
     "base_uri": "https://localhost:8080/"
    },
    "id": "Rns07tTL1Yre",
    "outputId": "c2b00b86-bec6-4ca2-9fbf-7d2e1fc661c3"
   },
   "outputs": [],
   "source": [
    "housing_cat_encoded.toarray()[:3]"
   ]
  },
  {
   "cell_type": "code",
   "execution_count": null,
   "metadata": {
    "colab": {
     "base_uri": "https://localhost:8080/"
    },
    "id": "CuhV4xfK2bTv",
    "outputId": "b76fbbc6-6756-4a5c-8830-03a981061999"
   },
   "outputs": [],
   "source": [
    "cat_encoder.categories_"
   ]
  },
  {
   "cell_type": "markdown",
   "metadata": {
    "id": "Orkg7wyaDIqm"
   },
   "source": [
    "Стоит иметь в виду, что если категорий очень много, то матрица NumPy может оказаться слишком расточительной, гораздо рациональнее будет использовать разреженную матрицу. Либо попробовать заменить признак не его упорядоченное представление. Например для `ocean_proximity` заменить на расстояние до океана."
   ]
  },
  {
   "cell_type": "code",
   "execution_count": null,
   "metadata": {},
   "outputs": [],
   "source": [
    "a"
   ]
  }
 ],
 "metadata": {
  "kernelspec": {
   "display_name": "Python 3 (ipykernel)",
   "language": "python",
   "name": "python3"
  },
  "language_info": {
   "codemirror_mode": {
    "name": "ipython",
    "version": 3
   },
   "file_extension": ".py",
   "mimetype": "text/x-python",
   "name": "python",
   "nbconvert_exporter": "python",
   "pygments_lexer": "ipython3",
   "version": "3.10.10"
  }
 },
 "nbformat": 4,
 "nbformat_minor": 4
}
