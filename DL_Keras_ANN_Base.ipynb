{
  "cells": [
    {
      "cell_type": "markdown",
      "metadata": {
        "colab_type": "text",
        "id": "view-in-github"
      },
      "source": [
        "<a href=\"https://colab.research.google.com/github/ordevoir/MLDL/blob/master/DL_Neural_Networks.ipynb\" target=\"_parent\"><img src=\"https://colab.research.google.com/assets/colab-badge.svg\" alt=\"Open In Colab\"/></a>"
      ]
    },
    {
      "cell_type": "code",
      "execution_count": 1,
      "id": "fewer-jerusalem",
      "metadata": {
        "colab": {
          "base_uri": "https://localhost:8080/",
          "height": 349
        },
        "id": "fewer-jerusalem",
        "outputId": "86551f91-b27b-4544-d1fc-696d50c1dd2e"
      },
      "outputs": [
        {
          "data": {
            "text/plain": [
              "'2.13.0'"
            ]
          },
          "execution_count": 1,
          "metadata": {},
          "output_type": "execute_result"
        }
      ],
      "source": [
        "import numpy as np\n",
        "import pandas as pd\n",
        "import tensorflow as tf\n",
        "# from tensorflow import keras\n",
        "from IPython.display import clear_output\n",
        "\n",
        "tf.__version__"
      ]
    },
    {
      "cell_type": "code",
      "execution_count": 2,
      "metadata": {},
      "outputs": [],
      "source": [
        "import matplotlib.pyplot as plt\n",
        "\n",
        "# Определим дефолтные значения для визуализации\n",
        "plt.rc('font', size=14)\n",
        "plt.rc('axes', labelsize=14, titlesize=14)\n",
        "plt.rc('legend', fontsize=14)\n",
        "plt.rc('xtick', labelsize=10)\n",
        "plt.rc('ytick', labelsize=10)"
      ]
    },
    {
      "cell_type": "markdown",
      "id": "indoor-gross",
      "metadata": {
        "id": "indoor-gross"
      },
      "source": [
        "# Загрузка данных\n",
        "\n",
        "[`tf.keras.datasets`](https://keras.io/api/datasets/) содержит набор функций для загрузки популярных датасетов. Fashion MNIST можно загрузить функцией `load_data()` из модуля [`fashion_mnist`](https://keras.io/api/datasets/fashion_mnist/). Функция `load_data()` возвращает кортеж, содержащий пару кортежей. Первый содержит два массива (`X`, `y`) тренировочных данных, а второй – два массива тестовых данных."
      ]
    },
    {
      "cell_type": "code",
      "execution_count": 3,
      "id": "smart-drink",
      "metadata": {
        "colab": {
          "base_uri": "https://localhost:8080/"
        },
        "id": "smart-drink",
        "outputId": "b2e9e4a7-5fed-44c2-d299-7a0dc088df70"
      },
      "outputs": [
        {
          "name": "stdout",
          "output_type": "stream",
          "text": [
            "X_train_full.shape = (60000, 28, 28)\n",
            "X_train_full.dtype = dtype('uint8')\n"
          ]
        }
      ],
      "source": [
        "fashion_mnist = tf.keras.datasets.fashion_mnist.load_data()\n",
        "(X_train_full, y_train_full), (X_test, y_test) = fashion_mnist\n",
        "\n",
        "# всего картинок 60000, размер каждой 28x28\n",
        "print(f\"{X_train_full.shape = }\\n{X_train_full.dtype = }\")"
      ]
    },
    {
      "cell_type": "code",
      "execution_count": 11,
      "id": "97e15c33",
      "metadata": {
        "colab": {
          "base_uri": "https://localhost:8080/",
          "height": 423
        },
        "id": "97e15c33",
        "outputId": "d56ff907-afb4-4934-abac-f9a7383e5c57"
      },
      "outputs": [
        {
          "name": "stdout",
          "output_type": "stream",
          "text": [
            "label: 2\n"
          ]
        },
        {
          "data": {
            "image/png": "[encoded data removed]",
            "text/plain": [
              "<Figure size 100x100 with 1 Axes>"
            ]
          },
          "metadata": {},
          "output_type": "display_data"
        }
      ],
      "source": [
        "plt.figure(figsize=(1, 1))\n",
        "plt.imshow(X_train_full[7], cmap='Greys')\n",
        "plt.axis(False)\n",
        "print(\"label:\", y_train_full[7])"
      ]
    },
    {
      "cell_type": "markdown",
      "id": "l4Qg3PEQb-4Z",
      "metadata": {
        "id": "l4Qg3PEQb-4Z"
      },
      "source": [
        "Данные уже разделены на тренировочный (60000 изображений) и тестовый (10000 изображений) наборы, однако полезно будет дополнительно разбить тренировочный набор, чтобы получить валидационный набор данных. \n",
        "\n",
        "Масштабируем иходные данные, лежащие в интервале $[0, 255]$ так, чтобы значения лежали в диапазоне $(0, 1)$."
      ]
    },
    {
      "cell_type": "code",
      "execution_count": 6,
      "id": "tough-adelaide",
      "metadata": {
        "id": "tough-adelaide"
      },
      "outputs": [],
      "source": [
        "X_train, y_train = X_train_full[:-5000], y_train_full[:-5000]\n",
        "X_valid, y_valid = X_train_full[-5000:], y_train_full[-5000:]\n",
        "\n",
        "X_train, X_valid, X_test =X_train / 255., X_valid / 255., X_test / 255."
      ]
    },
    {
      "cell_type": "markdown",
      "id": "EQp5wCtcb-4Z",
      "metadata": {
        "id": "EQp5wCtcb-4Z"
      },
      "source": [
        "Всего классов 10, составим список имен классов:"
      ]
    },
    {
      "cell_type": "code",
      "execution_count": 8,
      "id": "according-findings",
      "metadata": {
        "colab": {
          "base_uri": "https://localhost:8080/",
          "height": 35
        },
        "id": "according-findings",
        "outputId": "a94a0340-eb93-4122-fce3-0c132bf1f516"
      },
      "outputs": [
        {
          "data": {
            "text/plain": [
              "(9, 'Ankle boot')"
            ]
          },
          "execution_count": 8,
          "metadata": {},
          "output_type": "execute_result"
        }
      ],
      "source": [
        "class_names = [\"T-shirt/top\", \"Trouser\", \"Pullover\", \"Dress\", \"Coat\",\n",
        "               \"Sandal\", \"Shirt\", \"Sneaker\", \"Bag\", \"Ankle boot\"]\n",
        "\n",
        "y_train[0], class_names[y_train[0]]     # выведем класс первого образца"
      ]
    },
    {
      "cell_type": "markdown",
      "id": "thermal-digest",
      "metadata": {
        "id": "thermal-digest"
      },
      "source": [
        "# Составление модели через Sequential API"
      ]
    },
    {
      "cell_type": "markdown",
      "id": "a05929e9",
      "metadata": {
        "id": "a05929e9"
      },
      "source": [
        "## Создание модели\n",
        "Создается объект класса `Sequential`, затем методом `add()` последовательно добавляются слои. \n",
        "\n",
        "Keras присваивает **имена** слоям. Каждый слой в модели должен иметь уникальное имя. Более того, его глобальное имя в сессии должно быть уникальным. Это позволяет объединять несколько моделей в одну модель. Имя слоя обычно состоит из типа слоя и номера (например, `dense_5`), поэтому при генерации имен используются глобальные счетчики имен. Глобальное состояние хранится в сеансе (Keras session), который может быть сброшен функцией `tf.keras.backend.clear_session()`. "
      ]
    },
    {
      "cell_type": "code",
      "execution_count": 13,
      "id": "70c9479f",
      "metadata": {},
      "outputs": [],
      "source": [
        "tf.random.set_seed(42)\n",
        "model = tf.keras.Sequential()\n",
        "model.add(tf.keras.layers.InputLayer(input_shape=[28, 28]))\n",
        "model.add(tf.keras.layers.Flatten())\n",
        "model.add(tf.keras.layers.Dense(300, activation=\"relu\"))\n",
        "model.add(tf.keras.layers.Dense(100, activation=\"relu\"))\n",
        "model.add(tf.keras.layers.Dense(10, activation=\"softmax\"))"
      ]
    },
    {
      "cell_type": "markdown",
      "id": "be157716",
      "metadata": {},
      "source": [
        "Первым слоем будет входной слой `InputLayer`. В конструктор передаем форму `input_shape`. Форма нужна для того, чтобы Keras смог определить форму матрицы весов первого скрытого слоя.\n",
        "\n",
        "Второй слой `Flatten` примет двумерный массив и превратит в одномерный (как при `reshape(-1, 1)`). Этот слой не имеет параметров, поэтому играет роль простого препроцессора.\n",
        "\n",
        "Слои `Dense` подразумевают полносвязность, в скобках указаны: число нейронов в слое (`units`) и [функция активации](https://keras.io/activations/) (`activatin`). Последний слой будет содержать 10 нейронов (так как всего классов $K=10$) с функцией активации `softmax` так как классы являются эксклюзивными.\n",
        "\n",
        "**Многопеременная логистическая функция** (*softmax*) $\\sigma : \\mathbb R^K \\to (0, 1)^K$ переводит вектор $K$ вещественных чисел $\\mathbf s$ в распределение вероятностей $K$ возможных исходов ($ \\sum \\sigma_i = 1$) и является обобщением логистической функции на многомерный случай. Пусть $\\mathbf s$ представляет собой $K$-мерный вектор (взвешенные суммы $s_i$ нейронов слоя). Тогда вероятность $i$-го исхода (выход $i$-го нейрона) определяется формулой:\n",
        "$$\n",
        "\\sigma_i (\\mathbf s) = \\frac{e^{s_i}}{\\sum_{j=1}^K e^{s_j}}\n",
        "$$"
      ]
    },
    {
      "cell_type": "markdown",
      "id": "97bca369",
      "metadata": {
        "id": "97bca369"
      },
      "source": [
        "Альтернативный способ – вместо добавления слоев после создания объекта `Sequential`, можно передать список слоев в конструктор. В данной архитектуре можно пропустить `InputLayer` и вместо него просто задать `input_shape` в слое `Flatten`."
      ]
    },
    {
      "cell_type": "code",
      "execution_count": 16,
      "id": "5cf0f4d8",
      "metadata": {
        "id": "5cf0f4d8"
      },
      "outputs": [],
      "source": [
        "# очистим сессию, чтобы сбросить счетчик имен\n",
        "tf.keras.backend.clear_session()\n",
        "model = tf.keras.models.Sequential([\n",
        "    # tf.keras.layers.InputLayer(input_shape=[28, 28]),\n",
        "    # tf.keras.layers.Flatten(),\n",
        "    tf.keras.layers.Flatten(input_shape=[28, 28]),       # первый слой\n",
        "    tf.keras.layers.Dense(300, activation='relu'),       # скрытые\n",
        "    tf.keras.layers.Dense(100, activation='relu'),       # слои\n",
        "    tf.keras.layers.Dense(10, activation='softmax')      # выходной слой\n",
        "])"
      ]
    },
    {
      "cell_type": "markdown",
      "id": "58d55c75",
      "metadata": {
        "id": "58d55c75"
      },
      "source": [
        "## Информация о модели\n",
        "\n",
        "Метод `summary()` выводит все слои модели, включая имена слоев (автоматически сгенерированные при их создании), форму выхода (`None` означает, что размер партии может быть любым) и количество параметров. Так же выводит общее число параметров (тренируемых и не тренируемых)."
      ]
    },
    {
      "cell_type": "code",
      "execution_count": 9,
      "id": "811256d8",
      "metadata": {
        "colab": {
          "base_uri": "https://localhost:8080/"
        },
        "id": "811256d8",
        "outputId": "c1312709-d3dc-4d98-ef0d-2d6ec1a72ff4"
      },
      "outputs": [
        {
          "name": "stdout",
          "output_type": "stream",
          "text": [
            "Model: \"sequential_1\"\n",
            "_________________________________________________________________\n",
            " Layer (type)                Output Shape              Param #   \n",
            "=================================================================\n",
            " flatten_1 (Flatten)         (None, 784)               0         \n",
            "                                                                 \n",
            " dense_3 (Dense)             (None, 300)               235500    \n",
            "                                                                 \n",
            " dense_4 (Dense)             (None, 100)               30100     \n",
            "                                                                 \n",
            " dense_5 (Dense)             (None, 10)                1010      \n",
            "                                                                 \n",
            "=================================================================\n",
            "Total params: 266610 (1.02 MB)\n",
            "Trainable params: 266610 (1.02 MB)\n",
            "Non-trainable params: 0 (0.00 Byte)\n",
            "_________________________________________________________________\n"
          ]
        }
      ],
      "source": [
        "model.summary()"
      ]
    },
    {
      "cell_type": "markdown",
      "id": "d2e18128",
      "metadata": {
        "id": "d2e18128"
      },
      "source": [
        "## Доступ к слоям модели\n",
        "\n",
        "Можно получить список (объектов) слоев, получить доступ к слою по индексу или по имени (методы `layers()` и `get_layer()`):"
      ]
    },
    {
      "cell_type": "code",
      "execution_count": 10,
      "id": "parallel-twist",
      "metadata": {
        "id": "parallel-twist"
      },
      "outputs": [
        {
          "name": "stdout",
          "output_type": "stream",
          "text": [
            "[<keras.src.layers.reshaping.flatten.Flatten object at 0x000001707BA7CBD0>, <keras.src.layers.core.dense.Dense object at 0x00000170752C7450>, <keras.src.layers.core.dense.Dense object at 0x00000170752C5810>, <keras.src.layers.core.dense.Dense object at 0x00000170752B2C90>]\n",
            "<class 'keras.src.layers.core.dense.Dense'>\n",
            "names: dense_3 dense_3\n"
          ]
        }
      ],
      "source": [
        "print(model.layers)                     # список слоев\n",
        "hidden_1 = model.layers[1]              # получение слоя по индексу\n",
        "hidden_2 = model.get_layer('dense_3')   # получения слоя по имени\n",
        "print(type(hidden_1))\n",
        "print('names:', hidden_1.name, hidden_2.name)"
      ]
    },
    {
      "cell_type": "markdown",
      "id": "53d5e7b0",
      "metadata": {
        "id": "53d5e7b0"
      },
      "source": [
        "## Параметры слоя\n",
        "\n",
        "Можно получить и установить значения параметров слоя методами `get_wieghts()` и `set_weights()`"
      ]
    },
    {
      "cell_type": "code",
      "execution_count": 11,
      "id": "romantic-precipitation",
      "metadata": {
        "colab": {
          "base_uri": "https://localhost:8080/"
        },
        "id": "romantic-precipitation",
        "outputId": "54e083aa-81af-4fef-fb88-fe290cbb9dd2"
      },
      "outputs": [
        {
          "name": "stdout",
          "output_type": "stream",
          "text": [
            "(784, 300) (300,)\n",
            "float32\n"
          ]
        }
      ],
      "source": [
        "weights, baises = hidden_1.get_weights() # получение значений\n",
        "print(weights.shape, baises.shape)\n",
        "print(baises.dtype)"
      ]
    },
    {
      "cell_type": "markdown",
      "id": "211fe7ac",
      "metadata": {
        "id": "211fe7ac"
      },
      "source": [
        "По умолчанию веса инициализированы рандомно, а смещения – нулями. Если нужно иначе инициализировать параметры, то можно установить значения `kernel_initializer` и `bais_initializer` при создании слоя (kernel – другое название для матрицы связей (весов)). Подробнее <a href=\"https://keras.io/initializers/\">здесь</a>."
      ]
    },
    {
      "cell_type": "code",
      "execution_count": 12,
      "id": "cultural-solid",
      "metadata": {
        "colab": {
          "base_uri": "https://localhost:8080/"
        },
        "id": "cultural-solid",
        "outputId": "c07c07f8-e258-4876-8def-7fd22a27e3a5"
      },
      "outputs": [
        {
          "name": "stdout",
          "output_type": "stream",
          "text": [
            "weights.shape = (784, 300),\n",
            "baises.shape = (300,)\n",
            "weights:\n",
            " [[ 0.02286225  0.00481734 -0.05747168  0.01301109]\n",
            " [ 0.02562317  0.06919216 -0.04737694  0.07125536]\n",
            " [ 0.03873138  0.0483441   0.03926891  0.0550178 ]\n",
            " [ 0.05738507  0.04130226 -0.05428929 -0.00567409]]\n",
            "baises:\n",
            " [0. 0. 0. 0. 0. 0. 0. 0. 0. 0.]\n"
          ]
        }
      ],
      "source": [
        "print(f\"{weights.shape = },\\n{baises.shape = }\")\n",
        "print('weights:\\n', weights[:4, :4])\n",
        "print('baises:\\n', baises[:10])"
      ]
    },
    {
      "cell_type": "markdown",
      "id": "established-satin",
      "metadata": {
        "id": "established-satin"
      },
      "source": [
        "## Компиляция модели"
      ]
    },
    {
      "cell_type": "markdown",
      "id": "0eb8b0f9",
      "metadata": {
        "id": "0eb8b0f9"
      },
      "source": [
        "После того, как модель создана, нужно вызвать метод `compile()`, указать <a href=\"https://keras.io/losses\">функцию потерь</a>, и <a href=\"https://keras.io/optimizers\">метод оптимизации</a>; также можно задать список дополнительных <a href=\"https://keras.io/metrics\">метрик</a>, которые нужно попутно вычислять:"
      ]
    },
    {
      "cell_type": "code",
      "execution_count": 13,
      "id": "large-tenant",
      "metadata": {
        "id": "large-tenant"
      },
      "outputs": [],
      "source": [
        "model.compile(loss=\"sparse_categorical_crossentropy\",\n",
        "             optimizer=\"sgd\", metrics=[\"accuracy\"])"
      ]
    },
    {
      "cell_type": "markdown",
      "id": "a999d149",
      "metadata": {
        "id": "a999d149"
      },
      "source": [
        "Выражение `loss=\"sparse_categorical_crossentropy\"` равносильно выражению\n",
        "`loss=keras.losses.sparse_categorical_crossentropy`.<br>\n",
        "Выражение\n",
        "`optimizer=\"sgd\"` равносильно выражению `optimizer=keras.optimizers.SGD()`\n",
        "(Stochastic Gradient Descen).\n",
        "Выражение `\"accuracy\"` равносильно выражению `keras.metrics.sparse_categorical_accuracy`.<br>\n",
        "https://keras.io/losses<br>\n",
        "https://keras.io/optimizers<br>\n",
        "https://keras.io/metrics\n",
        "\n",
        "Здесь мы используем sparse (разреженную) categorical crossentropy,\n",
        "а не просто categorical crossentropy в силу того, что метка данных\n",
        "представляет собой целое число от 0 до 9, в то время как на выходе\n",
        "нейронной сети получается 10-мерный вектор. Для того, чтобы можно\n",
        "было бы сравнивать выходной вектор и метку, необходимо представить\n",
        "метки в виде десятимерных one-hot vectors, который для метки 3 будет\n",
        "`[0., 0., 0., 1., 0., 0., 0., 0., 0., 0.]`.<br>\n",
        "Если бы метки изначально были бы представлены в виде one-hot vectors,\n",
        "то следовало бы использовать `categorical_crossentropy`.<br>\n",
        "Если бы использовалась бинарная классификация, то на выходном слое\n",
        "вместо функции активации softmax использовалась сигмоида, и в качестве\n",
        "функции потерь стоило бы использовать `binary_crossentropy`.\n",
        "\n",
        "При использовании метода оптимизации SGD важно настраивать скорость\n",
        "обучения (learning rate) `optimizer=keras.optimizers.SGD(learning_rate=0.1)`,\n",
        "`optimizer=\"sgd\"` по умолчанию устанавливается `learning_rate=0.01`."
      ]
    },
    {
      "cell_type": "markdown",
      "id": "developing-professor",
      "metadata": {
        "id": "developing-professor"
      },
      "source": [
        "## Обучение модели на задаче классификации\n",
        "\n",
        "Для обучения модели используется метод `fit()`, который возвращает объект класса `History`, который содержит данные об истории обучения."
      ]
    },
    {
      "cell_type": "code",
      "execution_count": 14,
      "id": "qualified-ireland",
      "metadata": {
        "colab": {
          "base_uri": "https://localhost:8080/"
        },
        "id": "qualified-ireland",
        "outputId": "58205e50-98e9-4ff7-a58a-70bdd52ea32f"
      },
      "outputs": [
        {
          "name": "stdout",
          "output_type": "stream",
          "text": [
            "Epoch 1/5\n"
          ]
        },
        {
          "name": "stdout",
          "output_type": "stream",
          "text": [
            "1719/1719 [==============================] - 4s 2ms/step - loss: 0.7157 - accuracy: 0.7655 - val_loss: 0.5239 - val_accuracy: 0.8236\n",
            "Epoch 2/5\n",
            "1719/1719 [==============================] - 3s 2ms/step - loss: 0.4910 - accuracy: 0.8287 - val_loss: 0.4470 - val_accuracy: 0.8458\n",
            "Epoch 3/5\n",
            "1719/1719 [==============================] - 3s 2ms/step - loss: 0.4457 - accuracy: 0.8445 - val_loss: 0.4163 - val_accuracy: 0.8572\n",
            "Epoch 4/5\n",
            "1719/1719 [==============================] - 3s 2ms/step - loss: 0.4175 - accuracy: 0.8548 - val_loss: 0.3941 - val_accuracy: 0.8672\n",
            "Epoch 5/5\n",
            "1719/1719 [==============================] - 4s 2ms/step - loss: 0.3977 - accuracy: 0.8600 - val_loss: 0.3835 - val_accuracy: 0.8656\n"
          ]
        }
      ],
      "source": [
        "history = model.fit(X_train, y_train, epochs=5, validation_data=(X_valid, y_valid))"
      ]
    },
    {
      "cell_type": "markdown",
      "id": "12d1a471",
      "metadata": {
        "id": "12d1a471"
      },
      "source": [
        "Вместо того, чтобы передавать данные для валидации используя аргумент\n",
        "`validation_data`, можно установить значение `validation_split=0.1`, при\n",
        "котором keras сам будет использовать последние 10% тренировочных данных в качестве валидационных данных.<br>\n",
        "\n",
        "Если есть перекос в данных, при котором некоторые классы представлены в большем количестве, можно установить веса для классов `class_weight`, при котором менее представленные классы будут иметь больший вес. Эти веса будут учтены при подсчете функции потерь. Также можно задать веса для образцов `sample_weight`, если одна группа образцов должна быть более влиятельной на обучение, чем другая. Если для образца заданы оба значения `class_weight` и `sample_weight`, то keras перемножит их.<br>\n",
        "Можно указать также значение параметра `batch_size` (по умолчанию 32)"
      ]
    },
    {
      "cell_type": "markdown",
      "id": "pPrJFdNxfgix",
      "metadata": {
        "id": "pPrJFdNxfgix"
      },
      "source": [
        "Поле `history` объекта класса `History` представляет собой словарь, содержащий метрики, собранные в ходе обучения:"
      ]
    },
    {
      "cell_type": "code",
      "execution_count": 15,
      "id": "ICe5BZlEfjwB",
      "metadata": {
        "colab": {
          "base_uri": "https://localhost:8080/"
        },
        "id": "ICe5BZlEfjwB",
        "outputId": "cbb70231-d0ee-4d79-830e-dbadd8f2fca7"
      },
      "outputs": [
        {
          "data": {
            "text/plain": [
              "dict_keys(['loss', 'accuracy', 'val_loss', 'val_accuracy'])"
            ]
          },
          "execution_count": 15,
          "metadata": {},
          "output_type": "execute_result"
        }
      ],
      "source": [
        "history.history.keys()"
      ]
    },
    {
      "cell_type": "code",
      "execution_count": 16,
      "id": "fluid-commonwealth",
      "metadata": {
        "colab": {
          "base_uri": "https://localhost:8080/",
          "height": 528
        },
        "id": "fluid-commonwealth",
        "outputId": "3699c739-ebaa-4f1f-ad7e-04734692bd29"
      },
      "outputs": [
        {
          "data": {
            "image/png": "[encoded data removed]",
            "text/plain": [
              "<Figure size 1000x600 with 1 Axes>"
            ]
          },
          "metadata": {},
          "output_type": "display_data"
        }
      ],
      "source": [
        "pd.DataFrame(history.history).plot(figsize=(10, 6))\n",
        "plt.grid(True)\n",
        "plt.gca().set_ylim(0, 1)\n",
        "plt.show()"
      ]
    },
    {
      "cell_type": "markdown",
      "id": "appreciated-correspondence",
      "metadata": {
        "id": "appreciated-correspondence"
      },
      "source": [
        "## Оценка на тестовом наборе"
      ]
    },
    {
      "cell_type": "markdown",
      "id": "6eb2ebdf",
      "metadata": {
        "id": "6eb2ebdf"
      },
      "source": [
        "Для оценки модели на тестовом наборе можно использовать метод `evaluate()`, который возвращает список, содержаший loss и accuracy."
      ]
    },
    {
      "cell_type": "code",
      "execution_count": 17,
      "id": "presidential-baghdad",
      "metadata": {
        "colab": {
          "base_uri": "https://localhost:8080/"
        },
        "id": "presidential-baghdad",
        "outputId": "d813c797-e7e8-4fd5-f937-7cc0be945d51"
      },
      "outputs": [
        {
          "name": "stdout",
          "output_type": "stream",
          "text": [
            "313/313 [==============================] - 0s 1ms/step - loss: 0.4231 - accuracy: 0.8490\n",
            "loss = 0.42311981320381165\n",
            "accuracy = 0.8489999771118164\n"
          ]
        }
      ],
      "source": [
        "loss, accuracy = model.evaluate(X_test, y_test, batch_size=32)\n",
        "print(f\"{loss = }\\n{accuracy = }\")"
      ]
    },
    {
      "cell_type": "markdown",
      "id": "UObk4E-nb-4d",
      "metadata": {
        "id": "UObk4E-nb-4d"
      },
      "source": [
        "Используем первые образцы тестовых данных. Для получения вероятностей прогнозирования используется метод `predict()`."
      ]
    },
    {
      "cell_type": "code",
      "execution_count": 18,
      "id": "objective-forge",
      "metadata": {
        "colab": {
          "base_uri": "https://localhost:8080/"
        },
        "id": "objective-forge",
        "outputId": "5fbeba82-d14a-4299-8c9a-d52bd43dc905"
      },
      "outputs": [
        {
          "name": "stdout",
          "output_type": "stream",
          "text": [
            "1/1 [==============================] - 0s 87ms/step\n",
            "[[0.   0.   0.   0.   0.   0.07 0.   0.19 0.01 0.74]\n",
            " [0.   0.   0.99 0.   0.   0.   0.   0.   0.   0.  ]\n",
            " [0.   1.   0.   0.   0.   0.   0.   0.   0.   0.  ]\n",
            " [0.   1.   0.   0.   0.   0.   0.   0.   0.   0.  ]\n",
            " [0.13 0.   0.18 0.01 0.04 0.   0.63 0.   0.01 0.  ]\n",
            " [0.01 0.98 0.   0.   0.   0.   0.   0.   0.   0.  ]\n",
            " [0.02 0.   0.05 0.   0.83 0.   0.09 0.   0.01 0.  ]]\n"
          ]
        }
      ],
      "source": [
        "X_new = X_test[:7]\n",
        "y_probabilities = model.predict(X_new)\n",
        "print(y_probabilities.round(2))"
      ]
    },
    {
      "cell_type": "markdown",
      "id": "jeMpOVEYgdpk",
      "metadata": {
        "id": "jeMpOVEYgdpk"
      },
      "source": [
        "Для получения меток классов на основе прогнозов следует использовать функцию `argmax()` из Numpy с параметром `axis=1`."
      ]
    },
    {
      "cell_type": "code",
      "execution_count": 19,
      "id": "minimal-fence",
      "metadata": {
        "colab": {
          "base_uri": "https://localhost:8080/"
        },
        "id": "minimal-fence",
        "outputId": "dc1612c1-94cc-447f-f55f-bd9570199010"
      },
      "outputs": [
        {
          "name": "stdout",
          "output_type": "stream",
          "text": [
            "[9 2 1 1 6 1 4]\n"
          ]
        }
      ],
      "source": [
        "y_pred = np.argmax(y_probabilities, axis=1)\n",
        "print(y_pred)"
      ]
    },
    {
      "cell_type": "markdown",
      "id": "a4017606",
      "metadata": {
        "id": "a4017606"
      },
      "source": [
        "Название соответствующих классов для полученных меток `y_pred` можно получить используя определенный раннее список `class_names`:"
      ]
    },
    {
      "cell_type": "code",
      "execution_count": 20,
      "id": "1da5bf64",
      "metadata": {
        "colab": {
          "base_uri": "https://localhost:8080/"
        },
        "id": "1da5bf64",
        "outputId": "a93450b5-d593-44bb-9b75-e2b67971a357"
      },
      "outputs": [
        {
          "data": {
            "text/plain": [
              "array(['Ankle boot', 'Pullover', 'Trouser', 'Trouser', 'Shirt', 'Trouser',\n",
              "       'Coat'], dtype='<U11')"
            ]
          },
          "execution_count": 20,
          "metadata": {},
          "output_type": "execute_result"
        }
      ],
      "source": [
        "np.array(class_names)[y_pred]"
      ]
    },
    {
      "cell_type": "markdown",
      "id": "duplicate-majority",
      "metadata": {
        "id": "duplicate-majority"
      },
      "source": [
        "## Обучение модели на задаче регрессии"
      ]
    },
    {
      "cell_type": "code",
      "execution_count": 21,
      "id": "returning-provision",
      "metadata": {
        "id": "returning-provision"
      },
      "outputs": [],
      "source": [
        "from sklearn.datasets import fetch_california_housing\n",
        "from sklearn.model_selection import train_test_split\n",
        "from sklearn.preprocessing import StandardScaler\n",
        "\n",
        "housing = fetch_california_housing()\n",
        "\n",
        "X_train_full, X_test, y_train_full, y_test = train_test_split(housing.data,\n",
        "                                                              housing.target,\n",
        "                                                              random_state=42)\n",
        "X_train, X_valid, y_train, y_valid = train_test_split(X_train_full,\n",
        "                                                      y_train_full,\n",
        "                                                      random_state=42)\n",
        "\n",
        "scaler = StandardScaler()\n",
        "X_train = scaler.fit_transform(X_train)\n",
        "X_valid = scaler.transform(X_valid)\n",
        "X_test = scaler.transform(X_test)"
      ]
    },
    {
      "cell_type": "markdown",
      "id": "2d29d318",
      "metadata": {
        "id": "2d29d318"
      },
      "source": [
        "Составим и скомпилируем двуслойную модель, в которой последний слой будет содержать 1 нейрон без функции активации. В качестве функции потерь будет использована MSE:"
      ]
    },
    {
      "cell_type": "code",
      "execution_count": 22,
      "id": "wooden-substitute",
      "metadata": {
        "colab": {
          "base_uri": "https://localhost:8080/"
        },
        "id": "wooden-substitute",
        "outputId": "072a1038-320e-4d9e-9050-e89fa21ef450"
      },
      "outputs": [
        {
          "name": "stdout",
          "output_type": "stream",
          "text": [
            "(11610, 8)\n",
            "8\n",
            "(8,)\n"
          ]
        }
      ],
      "source": [
        "modelReg = keras.models.Sequential([\n",
        "    keras.layers.Dense(10, activation=\"relu\", input_shape=X_train.shape[1:]),\n",
        "    keras.layers.Dense(1)\n",
        "])\n",
        "\n",
        "print(X_train.shape)\n",
        "print(X_train.shape[1])\n",
        "print(X_train.shape[1:])\n",
        "# двоеточие здесь приведет к тому, что будет возвращен кортеж, а не число:"
      ]
    },
    {
      "cell_type": "markdown",
      "id": "8mCsl7YAc2Ne",
      "metadata": {
        "id": "8mCsl7YAc2Ne"
      },
      "source": [
        "Обучение модели"
      ]
    },
    {
      "cell_type": "code",
      "execution_count": 23,
      "id": "joined-respect",
      "metadata": {
        "id": "joined-respect"
      },
      "outputs": [],
      "source": [
        "modelReg.compile(loss=\"mean_squared_error\", optimizer=\"sgd\")\n",
        "historyReg = modelReg.fit(X_train, y_train, epochs=20, validation_split=0.1)\n",
        "clear_output()"
      ]
    },
    {
      "cell_type": "markdown",
      "id": "H5_Ut-7tc7yC",
      "metadata": {
        "id": "H5_Ut-7tc7yC"
      },
      "source": [
        "Оценка"
      ]
    },
    {
      "cell_type": "code",
      "execution_count": 24,
      "id": "9ebeebc4",
      "metadata": {
        "colab": {
          "base_uri": "https://localhost:8080/"
        },
        "id": "9ebeebc4",
        "outputId": "32ec353e-9a98-4bb1-aece-32a7ff766adc"
      },
      "outputs": [
        {
          "name": "stdout",
          "output_type": "stream",
          "text": [
            "train loss: 0.3730415403842926\n",
            "valid loss: 0.4250633716583252\n"
          ]
        }
      ],
      "source": [
        "print(\"train loss:\", historyReg.history['loss'][-1])      # вывод итоговых\n",
        "print(\"valid loss:\", historyReg.history['val_loss'][-1])  # значений потерь"
      ]
    },
    {
      "cell_type": "markdown",
      "id": "Kz2dmACxdJ1E",
      "metadata": {
        "id": "Kz2dmACxdJ1E"
      },
      "source": [
        "Метод `evaluate()` в случае регрессии возвращает только loss (в данном случае это MSE)."
      ]
    },
    {
      "cell_type": "code",
      "execution_count": 25,
      "id": "finite-fighter",
      "metadata": {
        "colab": {
          "base_uri": "https://localhost:8080/"
        },
        "id": "finite-fighter",
        "outputId": "a57468ef-15c8-4372-f4f3-a64e94c233b5"
      },
      "outputs": [
        {
          "name": "stdout",
          "output_type": "stream",
          "text": [
            " 57/162 [=========>....................] - ETA: 0s - loss: 0.3827"
          ]
        },
        {
          "name": "stdout",
          "output_type": "stream",
          "text": [
            "162/162 [==============================] - 0s 963us/step - loss: 0.3790\n"
          ]
        },
        {
          "data": {
            "text/plain": [
              "0.3789967894554138"
            ]
          },
          "execution_count": 25,
          "metadata": {},
          "output_type": "execute_result"
        }
      ],
      "source": [
        "mse_test = modelReg.evaluate(X_test, y_test)\n",
        "mse_test"
      ]
    },
    {
      "cell_type": "markdown",
      "id": "J7H9SeKjeaSH",
      "metadata": {
        "id": "J7H9SeKjeaSH"
      },
      "source": [
        "Прогнозирование на трех образцах тестовой выбоки:"
      ]
    },
    {
      "cell_type": "code",
      "execution_count": 26,
      "id": "convertible-optics",
      "metadata": {
        "colab": {
          "base_uri": "https://localhost:8080/"
        },
        "id": "convertible-optics",
        "outputId": "435820e4-0c73-4476-f63f-89a22bcae860"
      },
      "outputs": [
        {
          "name": "stdout",
          "output_type": "stream",
          "text": [
            "1/1 [==============================] - 0s 43ms/step\n",
            "[[0.8812908]\n",
            " [1.69873  ]\n",
            " [4.048559 ]]\n",
            "[0.477   0.458   5.00001]\n"
          ]
        }
      ],
      "source": [
        "X_new = X_test[:3]\n",
        "y_pred = modelReg.predict(X_new)\n",
        "print(y_pred)\n",
        "print(y_test[:3])"
      ]
    },
    {
      "cell_type": "code",
      "execution_count": 27,
      "id": "RQUkEhkne5sM",
      "metadata": {
        "colab": {
          "base_uri": "https://localhost:8080/"
        },
        "id": "RQUkEhkne5sM",
        "outputId": "01c71e97-99b2-49e8-8c29-9afa4e66375d"
      },
      "outputs": [
        {
          "data": {
            "text/plain": [
              "dict_keys(['loss', 'val_loss'])"
            ]
          },
          "execution_count": 27,
          "metadata": {},
          "output_type": "execute_result"
        }
      ],
      "source": [
        "historyReg.history.keys()"
      ]
    },
    {
      "cell_type": "code",
      "execution_count": 28,
      "id": "f96d486b",
      "metadata": {
        "colab": {
          "base_uri": "https://localhost:8080/",
          "height": 435
        },
        "id": "f96d486b",
        "outputId": "e41844fe-aab9-4834-e195-c58600d4504e"
      },
      "outputs": [
        {
          "data": {
            "image/png": "[encoded data removed]",
            "text/plain": [
              "<Figure size 640x480 with 1 Axes>"
            ]
          },
          "metadata": {},
          "output_type": "display_data"
        }
      ],
      "source": [
        "plt.plot(pd.DataFrame(historyReg.history))\n",
        "plt.grid(True)\n",
        "plt.gca().set_ylim(0, 1)\n",
        "plt.show()"
      ]
    },
    {
      "cell_type": "markdown",
      "id": "skilled-pharmacy",
      "metadata": {
        "id": "skilled-pharmacy"
      },
      "source": [
        "# Построение сложных моделей с использованием Functional API"
      ]
    },
    {
      "cell_type": "markdown",
      "id": "a14575ba",
      "metadata": {
        "id": "a14575ba"
      },
      "source": [
        "Для построения нейронных сетей с более сложной топологией, Keras предоставляет Functional API. Составим нейронную сеть Wide & Deep, которая будет решать прдыдущую задачу по прогнозированию цен калифорнийских домов. Сеть будет содержать скрытые слои, но при этом *входной слой будет напрямую влиять на выходной слой*.\n",
        "\n",
        "![](images/neural_network/Wide_deep_nn.png)"
      ]
    },
    {
      "cell_type": "code",
      "execution_count": 31,
      "id": "beef161c",
      "metadata": {
        "id": "beef161c"
      },
      "outputs": [],
      "source": [
        "np.random.seed(42)\n",
        "tf.random.set_seed(42)"
      ]
    },
    {
      "cell_type": "markdown",
      "metadata": {},
      "source": [
        "Заметим, что слои вызываются как функции, которым передаются аргументом другие (входящие) слои, от того и название Functional API:"
      ]
    },
    {
      "cell_type": "code",
      "execution_count": 30,
      "id": "facial-incentive",
      "metadata": {
        "id": "facial-incentive"
      },
      "outputs": [],
      "source": [
        "input_ = keras.layers.Input(shape=X_train.shape[1:])\n",
        "hidden_1 = keras.layers.Dense(30, activation=\"relu\")(input_)\n",
        "hidden_2 = keras.layers.Dense(30, activation=\"relu\")(hidden_1)\n",
        "concat = keras.layers.Concatenate()([input_, hidden_2])\n",
        "output = keras.layers.Dense(1)(concat)\n",
        "# теперь создадим сам модель:\n",
        "modelWD = keras.Model(inputs=[input_], outputs=[output])"
      ]
    },
    {
      "cell_type": "markdown",
      "id": "f7084709",
      "metadata": {
        "id": "f7084709"
      },
      "source": [
        "Может потребуется передать часть признаков (`input_A`) скрытому слою, а другую часть (`input_B`) – напрямую к выходному слою.\n",
        "\n",
        "\n",
        "![](images/neural_network/Handling_multiple_inputs.png)"
      ]
    },
    {
      "cell_type": "code",
      "execution_count": null,
      "id": "dedicated-throat",
      "metadata": {
        "id": "dedicated-throat"
      },
      "outputs": [],
      "source": [
        "input_A = keras.layers.Input(shape=[5], name=\"wide_input\")\n",
        "input_B = keras.layers.Input(shape=[6], name=\"deep_input\")\n",
        "hidden_1 = keras.layers.Dense(30, activation=\"relu\")(input_B )\n",
        "hidden_2 = keras.layers.Dense(30, activation=\"relu\")(hidden_1)\n",
        "concat = keras.layers.concatenate([input_A, hidden_2])\n",
        "output = keras.layers.Dense(1, name=\"output\")(concat)\n",
        "\n",
        "mdl = keras.Model(inputs=[input_A, input_B], outputs=[output])"
      ]
    },
    {
      "cell_type": "markdown",
      "id": "a9d44b55",
      "metadata": {
        "id": "a9d44b55"
      },
      "source": [
        "При вызове методов модели нужно указывать кортеж из входных данных (`X_train_A`, `X_train_B`), содержащий две группы данных соответствующих признаков.\n",
        "\n",
        "`keras.layers.Concatenate()([a, b])` равносильно `keras.layers.concatenate([a, b])`"
      ]
    },
    {
      "cell_type": "code",
      "execution_count": 33,
      "id": "7d062b4b",
      "metadata": {
        "id": "7d062b4b",
        "outputId": "b0f05a2e-1711-4e46-d85c-e53d2a503ff5"
      },
      "outputs": [
        {
          "data": {
            "text/plain": [
              "<tf.Tensor: shape=(2, 3, 5), dtype=int32, numpy=\n",
              "array([[[ 0,  1,  2,  3,  4],\n",
              "        [ 5,  6,  7,  8,  9],\n",
              "        [20, 21, 22, 23, 24]],\n",
              "\n",
              "       [[10, 11, 12, 13, 14],\n",
              "        [15, 16, 17, 18, 19],\n",
              "        [25, 26, 27, 28, 29]]])>"
            ]
          },
          "execution_count": 33,
          "metadata": {},
          "output_type": "execute_result"
        }
      ],
      "source": [
        "x = np.arange(20).reshape(2, 2, 5)\n",
        "y = np.arange(20, 30).reshape(2, 1, 5)\n",
        "tf.concat([x, y], axis=1) # <=> tf.keras.layers.concatenate([x, y], axis=1)"
      ]
    },
    {
      "cell_type": "markdown",
      "id": "82878073",
      "metadata": {
        "id": "82878073"
      },
      "source": [
        "Далее, после того как модель создана, все как обычно: компилирем модель, обучаем, оцениваем, делаем прогнозы. Заметим, что `\"mse\"` равносильно `\"mean_squared_error\"`. Создадим для этого соответствующие наборы данных `A` и `B`, каждый из которых содержит нужные подмножества призаков."
      ]
    },
    {
      "cell_type": "code",
      "execution_count": 37,
      "id": "tracked-course",
      "metadata": {
        "id": "tracked-course"
      },
      "outputs": [],
      "source": [
        "mdl.compile(loss=\"mse\", optimizer=\"sgd\")\n",
        "\n",
        "X_train_A, X_train_B = X_train[:, :5], X_train[:, 2:]\n",
        "X_valid_A, X_valid_B = X_valid[:, :5], X_valid[:, 2:]\n",
        "X_test_A, X_test_B = X_test[:, :5], X_test[:, 2:]\n",
        "X_new_A, X_new_B = X_test_A[:3], X_test_B[:3]\n",
        "\n",
        "history = mdl.fit((X_train_A, X_train_B), y_train, epochs=20,\n",
        "                    validation_data=((X_valid_A, X_valid_B), y_valid))\n",
        "mse_test = mdl.evaluate((X_test_A, X_test_B), y_test)\n",
        "y_pred = mdl.predict((X_new_A, X_new_B))\n",
        "clear_output()"
      ]
    },
    {
      "cell_type": "markdown",
      "id": "818151f5",
      "metadata": {
        "id": "818151f5"
      },
      "source": [
        "В некоторых случаях может потребоваться и множественный вывод. Возможно, сама задача требует такого решения, например, требуется локализовать и классифицировать объект на картинке. Здесь содержится и регрессия и классификация. Может потребоваться дополнительный (*auxiliary*) выход для регуляризации.\n",
        "\n",
        "![](images/neural_network/Handling_multiple_outputs.png)\n",
        "\n",
        "Для того, чтобы добавить дополнительный выход, достаточно присоединить его к подходящему слою и добавить в список выходов модели."
      ]
    },
    {
      "cell_type": "code",
      "execution_count": 34,
      "id": "d5c57384",
      "metadata": {
        "id": "d5c57384"
      },
      "outputs": [],
      "source": [
        "input_A = keras.layers.Input(shape=[5], name=\"wide_input\")\n",
        "input_B = keras.layers.Input(shape=[6], name=\"deep_input\")\n",
        "hidden_1 = keras.layers.Dense(30, activation=\"relu\")(input_B )\n",
        "hidden_2 = keras.layers.Dense(30, activation=\"relu\")(hidden_1)\n",
        "concat = keras.layers.concatenate([input_A, hidden_2])\n",
        "output = keras.layers.Dense(1, name=\"output\")(concat)\n",
        "aux = keras.layers.Dense(1, name='aux')(hidden_2)\n",
        "\n",
        "mdl = keras.Model(inputs=[input_A, input_B], outputs=[output, aux])"
      ]
    },
    {
      "cell_type": "markdown",
      "id": "0c8a5b18",
      "metadata": {
        "id": "0c8a5b18"
      },
      "source": [
        "Каждый выход нуждается в своей функции потерь. Следовательно, при компиляции модели следует передать список этих функций потерь. Если же мы передаем одну функцию потерь, то Keras будет считать, что одна и та же функция используется для свех выходов. Для того, чтобы на обучение сети влияли сильней ошибки на главном выходе, чем ошибки на дополнительном выходе, можно указать соответствующие веса влияния в праметре `loss_weight`"
      ]
    },
    {
      "cell_type": "code",
      "execution_count": 35,
      "id": "c77f46c9",
      "metadata": {
        "id": "c77f46c9"
      },
      "outputs": [],
      "source": [
        "mdl.compile(loss=['mse', 'mse'], loss_weights=[0.9, 0.1], optimizer='sgd')"
      ]
    },
    {
      "cell_type": "markdown",
      "id": "9d1cf025",
      "metadata": {
        "id": "9d1cf025"
      },
      "source": [
        "При обучении модели необходимо передать метки для обоих выходов. В данном случае глвный выход и дополнительный выход должны прогнозировать одну и ту же вещь, так что им следует передать одни и те же метки. Так что вместо передачи `y_train` мы должны передать `(y_train, y_train)`. То же касается и валидационных и тестовых данных."
      ]
    },
    {
      "cell_type": "code",
      "execution_count": 38,
      "id": "29dd1adc",
      "metadata": {
        "id": "29dd1adc"
      },
      "outputs": [],
      "source": [
        "history = mdl.fit(\n",
        "    [X_train_A, X_train_B], [y_train, y_train], epochs=20,\n",
        "    validation_data=([X_valid_A, X_valid_B], [y_valid, y_valid])\n",
        ")\n",
        "clear_output()"
      ]
    },
    {
      "cell_type": "markdown",
      "id": "78f744b9",
      "metadata": {
        "id": "78f744b9"
      },
      "source": [
        "При оценке модели (`evaluate()`) Keras будет возвращать как полную ошибку, так и частные. А метод `predict()` будет возвращать прогнозы для каждого выхода."
      ]
    },
    {
      "cell_type": "code",
      "execution_count": 40,
      "id": "4307f217",
      "metadata": {
        "id": "4307f217",
        "outputId": "a25b94d9-5f5c-4db3-a514-294bf185bc67"
      },
      "outputs": [
        {
          "name": "stdout",
          "output_type": "stream",
          "text": [
            "162/162 [==============================] - 0s 1ms/step - loss: 0.7017 - output_loss: 0.3221 - aux_loss: 0.3795\n",
            "1/1 [==============================] - 0s 18ms/step\n",
            "\n",
            "total_loss = 0.7016591429710388\n",
            "main_loss  = 0.32214221358299255\n",
            "aux_loss   = 0.3795167803764343\n",
            "\n",
            "y_pred_main = array([[0.5359593],\n",
            "       [1.3736318],\n",
            "       [4.1079097]], dtype=float32)\n",
            "y_pred_aux  = array([[0.6978617],\n",
            "       [1.3102751],\n",
            "       [4.045531 ]], dtype=float32)\n"
          ]
        }
      ],
      "source": [
        "total_loss, main_loss, aux_loss = mdl.evaluate(\n",
        "    [X_test_A, X_test_B], [y_test, y_test]\n",
        ")\n",
        "y_pred_main, y_pred_aux = mdl.predict([X_new_A, X_new_B])\n",
        "\n",
        "print(f\"\\n{total_loss = }\\n{main_loss  = }\\n{aux_loss   = }\")\n",
        "print(f\"\\n{y_pred_main = }\\n{y_pred_aux  = }\")"
      ]
    },
    {
      "cell_type": "markdown",
      "id": "seventh-disclaimer",
      "metadata": {
        "id": "seventh-disclaimer"
      },
      "source": [
        "# Построение гибких динамических моделей с использованием Subclassing API"
      ]
    },
    {
      "cell_type": "markdown",
      "id": "e19ff755",
      "metadata": {
        "id": "e19ff755"
      },
      "source": [
        "Sequential API и the Functional API являются деклоративными: сначала декларируется, какие слои будут использованы и как они должны быть соединены, и только потом можно начать передавать в модель некоторые данные. Преимуществом такого подхода является возможность легкого сохранения модели, клонирования и распространения; его структура может быть отображена и проанализирована. Keras может проинспектировать архитектуру и выявить ошибки еще до начала обучения. Так же такую модель удобно отлаживать благодаря тому, что модель в целом представляет собой статичный граф слоев. Обратная сторона этого метода – статичность. Некоторые модели включают циклы, изменчивые формы, условные ветвления и другие динамические свойства. Для таких случаев, или просто для более императивного стиля программирования, предусмотрен Subclassing API.<br>\n",
        "Создается дочерний класс, класса `Model`, в конструкторе которого создаются слои, а в методе `call()` производятся необходимые вычисления. Таким образом, создание слоев и их использование разделено. В отличие от Functional API мы здесь не создавали входные слои. Вместо этого мы передаем входные данные как аргумент в метод `call()`.<br>\n",
        "Есть один недостаток этого подхода: архитектура сети скрыта в методе `call()`, так что Keras не может проинспектировать его. Это увеличивает риск ошибок. Если нет необходимости, лучше обойтись Sequential API или Functional API."
      ]
    },
    {
      "cell_type": "code",
      "execution_count": 45,
      "id": "chubby-volume",
      "metadata": {
        "id": "chubby-volume"
      },
      "outputs": [],
      "source": [
        "\n",
        "class WideAndDeepModel(keras.Model):\n",
        "    def __init__(self, units=30, activation=\"relu\", **kwargs):\n",
        "        super().__init__(**kwargs) # передаем в конструктор суперкласса прочие аргументы\n",
        "        self.hidden_1 = keras.layers.Dense(units, activation=activation)\n",
        "        self.hidden_2 = keras.layers.Dense(units, activation=activation)\n",
        "        self.main_output = keras.layers.Dense(1)\n",
        "        self.aux_output = keras.layers.Dense(1)\n",
        "\n",
        "    def call(self, inputs):\n",
        "        input_A, input_B = inputs\n",
        "        hidden_1 = self.hidden_1(input_B)\n",
        "        hidden_2 = self.hidden_2(hidden_1)\n",
        "        concat = keras.layers.concatenate([input_A, hidden_2])\n",
        "        main_output = self.main_output(concat)\n",
        "        aux_output = self.aux_output(hidden_2)\n",
        "        return main_output, aux_output\n",
        "\n",
        "modelSub = WideAndDeepModel()"
      ]
    },
    {
      "cell_type": "markdown",
      "id": "a63beaf3",
      "metadata": {
        "id": "a63beaf3"
      },
      "source": [
        "Сами модели Keras могут быть использованы как слои, что делает возможным комбинирование моделей для построения сложных архитектур."
      ]
    },
    {
      "cell_type": "markdown",
      "id": "efficient-transaction",
      "metadata": {
        "id": "efficient-transaction"
      },
      "source": [
        "# Сохранение и загрузка модели"
      ]
    },
    {
      "cell_type": "code",
      "execution_count": 50,
      "id": "e8a06c9b",
      "metadata": {
        "id": "e8a06c9b",
        "outputId": "0451a8e9-49fa-428a-a8fc-884fc1db5ee9"
      },
      "outputs": [
        {
          "name": "stdout",
          "output_type": "stream",
          "text": [
            "162/162 [==============================] - 0s 777us/step - loss: 0.4217\n"
          ]
        }
      ],
      "source": [
        "model = keras.models.Sequential([\n",
        "    keras.layers.Dense(30, activation=\"relu\", input_shape=[8]),\n",
        "    keras.layers.Dense(30, activation=\"relu\"),\n",
        "    keras.layers.Dense(1)\n",
        "])\n",
        "model.compile(loss=\"mse\", optimizer=keras.optimizers.SGD(learning_rate=1e-3))\n",
        "history = model.fit(X_train, y_train, epochs=10, validation_data=(X_valid, y_valid))\n",
        "clear_output()\n",
        "mse_test = model.evaluate(X_test, y_test)"
      ]
    },
    {
      "cell_type": "markdown",
      "metadata": {},
      "source": [
        "Сохранение в виде HDF5 файла:"
      ]
    },
    {
      "cell_type": "code",
      "execution_count": 42,
      "id": "behavioral-clark",
      "metadata": {
        "id": "behavioral-clark"
      },
      "outputs": [
        {
          "name": "stderr",
          "output_type": "stream",
          "text": [
            "c:\\Users\\ordevoir\\miniconda3\\envs\\tf\\Lib\\site-packages\\keras\\src\\engine\\training.py:3000: UserWarning: You are saving your model as an HDF5 file via `model.save()`. This file format is considered legacy. We recommend using instead the native Keras format, e.g. `model.save('my_model.keras')`.\n",
            "  saving_api.save_model(\n"
          ]
        }
      ],
      "source": [
        "model.save('model.h5')\n",
        "model = keras.models.load_model('model.h5')"
      ]
    },
    {
      "cell_type": "markdown",
      "metadata": {},
      "source": [
        "Сохранение в виде файла keras:"
      ]
    },
    {
      "cell_type": "code",
      "execution_count": 47,
      "metadata": {},
      "outputs": [],
      "source": [
        "model.save('model.keras')\n",
        "model = keras.models.load_model('model.keras')"
      ]
    },
    {
      "cell_type": "markdown",
      "id": "28d8b2f5",
      "metadata": {
        "id": "28d8b2f5"
      },
      "source": [
        "Это работает только при использованиии Sequential API или the Functional API но не с Subclassing API. Можно использовать `save_weights()` и `load_weights()` для сохранения и загрузки параметров модели, но все остальное придется сохранять и загружать самостоятельно."
      ]
    },
    {
      "cell_type": "markdown",
      "id": "intelligent-pioneer",
      "metadata": {
        "id": "intelligent-pioneer"
      },
      "source": [
        "# Использование <a href=\"https://keras.io/api/callbacks/\">Callbacks</a>\n",
        "Callback представляет собой объект, который может производить некоторые действия на различных этапах обучения. Callbacks могут вызываться перед стартом или завершением обучения, а так же в начале (или в конце) каждой эпохи или партии и тд.\n",
        "\n",
        "При длительной тренировке больших данных может подтребоваться сохранение не только самой модели после обучения, но и сохранение **контрольных точек** (*checkpoints*) в процессе обучения, чтобы не потерять все в случае сбоев компьютера. Может возникнуть необходимость сохранять логи TensorBoard после каждой партии для мониторинга метрик. Так же callback может быть полезен для ранней остановки (early stopping) или learging rate scheduling (последнее рассмотренно в файле Deep NN).\n",
        "\n",
        "Keras предоставляет некоторое <a href=\"https://keras.io/api/callbacks/\">множество callbacks</a> в модуле `keras.callbacks`. Все эти классы наследуются от класса `Callbacks`, так что по нему можно <a href=\"https://keras.io/guides/writing_your_own_callbacks/\">создать собственный класс callback</a>, как то сделано ниже.\n",
        "\n",
        "Может быть создано неограниченное количество callbacks, и для их использования в тренировке нужно передать список объектов callbacks в аргумент `callbacks` метода `fit()`. Рассмотрим callback `ModelCheckpoint`, который сохраняет контрольные точки модели в конце каждой эпохи (по умолчанию). В конструктор класса передается имя файла. Также, если используются валидационные наборы в ходе обучения, то можно задать `save_best_only=True`, и тогда будет сохранена только модель с лучшей валидацией. В общем случае список callbacks может быть передан также и в методы `evaluate()` и `predict()` класса `keras.Model`."
      ]
    },
    {
      "cell_type": "code",
      "execution_count": 58,
      "id": "charitable-simple",
      "metadata": {
        "id": "charitable-simple"
      },
      "outputs": [],
      "source": [
        "checkpoint_cb = keras.callbacks.ModelCheckpoint('checkpoints',\n",
        "                                                # save_weights_only=True,\n",
        "                                                save_best_only=True)\n",
        "history = model.fit(X_train, y_train, epochs=10,\n",
        "                   validation_data=(X_valid, y_valid),\n",
        "                   callbacks=[checkpoint_cb])\n",
        "clear_output()"
      ]
    },
    {
      "cell_type": "code",
      "execution_count": 55,
      "id": "b07dfaa4",
      "metadata": {
        "id": "b07dfaa4"
      },
      "outputs": [],
      "source": [
        "# теперь можно загрузить обратно в программу лучшую модель:\n",
        "model = keras.models.load_model('keras_model.h5')"
      ]
    },
    {
      "cell_type": "markdown",
      "id": "81439d58",
      "metadata": {
        "id": "81439d58"
      },
      "source": [
        "Callback `EarlyStopping` прерывает обучение, когда прекращается прогресс обучения на валидационных данных, и позволяет откатить к лучшей модели. Причем нет необходимости загружать обратно модель после обучения, если задать `restore_best_weights=True`, `EarlyStopping` будет отслеживать лучшие веса и присвоит их модели по завершении.\n",
        "\n",
        "Можно использовать комбинацию этих двух рссмотренных callbacks. Это позволит сохранять контрольные точки модели (на случай, если вдруг произойдет сбой компьютера), а так же прервать обучение после того, как прогресс обучения прекратится (во избежание лишних затрат ресурсов)."
      ]
    },
    {
      "cell_type": "code",
      "execution_count": 56,
      "id": "distinguished-ocean",
      "metadata": {
        "id": "distinguished-ocean",
        "outputId": "41478f59-2c3b-4ca5-d374-4209859d335d"
      },
      "outputs": [
        {
          "name": "stdout",
          "output_type": "stream",
          "text": [
            "0.3378041684627533\n",
            "0.32977283000946045\n"
          ]
        }
      ],
      "source": [
        "early_stopping_cb = keras.callbacks.EarlyStopping(patience=10,\n",
        "                                                  restore_best_weights=True)\n",
        "history = model.fit(X_train, y_train, epochs=100,\n",
        "                    validation_data=(X_valid, y_valid),\n",
        "                    callbacks=[checkpoint_cb, early_stopping_cb])\n",
        "clear_output()\n",
        "print(history.history['loss'][-1])\n",
        "print(history.history['val_loss'][-1])"
      ]
    },
    {
      "cell_type": "markdown",
      "id": "036d7b59",
      "metadata": {
        "id": "036d7b59"
      },
      "source": [
        "При необходимости в дополнительном контроле можно написать собственный класс коллбэк наследуя класс `keras.callbacks.Callback`. Создадим коллбэк, который показывает соотношение между валидационным и тренировочным потерями в ходе обучения (т.е. регистрировать переобучение).<br> Определим метод `on_epoch_end()`, который будет вызываться при завершении каждой эпохи. Также можно определить и методы `on_train_begin()`, `on_train_end()`, `on_epoch_begin()`, `on_batch_begin()`, and `on_batch_end()`. <br>\n",
        "Коллбэки могут быть использованы также и при оценке модели и прогнозировании.<br>\n",
        "Для `evaluate()` имена методов: `on_test_begin()`, `on_test_end()`, `on_test_batch_begin()`, `on_test_batch_end()`. <br>\n",
        "Для `predict()` имена методов: `on_predict_begin()`, `on_pre dict_end()`, `on_predict_batch_begin()`, `on_predict_batch_end()`"
      ]
    },
    {
      "cell_type": "code",
      "execution_count": null,
      "id": "52f37240",
      "metadata": {
        "id": "52f37240"
      },
      "outputs": [],
      "source": [
        "class PrintValTrainRatioCallback(keras.callbacks.Callback):\n",
        "    def on_epoch_end(self, epoch, logs):\n",
        "        print(f\"\\nval/train: {logs['val_loss'] / logs['loss']}\")\n",
        "\n",
        "display_ratio_cb = PrintValTrainRatioCallback()\n",
        "\n",
        "history = model.fit(X_train, y_train, epochs=100,\n",
        "                    validation_data=(X_valid, y_valid),\n",
        "                    callbacks=[checkpoint_cb, early_stopping_cb, display_ratio_cb])\n",
        "clear_output()"
      ]
    },
    {
      "cell_type": "markdown",
      "id": "412353ab",
      "metadata": {
        "id": "412353ab"
      },
      "source": [
        "Доступ к модели можно получить в объекте класса `Callback` через поле `self.model`, хотя мы не задаем это поле явно в создаваемом на базе `Callback` классе.\n",
        "Когда происходит передача callback-объекта в метод модели `fit()`, происходит вызов метода callback-объекта `set_model()`. В этот метод передается экземпляр модели как аргумент, и метод который задает значение поля `self.model`. Для того, чтобы извлечь или установить значения в объектах tensorflow, используются функции `get_value()` и `set_value()` из модуля полезных функций `keras.backend`. Функция `get_value()` принимает тензор или переменную объекта tensorflow и возвращет массив или число NumPy. Функция `set_value()` устанавливает значение из объекта NumPy в тензор или переменную tensorflow. Первым аргументом принимает объект tensorflow, вторым – объект NumPy. Пример того, как это делается есть в файлу Deep_NNs в разделе Keras API реализация на базе `Callback`."
      ]
    },
    {
      "cell_type": "markdown",
      "id": "contrary-collaboration",
      "metadata": {
        "id": "contrary-collaboration"
      },
      "source": [
        "# Использование TensorBoard"
      ]
    },
    {
      "cell_type": "code",
      "execution_count": 57,
      "id": "aerial-blues",
      "metadata": {
        "collapsed": true,
        "id": "aerial-blues"
      },
      "outputs": [
        {
          "name": "stdout",
          "output_type": "stream",
          "text": [
            "Epoch 1/30\n",
            "363/363 [==============================] - 1s 1ms/step - loss: 0.3415 - val_loss: 0.3248\n",
            "Epoch 2/30\n",
            "363/363 [==============================] - 0s 1ms/step - loss: 0.3411 - val_loss: 0.3479\n",
            "Epoch 3/30\n",
            "363/363 [==============================] - 0s 1ms/step - loss: 0.3409 - val_loss: 0.3273\n",
            "Epoch 4/30\n",
            "363/363 [==============================] - 0s 1ms/step - loss: 0.3404 - val_loss: 0.3336\n",
            "Epoch 5/30\n",
            "363/363 [==============================] - 0s 1ms/step - loss: 0.3400 - val_loss: 0.3235\n",
            "Epoch 6/30\n",
            "363/363 [==============================] - 0s 1ms/step - loss: 0.3393 - val_loss: 0.3272\n",
            "Epoch 7/30\n",
            "363/363 [==============================] - 0s 1ms/step - loss: 0.3393 - val_loss: 0.3242\n",
            "Epoch 8/30\n",
            "363/363 [==============================] - 1s 1ms/step - loss: 0.3386 - val_loss: 0.3331\n",
            "Epoch 9/30\n",
            "363/363 [==============================] - 1s 1ms/step - loss: 0.3381 - val_loss: 0.3242\n",
            "Epoch 10/30\n",
            "363/363 [==============================] - 0s 1ms/step - loss: 0.3377 - val_loss: 0.3244\n",
            "Epoch 11/30\n",
            "363/363 [==============================] - 1s 1ms/step - loss: 0.3376 - val_loss: 0.3732\n",
            "Epoch 12/30\n",
            "363/363 [==============================] - 0s 1ms/step - loss: 0.3370 - val_loss: 0.3846\n",
            "Epoch 13/30\n",
            "363/363 [==============================] - 0s 1ms/step - loss: 0.3375 - val_loss: 0.3350\n",
            "Epoch 14/30\n",
            "363/363 [==============================] - 0s 1ms/step - loss: 0.3363 - val_loss: 0.3250\n",
            "Epoch 15/30\n",
            "363/363 [==============================] - 0s 1ms/step - loss: 0.3359 - val_loss: 0.3206\n",
            "Epoch 16/30\n",
            "363/363 [==============================] - 1s 1ms/step - loss: 0.3358 - val_loss: 0.3488\n",
            "Epoch 17/30\n",
            "363/363 [==============================] - 0s 1ms/step - loss: 0.3351 - val_loss: 0.3361\n",
            "Epoch 18/30\n",
            "363/363 [==============================] - 0s 1ms/step - loss: 0.3352 - val_loss: 0.3202\n",
            "Epoch 19/30\n",
            "363/363 [==============================] - 0s 1ms/step - loss: 0.3344 - val_loss: 0.3195\n",
            "Epoch 20/30\n",
            "363/363 [==============================] - 0s 1ms/step - loss: 0.3340 - val_loss: 0.3472\n",
            "Epoch 21/30\n",
            "363/363 [==============================] - 0s 1ms/step - loss: 0.3341 - val_loss: 0.3200\n",
            "Epoch 22/30\n",
            "363/363 [==============================] - 0s 1ms/step - loss: 0.3333 - val_loss: 0.3520\n",
            "Epoch 23/30\n",
            "363/363 [==============================] - 0s 1ms/step - loss: 0.3333 - val_loss: 0.4030\n",
            "Epoch 24/30\n",
            "363/363 [==============================] - 0s 1ms/step - loss: 0.3328 - val_loss: 0.3451\n",
            "Epoch 25/30\n",
            "363/363 [==============================] - 0s 1ms/step - loss: 0.3327 - val_loss: 0.3191\n",
            "Epoch 26/30\n",
            "363/363 [==============================] - 0s 1ms/step - loss: 0.3320 - val_loss: 0.3303\n",
            "Epoch 27/30\n",
            "363/363 [==============================] - 0s 1ms/step - loss: 0.3321 - val_loss: 0.3796\n",
            "Epoch 28/30\n",
            "363/363 [==============================] - 0s 1ms/step - loss: 0.3317 - val_loss: 0.3463\n",
            "Epoch 29/30\n",
            "363/363 [==============================] - 0s 1ms/step - loss: 0.3316 - val_loss: 0.3273\n",
            "Epoch 30/30\n",
            "363/363 [==============================] - 1s 1ms/step - loss: 0.3307 - val_loss: 0.3508\n"
          ]
        },
        {
          "data": {
            "text/html": [
              "\n",
              "      <iframe id=\"tensorboard-frame-c43f6539ec7ffb57\" width=\"100%\" height=\"800\" frameborder=\"0\">\n",
              "      </iframe>\n",
              "      <script>\n",
              "        (function() {\n",
              "          const frame = document.getElementById(\"tensorboard-frame-c43f6539ec7ffb57\");\n",
              "          const url = new URL(\"/\", window.location);\n",
              "          const port = 6006;\n",
              "          if (port) {\n",
              "            url.port = port;\n",
              "          }\n",
              "          frame.src = url;\n",
              "        })();\n",
              "      </script>\n",
              "    "
            ],
            "text/plain": [
              "<IPython.core.display.HTML object>"
            ]
          },
          "metadata": {},
          "output_type": "display_data"
        }
      ],
      "source": [
        "# для запуаска этого блока нужно компилировать model (выше)\n",
        "\n",
        "import os\n",
        "\n",
        "# получим путь к папке logs текущего в текущей директории?\n",
        "root_logdir = os.path.join(os.curdir, \"logs\")\n",
        "\n",
        "# функция будет генерировать новый путь при каждом запуске,\n",
        "# который будет содержать значение текущего времени:\n",
        "\n",
        "def get_run_logdir():\n",
        "    import time\n",
        "    run_id = time.strftime(\"run_%Y_%m_%d-%H_%M_%S\")\n",
        "    return os.path.join(root_logdir, run_id)\n",
        "\n",
        "run_logdir = get_run_logdir() # './logs/run_2021_04_09-15_15_22'\n",
        "\n",
        "# в Keras имеется специальный колбэк для TensorBoard()\n",
        "\n",
        "tensorBoard_cb = keras.callbacks.TensorBoard(run_logdir)\n",
        "history = model.fit(X_train, y_train, epochs=30,\n",
        "                    validation_data=(X_valid, y_valid),\n",
        "                    callbacks=[tensorBoard_cb])\n",
        "\n",
        "# сам же Tensorboard можно запустить прописав\n",
        "%load_ext tensorboard\n",
        "%tensorboard --logdir=./logs --port=6006\n",
        "# тогда Tensorboard будет доступен по http://localhost:6006\n",
        "# аналогичного результата можно добиться выполнив в терминале\n",
        "# tensorboard --logdir=./logs --port=6006"
      ]
    },
    {
      "cell_type": "markdown",
      "id": "auburn-waterproof",
      "metadata": {
        "id": "auburn-waterproof"
      },
      "source": [
        "# Тонкая настройка гиперпараметров сети"
      ]
    },
    {
      "cell_type": "markdown",
      "id": "executed-mambo",
      "metadata": {
        "id": "executed-mambo"
      },
      "source": [
        "При создании нейронной сети имеется большая гибкость: мы можем выбирать число слоев, число нейронов в слое, типы активации для каждого слоя и прочее. Один из способов - опробовать много комбинаций гиперпараметров и посмотреть, что лучшек работает на валидационном тесте или при кросс-валидации.\n",
        "\n",
        "В частности, можно использовать `GridSearchCV` или `RandomizedSearchCV` из библиотеки Scikit-Learn, как это сделано в end_to_end_ml_project (Geron - Chapter 2).\n",
        "Для этого необходимо обернуть модель Keras объектом, имитирующим regular Scikit-Learn regressors (Geron - Chapter 10, page 320)"
      ]
    },
    {
      "cell_type": "code",
      "execution_count": null,
      "id": "nonprofit-machinery",
      "metadata": {
        "id": "nonprofit-machinery"
      },
      "outputs": [],
      "source": [
        "# первым делом создается функция, которая будет создавать и\n",
        "# компилировать модель Keras, с полученными гиперпараметрами:\n",
        "\n",
        "def build_model(n_hidden=1, n_neurons=30, learning_rate=3e-3, input_shape=[8]):\n",
        "    model = keras.models.Sequential()\n",
        "    model.add(keras.layers.InputLayer(input_shape=input_shape))"
      ]
    }
  ],
  "metadata": {
    "colab": {
      "include_colab_link": true,
      "provenance": [],
      "toc_visible": true
    },
    "kernelspec": {
      "display_name": "tf",
      "language": "python",
      "name": "python3"
    },
    "language_info": {
      "codemirror_mode": {
        "name": "ipython",
        "version": 3
      },
      "file_extension": ".py",
      "mimetype": "text/x-python",
      "name": "python",
      "nbconvert_exporter": "python",
      "pygments_lexer": "ipython3",
      "version": "3.11.5"
    },
    "vscode": {
      "interpreter": {
        "hash": "2354c824380dd16e2f6e7897b9e57c43406bc6009f7bc4a441d059b9f9285973"
      }
    }
  },
  "nbformat": 4,
  "nbformat_minor": 5
}
